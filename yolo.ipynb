{
 "cells": [
  {
   "cell_type": "markdown",
   "metadata": {},
   "source": [
    "# Convert Masks to YOLO Annotations\n",
    "### Dataset Format for YOLO\n",
    "YOLO requires annotations in .txt files (one per image) with bounding boxes or segmentation masks. For object detection (bounding boxes), use this format:\n",
    "```bash\n",
    "0 0.5 0.5 0.2 0.3  # class_id, x_center, y_center, width, height\n",
    "1 0.7 0.3 0.1 0.1\n",
    "```\n",
    "If your masks are binary images, use OpenCV to extract bounding boxes:"
   ]
  },
  {
   "cell_type": "code",
   "execution_count": 5,
   "metadata": {},
   "outputs": [],
   "source": [
    "import cv2\n",
    "import os\n",
    "import numpy as np\n",
    "from pathlib import Path\n",
    "\n",
    "def mask_to_yolo(mask_path, output_txt_path, class_id, mode='segmentation'):\n",
    "    mask = cv2.imread(str(mask_path), cv2.IMREAD_GRAYSCALE)\n",
    "    if mask is None:\n",
    "        print(f\"Warning: Could not read mask {mask_path}\")\n",
    "        return\n",
    "    contours, _ = cv2.findContours(mask, cv2.RETR_EXTERNAL, cv2.CHAIN_APPROX_SIMPLE)\n",
    "    \n",
    "    with open(output_txt_path, 'w') as f:\n",
    "        for contour in contours:\n",
    "            if mode == 'segmentation':\n",
    "                contour = contour.squeeze()\n",
    "                if contour.ndim == 1:\n",
    "                    continue  # Skip invalid contours\n",
    "                contour_norm = contour / np.array([mask.shape[1], mask.shape[0]])\n",
    "                f.write(f\"{class_id} \" + \" \".join([f\"{x:.5f} {y:.5f}\" for x,y in contour_norm]) + \"\\n\")\n",
    "            elif mode == 'detection':\n",
    "                x, y, w, h = cv2.boundingRect(contour)\n",
    "                x_center = (x + w/2) / mask.shape[1]\n",
    "                y_center = (y + h/2) / mask.shape[0]\n",
    "                width = w / mask.shape[1]\n",
    "                height = h / mask.shape[0]\n",
    "                f.write(f\"{class_id} {x_center:.5f} {y_center:.5f} {width:.5f} {height:.5f}\\n\")\n",
    "\n",
    "# Process all splits (match your folder names: train, valid, test)\n",
    "for split in ['train', 'valid', 'test']:  # Fixed 'val' -> 'valid'\n",
    "    split_dir = Path(f'/home/user/Documents/LRS/mask/{split}')\n",
    "    image_dir = split_dir / 'images'\n",
    "    label_dir = split_dir / 'labels'\n",
    "    \n",
    "    # Create both images and labels directories\n",
    "    image_dir.mkdir(parents=True, exist_ok=True)  # Fix: Create images directory\n",
    "    label_dir.mkdir(parents=True, exist_ok=True)\n",
    "    \n",
    "    # Process all masks in the split directory\n",
    "    for mask_path in split_dir.glob('*_mask.png'):\n",
    "        # Get corresponding image (e.g., xyz_mask.png → xyz.jpg)\n",
    "        image_path = mask_path.with_name(mask_path.name.replace('_mask.png', '.jpg'))\n",
    "        \n",
    "        # Move image to images subdirectory\n",
    "        try:\n",
    "            image_path.rename(image_dir / image_path.name)\n",
    "        except FileNotFoundError:\n",
    "            print(f\"Error: Image {image_path} not found. Skipping...\")\n",
    "            continue\n",
    "        \n",
    "        # Generate YOLO annotation file\n",
    "        output_txt = label_dir / f\"{mask_path.stem.replace('_mask', '')}.txt\"\n",
    "        mask_to_yolo(mask_path, output_txt, class_id=0, mode='segmentation')  # Adjust mode as needed"
   ]
  },
  {
   "cell_type": "markdown",
   "metadata": {},
   "source": [
    "# Segmentation (YOLOv8)"
   ]
  },
  {
   "cell_type": "markdown",
   "metadata": {},
   "source": [
    "Install YOLOv8:"
   ]
  },
  {
   "cell_type": "code",
   "execution_count": 6,
   "metadata": {},
   "outputs": [
    {
     "name": "stdout",
     "output_type": "stream",
     "text": [
      "Collecting ultralytics\n",
      "  Downloading ultralytics-8.3.69-py3-none-any.whl.metadata (35 kB)\n",
      "Requirement already satisfied: numpy>=1.23.0 in ./.venv/lib/python3.12/site-packages (from ultralytics) (2.2.2)\n",
      "Requirement already satisfied: matplotlib>=3.3.0 in ./.venv/lib/python3.12/site-packages (from ultralytics) (3.10.0)\n",
      "Requirement already satisfied: opencv-python>=4.6.0 in ./.venv/lib/python3.12/site-packages (from ultralytics) (4.11.0.86)\n",
      "Requirement already satisfied: pillow>=7.1.2 in ./.venv/lib/python3.12/site-packages (from ultralytics) (11.1.0)\n",
      "Collecting pyyaml>=5.3.1 (from ultralytics)\n",
      "  Using cached PyYAML-6.0.2-cp312-cp312-manylinux_2_17_x86_64.manylinux2014_x86_64.whl.metadata (2.1 kB)\n",
      "Collecting requests>=2.23.0 (from ultralytics)\n",
      "  Using cached requests-2.32.3-py3-none-any.whl.metadata (4.6 kB)\n",
      "Requirement already satisfied: scipy>=1.4.1 in ./.venv/lib/python3.12/site-packages (from ultralytics) (1.15.1)\n",
      "Collecting torch>=1.8.0 (from ultralytics)\n",
      "  Using cached torch-2.5.1-cp312-cp312-manylinux1_x86_64.whl.metadata (28 kB)\n",
      "Collecting torchvision>=0.9.0 (from ultralytics)\n",
      "  Using cached torchvision-0.20.1-cp312-cp312-manylinux1_x86_64.whl.metadata (6.1 kB)\n",
      "Collecting tqdm>=4.64.0 (from ultralytics)\n",
      "  Using cached tqdm-4.67.1-py3-none-any.whl.metadata (57 kB)\n",
      "Requirement already satisfied: psutil in ./.venv/lib/python3.12/site-packages (from ultralytics) (6.1.1)\n",
      "Collecting py-cpuinfo (from ultralytics)\n",
      "  Downloading py_cpuinfo-9.0.0-py3-none-any.whl.metadata (794 bytes)\n",
      "Collecting pandas>=1.1.4 (from ultralytics)\n",
      "  Using cached pandas-2.2.3-cp312-cp312-manylinux_2_17_x86_64.manylinux2014_x86_64.whl.metadata (89 kB)\n",
      "Collecting seaborn>=0.11.0 (from ultralytics)\n",
      "  Using cached seaborn-0.13.2-py3-none-any.whl.metadata (5.4 kB)\n",
      "Collecting ultralytics-thop>=2.0.0 (from ultralytics)\n",
      "  Downloading ultralytics_thop-2.0.14-py3-none-any.whl.metadata (9.4 kB)\n",
      "Requirement already satisfied: contourpy>=1.0.1 in ./.venv/lib/python3.12/site-packages (from matplotlib>=3.3.0->ultralytics) (1.3.1)\n",
      "Requirement already satisfied: cycler>=0.10 in ./.venv/lib/python3.12/site-packages (from matplotlib>=3.3.0->ultralytics) (0.12.1)\n",
      "Requirement already satisfied: fonttools>=4.22.0 in ./.venv/lib/python3.12/site-packages (from matplotlib>=3.3.0->ultralytics) (4.55.6)\n",
      "Requirement already satisfied: kiwisolver>=1.3.1 in ./.venv/lib/python3.12/site-packages (from matplotlib>=3.3.0->ultralytics) (1.4.8)\n",
      "Requirement already satisfied: packaging>=20.0 in ./.venv/lib/python3.12/site-packages (from matplotlib>=3.3.0->ultralytics) (24.2)\n",
      "Requirement already satisfied: pyparsing>=2.3.1 in ./.venv/lib/python3.12/site-packages (from matplotlib>=3.3.0->ultralytics) (3.2.1)\n",
      "Requirement already satisfied: python-dateutil>=2.7 in ./.venv/lib/python3.12/site-packages (from matplotlib>=3.3.0->ultralytics) (2.9.0.post0)\n",
      "Collecting pytz>=2020.1 (from pandas>=1.1.4->ultralytics)\n",
      "  Using cached pytz-2024.2-py2.py3-none-any.whl.metadata (22 kB)\n",
      "Collecting tzdata>=2022.7 (from pandas>=1.1.4->ultralytics)\n",
      "  Using cached tzdata-2025.1-py2.py3-none-any.whl.metadata (1.4 kB)\n",
      "Collecting charset-normalizer<4,>=2 (from requests>=2.23.0->ultralytics)\n",
      "  Using cached charset_normalizer-3.4.1-cp312-cp312-manylinux_2_17_x86_64.manylinux2014_x86_64.whl.metadata (35 kB)\n",
      "Collecting idna<4,>=2.5 (from requests>=2.23.0->ultralytics)\n",
      "  Using cached idna-3.10-py3-none-any.whl.metadata (10 kB)\n",
      "Collecting urllib3<3,>=1.21.1 (from requests>=2.23.0->ultralytics)\n",
      "  Using cached urllib3-2.3.0-py3-none-any.whl.metadata (6.5 kB)\n",
      "Collecting certifi>=2017.4.17 (from requests>=2.23.0->ultralytics)\n",
      "  Using cached certifi-2024.12.14-py3-none-any.whl.metadata (2.3 kB)\n",
      "Collecting filelock (from torch>=1.8.0->ultralytics)\n",
      "  Using cached filelock-3.17.0-py3-none-any.whl.metadata (2.9 kB)\n",
      "Collecting typing-extensions>=4.8.0 (from torch>=1.8.0->ultralytics)\n",
      "  Using cached typing_extensions-4.12.2-py3-none-any.whl.metadata (3.0 kB)\n",
      "Requirement already satisfied: networkx in ./.venv/lib/python3.12/site-packages (from torch>=1.8.0->ultralytics) (3.4.2)\n",
      "Collecting jinja2 (from torch>=1.8.0->ultralytics)\n",
      "  Using cached jinja2-3.1.5-py3-none-any.whl.metadata (2.6 kB)\n",
      "Collecting fsspec (from torch>=1.8.0->ultralytics)\n",
      "  Using cached fsspec-2024.12.0-py3-none-any.whl.metadata (11 kB)\n",
      "Collecting nvidia-cuda-nvrtc-cu12==12.4.127 (from torch>=1.8.0->ultralytics)\n",
      "  Using cached nvidia_cuda_nvrtc_cu12-12.4.127-py3-none-manylinux2014_x86_64.whl.metadata (1.5 kB)\n",
      "Collecting nvidia-cuda-runtime-cu12==12.4.127 (from torch>=1.8.0->ultralytics)\n",
      "  Using cached nvidia_cuda_runtime_cu12-12.4.127-py3-none-manylinux2014_x86_64.whl.metadata (1.5 kB)\n",
      "Collecting nvidia-cuda-cupti-cu12==12.4.127 (from torch>=1.8.0->ultralytics)\n",
      "  Using cached nvidia_cuda_cupti_cu12-12.4.127-py3-none-manylinux2014_x86_64.whl.metadata (1.6 kB)\n",
      "Collecting nvidia-cudnn-cu12==9.1.0.70 (from torch>=1.8.0->ultralytics)\n",
      "  Using cached nvidia_cudnn_cu12-9.1.0.70-py3-none-manylinux2014_x86_64.whl.metadata (1.6 kB)\n",
      "Collecting nvidia-cublas-cu12==12.4.5.8 (from torch>=1.8.0->ultralytics)\n",
      "  Using cached nvidia_cublas_cu12-12.4.5.8-py3-none-manylinux2014_x86_64.whl.metadata (1.5 kB)\n",
      "Collecting nvidia-cufft-cu12==11.2.1.3 (from torch>=1.8.0->ultralytics)\n",
      "  Using cached nvidia_cufft_cu12-11.2.1.3-py3-none-manylinux2014_x86_64.whl.metadata (1.5 kB)\n",
      "Collecting nvidia-curand-cu12==10.3.5.147 (from torch>=1.8.0->ultralytics)\n",
      "  Using cached nvidia_curand_cu12-10.3.5.147-py3-none-manylinux2014_x86_64.whl.metadata (1.5 kB)\n",
      "Collecting nvidia-cusolver-cu12==11.6.1.9 (from torch>=1.8.0->ultralytics)\n",
      "  Using cached nvidia_cusolver_cu12-11.6.1.9-py3-none-manylinux2014_x86_64.whl.metadata (1.6 kB)\n",
      "Collecting nvidia-cusparse-cu12==12.3.1.170 (from torch>=1.8.0->ultralytics)\n",
      "  Using cached nvidia_cusparse_cu12-12.3.1.170-py3-none-manylinux2014_x86_64.whl.metadata (1.6 kB)\n",
      "Collecting nvidia-nccl-cu12==2.21.5 (from torch>=1.8.0->ultralytics)\n",
      "  Using cached nvidia_nccl_cu12-2.21.5-py3-none-manylinux2014_x86_64.whl.metadata (1.8 kB)\n",
      "Collecting nvidia-nvtx-cu12==12.4.127 (from torch>=1.8.0->ultralytics)\n",
      "  Using cached nvidia_nvtx_cu12-12.4.127-py3-none-manylinux2014_x86_64.whl.metadata (1.7 kB)\n",
      "Collecting nvidia-nvjitlink-cu12==12.4.127 (from torch>=1.8.0->ultralytics)\n",
      "  Using cached nvidia_nvjitlink_cu12-12.4.127-py3-none-manylinux2014_x86_64.whl.metadata (1.5 kB)\n",
      "Collecting triton==3.1.0 (from torch>=1.8.0->ultralytics)\n",
      "  Using cached triton-3.1.0-cp312-cp312-manylinux_2_17_x86_64.manylinux2014_x86_64.whl.metadata (1.3 kB)\n",
      "Collecting setuptools (from torch>=1.8.0->ultralytics)\n",
      "  Using cached setuptools-75.8.0-py3-none-any.whl.metadata (6.7 kB)\n",
      "Collecting sympy==1.13.1 (from torch>=1.8.0->ultralytics)\n",
      "  Using cached sympy-1.13.1-py3-none-any.whl.metadata (12 kB)\n",
      "Collecting mpmath<1.4,>=1.1.0 (from sympy==1.13.1->torch>=1.8.0->ultralytics)\n",
      "  Using cached mpmath-1.3.0-py3-none-any.whl.metadata (8.6 kB)\n",
      "Requirement already satisfied: six>=1.5 in ./.venv/lib/python3.12/site-packages (from python-dateutil>=2.7->matplotlib>=3.3.0->ultralytics) (1.17.0)\n",
      "Collecting MarkupSafe>=2.0 (from jinja2->torch>=1.8.0->ultralytics)\n",
      "  Using cached MarkupSafe-3.0.2-cp312-cp312-manylinux_2_17_x86_64.manylinux2014_x86_64.whl.metadata (4.0 kB)\n",
      "Downloading ultralytics-8.3.69-py3-none-any.whl (914 kB)\n",
      "\u001b[2K   \u001b[90m━━━━━━━━━━━━━━━━━━━━━━━━━━━━━━━━━━━━━━━━\u001b[0m \u001b[32m914.6/914.6 kB\u001b[0m \u001b[31m1.8 MB/s\u001b[0m eta \u001b[36m0:00:00\u001b[0ma \u001b[36m0:00:01\u001b[0m\n",
      "\u001b[?25hUsing cached pandas-2.2.3-cp312-cp312-manylinux_2_17_x86_64.manylinux2014_x86_64.whl (12.7 MB)\n",
      "Using cached PyYAML-6.0.2-cp312-cp312-manylinux_2_17_x86_64.manylinux2014_x86_64.whl (767 kB)\n",
      "Using cached requests-2.32.3-py3-none-any.whl (64 kB)\n",
      "Using cached seaborn-0.13.2-py3-none-any.whl (294 kB)\n",
      "Using cached torch-2.5.1-cp312-cp312-manylinux1_x86_64.whl (906.4 MB)\n",
      "Using cached nvidia_cublas_cu12-12.4.5.8-py3-none-manylinux2014_x86_64.whl (363.4 MB)\n",
      "Using cached nvidia_cuda_cupti_cu12-12.4.127-py3-none-manylinux2014_x86_64.whl (13.8 MB)\n",
      "Using cached nvidia_cuda_nvrtc_cu12-12.4.127-py3-none-manylinux2014_x86_64.whl (24.6 MB)\n",
      "Using cached nvidia_cuda_runtime_cu12-12.4.127-py3-none-manylinux2014_x86_64.whl (883 kB)\n",
      "Using cached nvidia_cudnn_cu12-9.1.0.70-py3-none-manylinux2014_x86_64.whl (664.8 MB)\n",
      "Using cached nvidia_cufft_cu12-11.2.1.3-py3-none-manylinux2014_x86_64.whl (211.5 MB)\n",
      "Using cached nvidia_curand_cu12-10.3.5.147-py3-none-manylinux2014_x86_64.whl (56.3 MB)\n",
      "Using cached nvidia_cusolver_cu12-11.6.1.9-py3-none-manylinux2014_x86_64.whl (127.9 MB)\n",
      "Using cached nvidia_cusparse_cu12-12.3.1.170-py3-none-manylinux2014_x86_64.whl (207.5 MB)\n",
      "Using cached nvidia_nccl_cu12-2.21.5-py3-none-manylinux2014_x86_64.whl (188.7 MB)\n",
      "Using cached nvidia_nvjitlink_cu12-12.4.127-py3-none-manylinux2014_x86_64.whl (21.1 MB)\n",
      "Using cached nvidia_nvtx_cu12-12.4.127-py3-none-manylinux2014_x86_64.whl (99 kB)\n",
      "Using cached sympy-1.13.1-py3-none-any.whl (6.2 MB)\n",
      "Using cached triton-3.1.0-cp312-cp312-manylinux_2_17_x86_64.manylinux2014_x86_64.whl (209.6 MB)\n",
      "Using cached torchvision-0.20.1-cp312-cp312-manylinux1_x86_64.whl (7.2 MB)\n",
      "Using cached tqdm-4.67.1-py3-none-any.whl (78 kB)\n",
      "Downloading ultralytics_thop-2.0.14-py3-none-any.whl (26 kB)\n",
      "Downloading py_cpuinfo-9.0.0-py3-none-any.whl (22 kB)\n",
      "Using cached certifi-2024.12.14-py3-none-any.whl (164 kB)\n",
      "Using cached charset_normalizer-3.4.1-cp312-cp312-manylinux_2_17_x86_64.manylinux2014_x86_64.whl (145 kB)\n",
      "Using cached idna-3.10-py3-none-any.whl (70 kB)\n",
      "Using cached pytz-2024.2-py2.py3-none-any.whl (508 kB)\n",
      "Using cached typing_extensions-4.12.2-py3-none-any.whl (37 kB)\n",
      "Using cached tzdata-2025.1-py2.py3-none-any.whl (346 kB)\n",
      "Using cached urllib3-2.3.0-py3-none-any.whl (128 kB)\n",
      "Using cached filelock-3.17.0-py3-none-any.whl (16 kB)\n",
      "Using cached fsspec-2024.12.0-py3-none-any.whl (183 kB)\n",
      "Using cached jinja2-3.1.5-py3-none-any.whl (134 kB)\n",
      "Using cached setuptools-75.8.0-py3-none-any.whl (1.2 MB)\n",
      "Using cached MarkupSafe-3.0.2-cp312-cp312-manylinux_2_17_x86_64.manylinux2014_x86_64.whl (23 kB)\n",
      "Using cached mpmath-1.3.0-py3-none-any.whl (536 kB)\n",
      "Installing collected packages: pytz, py-cpuinfo, mpmath, urllib3, tzdata, typing-extensions, tqdm, sympy, setuptools, pyyaml, nvidia-nvtx-cu12, nvidia-nvjitlink-cu12, nvidia-nccl-cu12, nvidia-curand-cu12, nvidia-cufft-cu12, nvidia-cuda-runtime-cu12, nvidia-cuda-nvrtc-cu12, nvidia-cuda-cupti-cu12, nvidia-cublas-cu12, MarkupSafe, idna, fsspec, filelock, charset-normalizer, certifi, triton, requests, pandas, nvidia-cusparse-cu12, nvidia-cudnn-cu12, jinja2, seaborn, nvidia-cusolver-cu12, torch, ultralytics-thop, torchvision, ultralytics\n",
      "Successfully installed MarkupSafe-3.0.2 certifi-2024.12.14 charset-normalizer-3.4.1 filelock-3.17.0 fsspec-2024.12.0 idna-3.10 jinja2-3.1.5 mpmath-1.3.0 nvidia-cublas-cu12-12.4.5.8 nvidia-cuda-cupti-cu12-12.4.127 nvidia-cuda-nvrtc-cu12-12.4.127 nvidia-cuda-runtime-cu12-12.4.127 nvidia-cudnn-cu12-9.1.0.70 nvidia-cufft-cu12-11.2.1.3 nvidia-curand-cu12-10.3.5.147 nvidia-cusolver-cu12-11.6.1.9 nvidia-cusparse-cu12-12.3.1.170 nvidia-nccl-cu12-2.21.5 nvidia-nvjitlink-cu12-12.4.127 nvidia-nvtx-cu12-12.4.127 pandas-2.2.3 py-cpuinfo-9.0.0 pytz-2024.2 pyyaml-6.0.2 requests-2.32.3 seaborn-0.13.2 setuptools-75.8.0 sympy-1.13.1 torch-2.5.1 torchvision-0.20.1 tqdm-4.67.1 triton-3.1.0 typing-extensions-4.12.2 tzdata-2025.1 ultralytics-8.3.69 ultralytics-thop-2.0.14 urllib3-2.3.0\n"
     ]
    }
   ],
   "source": [
    "!pip3 install ultralytics"
   ]
  },
  {
   "cell_type": "markdown",
   "metadata": {},
   "source": [
    "## Training Code"
   ]
  },
  {
   "cell_type": "code",
   "execution_count": 8,
   "metadata": {},
   "outputs": [
    {
     "name": "stdout",
     "output_type": "stream",
     "text": [
      "Ultralytics 8.3.69 🚀 Python-3.12.8 torch-2.5.1+cu124 CUDA:0 (NVIDIA GeForce RTX 4060 Laptop GPU, 7940MiB)\n",
      "\u001b[34m\u001b[1mengine/trainer: \u001b[0mtask=segment, mode=train, model=yolov8n-seg.pt, data=/home/user/Documents/LRS/data.yaml, epochs=50, time=None, patience=100, batch=16, imgsz=640, save=True, save_period=-1, cache=False, device=None, workers=8, project=None, name=train2, exist_ok=False, pretrained=True, optimizer=auto, verbose=True, seed=0, deterministic=True, single_cls=False, rect=False, cos_lr=False, close_mosaic=10, resume=False, amp=True, fraction=1.0, profile=False, freeze=None, multi_scale=False, overlap_mask=True, mask_ratio=4, dropout=0.0, val=True, split=val, save_json=False, save_hybrid=False, conf=None, iou=0.7, max_det=300, half=False, dnn=False, plots=True, source=None, vid_stride=1, stream_buffer=False, visualize=False, augment=False, agnostic_nms=False, classes=None, retina_masks=False, embed=None, show=False, save_frames=False, save_txt=False, save_conf=False, save_crop=False, show_labels=True, show_conf=True, show_boxes=True, line_width=None, format=torchscript, keras=False, optimize=False, int8=False, dynamic=False, simplify=True, opset=None, workspace=None, nms=False, lr0=0.01, lrf=0.01, momentum=0.937, weight_decay=0.0005, warmup_epochs=3.0, warmup_momentum=0.8, warmup_bias_lr=0.1, box=7.5, cls=0.5, dfl=1.5, pose=12.0, kobj=1.0, nbs=64, hsv_h=0.015, hsv_s=0.7, hsv_v=0.4, degrees=0.0, translate=0.1, scale=0.5, shear=0.0, perspective=0.0, flipud=0.0, fliplr=0.5, bgr=0.0, mosaic=1.0, mixup=0.0, copy_paste=0.0, copy_paste_mode=flip, auto_augment=randaugment, erasing=0.4, crop_fraction=1.0, cfg=None, tracker=botsort.yaml, save_dir=/home/user/Documents/RSI/runs/segment/train2\n",
      "Overriding model.yaml nc=80 with nc=2\n",
      "\n",
      "                   from  n    params  module                                       arguments                     \n",
      "  0                  -1  1       464  ultralytics.nn.modules.conv.Conv             [3, 16, 3, 2]                 \n",
      "  1                  -1  1      4672  ultralytics.nn.modules.conv.Conv             [16, 32, 3, 2]                \n",
      "  2                  -1  1      7360  ultralytics.nn.modules.block.C2f             [32, 32, 1, True]             \n",
      "  3                  -1  1     18560  ultralytics.nn.modules.conv.Conv             [32, 64, 3, 2]                \n",
      "  4                  -1  2     49664  ultralytics.nn.modules.block.C2f             [64, 64, 2, True]             \n",
      "  5                  -1  1     73984  ultralytics.nn.modules.conv.Conv             [64, 128, 3, 2]               \n",
      "  6                  -1  2    197632  ultralytics.nn.modules.block.C2f             [128, 128, 2, True]           \n",
      "  7                  -1  1    295424  ultralytics.nn.modules.conv.Conv             [128, 256, 3, 2]              \n",
      "  8                  -1  1    460288  ultralytics.nn.modules.block.C2f             [256, 256, 1, True]           \n",
      "  9                  -1  1    164608  ultralytics.nn.modules.block.SPPF            [256, 256, 5]                 \n",
      " 10                  -1  1         0  torch.nn.modules.upsampling.Upsample         [None, 2, 'nearest']          \n",
      " 11             [-1, 6]  1         0  ultralytics.nn.modules.conv.Concat           [1]                           \n",
      " 12                  -1  1    148224  ultralytics.nn.modules.block.C2f             [384, 128, 1]                 \n",
      " 13                  -1  1         0  torch.nn.modules.upsampling.Upsample         [None, 2, 'nearest']          \n",
      " 14             [-1, 4]  1         0  ultralytics.nn.modules.conv.Concat           [1]                           \n",
      " 15                  -1  1     37248  ultralytics.nn.modules.block.C2f             [192, 64, 1]                  \n",
      " 16                  -1  1     36992  ultralytics.nn.modules.conv.Conv             [64, 64, 3, 2]                \n",
      " 17            [-1, 12]  1         0  ultralytics.nn.modules.conv.Concat           [1]                           \n",
      " 18                  -1  1    123648  ultralytics.nn.modules.block.C2f             [192, 128, 1]                 \n",
      " 19                  -1  1    147712  ultralytics.nn.modules.conv.Conv             [128, 128, 3, 2]              \n",
      " 20             [-1, 9]  1         0  ultralytics.nn.modules.conv.Concat           [1]                           \n",
      " 21                  -1  1    493056  ultralytics.nn.modules.block.C2f             [384, 256, 1]                 \n",
      " 22        [15, 18, 21]  1   1004470  ultralytics.nn.modules.head.Segment          [2, 32, 64, [64, 128, 256]]   \n",
      "YOLOv8n-seg summary: 261 layers, 3,264,006 parameters, 3,263,990 gradients, 12.1 GFLOPs\n",
      "\n",
      "Transferred 381/417 items from pretrained weights\n",
      "Freezing layer 'model.22.dfl.conv.weight'\n",
      "\u001b[34m\u001b[1mAMP: \u001b[0mrunning Automatic Mixed Precision (AMP) checks...\n",
      "Downloading https://github.com/ultralytics/assets/releases/download/v8.3.0/yolo11n.pt to 'yolo11n.pt'...\n"
     ]
    },
    {
     "name": "stderr",
     "output_type": "stream",
     "text": [
      "100%|██████████| 5.35M/5.35M [01:12<00:00, 77.9kB/s]\n"
     ]
    },
    {
     "name": "stdout",
     "output_type": "stream",
     "text": [
      "\u001b[34m\u001b[1mAMP: \u001b[0mchecks passed ✅\n"
     ]
    },
    {
     "name": "stderr",
     "output_type": "stream",
     "text": [
      "\u001b[34m\u001b[1mtrain: \u001b[0mScanning /home/user/Documents/LRS/mask/train/labels... 105 images, 0 backgrounds, 0 corrupt: 100%|██████████| 105/105 [00:00<00:00, 2171.97it/s]"
     ]
    },
    {
     "name": "stdout",
     "output_type": "stream",
     "text": [
      "\u001b[34m\u001b[1mtrain: \u001b[0mNew cache created: /home/user/Documents/LRS/mask/train/labels.cache\n"
     ]
    },
    {
     "name": "stderr",
     "output_type": "stream",
     "text": [
      "\n",
      "\u001b[34m\u001b[1mval: \u001b[0mScanning /home/user/Documents/LRS/mask/valid/labels... 11 images, 0 backgrounds, 0 corrupt: 100%|██████████| 11/11 [00:00<00:00, 1050.06it/s]"
     ]
    },
    {
     "name": "stdout",
     "output_type": "stream",
     "text": [
      "\u001b[34m\u001b[1mval: \u001b[0mNew cache created: /home/user/Documents/LRS/mask/valid/labels.cache\n"
     ]
    },
    {
     "name": "stderr",
     "output_type": "stream",
     "text": [
      "\n"
     ]
    },
    {
     "name": "stdout",
     "output_type": "stream",
     "text": [
      "Plotting labels to /home/user/Documents/RSI/runs/segment/train2/labels.jpg... \n",
      "\u001b[34m\u001b[1moptimizer:\u001b[0m 'optimizer=auto' found, ignoring 'lr0=0.01' and 'momentum=0.937' and determining best 'optimizer', 'lr0' and 'momentum' automatically... \n",
      "\u001b[34m\u001b[1moptimizer:\u001b[0m AdamW(lr=0.001667, momentum=0.9) with parameter groups 66 weight(decay=0.0), 77 weight(decay=0.0005), 76 bias(decay=0.0)\n",
      "Image sizes 640 train, 640 val\n",
      "Using 8 dataloader workers\n",
      "Logging results to \u001b[1m/home/user/Documents/RSI/runs/segment/train2\u001b[0m\n",
      "Starting training for 50 epochs...\n",
      "\n",
      "      Epoch    GPU_mem   box_loss   seg_loss   cls_loss   dfl_loss  Instances       Size\n"
     ]
    },
    {
     "name": "stderr",
     "output_type": "stream",
     "text": [
      "       1/50      3.18G      3.047      6.912      3.904      2.451        100        640: 100%|██████████| 7/7 [00:01<00:00,  3.95it/s]\n",
      "                 Class     Images  Instances      Box(P          R      mAP50  mAP50-95)     Mask(P          R      mAP50  mAP50-95): 100%|██████████| 1/1 [00:00<00:00,  8.47it/s]"
     ]
    },
    {
     "name": "stdout",
     "output_type": "stream",
     "text": [
      "                   all         11         54    0.00399       0.13    0.00454    0.00113    0.00114      0.037   0.000614   0.000185\n"
     ]
    },
    {
     "name": "stderr",
     "output_type": "stream",
     "text": [
      "\n"
     ]
    },
    {
     "name": "stdout",
     "output_type": "stream",
     "text": [
      "\n",
      "      Epoch    GPU_mem   box_loss   seg_loss   cls_loss   dfl_loss  Instances       Size\n"
     ]
    },
    {
     "name": "stderr",
     "output_type": "stream",
     "text": [
      "       2/50      2.85G       2.74      4.045      3.767      2.206         91        640: 100%|██████████| 7/7 [00:01<00:00,  6.95it/s]\n",
      "                 Class     Images  Instances      Box(P          R      mAP50  mAP50-95)     Mask(P          R      mAP50  mAP50-95): 100%|██████████| 1/1 [00:00<00:00, 12.08it/s]"
     ]
    },
    {
     "name": "stdout",
     "output_type": "stream",
     "text": [
      "                   all         11         54    0.00729      0.222     0.0131    0.00376    0.00851      0.259    0.00791    0.00278\n"
     ]
    },
    {
     "name": "stderr",
     "output_type": "stream",
     "text": [
      "\n"
     ]
    },
    {
     "name": "stdout",
     "output_type": "stream",
     "text": [
      "\n",
      "      Epoch    GPU_mem   box_loss   seg_loss   cls_loss   dfl_loss  Instances       Size\n"
     ]
    },
    {
     "name": "stderr",
     "output_type": "stream",
     "text": [
      "       3/50      2.98G      2.195      2.448      3.124      1.842         76        640: 100%|██████████| 7/7 [00:01<00:00,  6.94it/s]\n",
      "                 Class     Images  Instances      Box(P          R      mAP50  mAP50-95)     Mask(P          R      mAP50  mAP50-95): 100%|██████████| 1/1 [00:00<00:00, 13.15it/s]"
     ]
    },
    {
     "name": "stdout",
     "output_type": "stream",
     "text": [
      "                   all         11         54     0.0134      0.444     0.0198    0.00488     0.0117      0.389      0.021    0.00643\n"
     ]
    },
    {
     "name": "stderr",
     "output_type": "stream",
     "text": [
      "\n"
     ]
    },
    {
     "name": "stdout",
     "output_type": "stream",
     "text": [
      "\n",
      "      Epoch    GPU_mem   box_loss   seg_loss   cls_loss   dfl_loss  Instances       Size\n"
     ]
    },
    {
     "name": "stderr",
     "output_type": "stream",
     "text": [
      "       4/50       2.9G      2.009      2.098      2.625      1.708         84        640: 100%|██████████| 7/7 [00:00<00:00,  7.23it/s]\n",
      "                 Class     Images  Instances      Box(P          R      mAP50  mAP50-95)     Mask(P          R      mAP50  mAP50-95): 100%|██████████| 1/1 [00:00<00:00, 12.54it/s]"
     ]
    },
    {
     "name": "stdout",
     "output_type": "stream",
     "text": [
      "                   all         11         54     0.0159      0.556      0.113     0.0336     0.0133      0.463      0.115     0.0307\n"
     ]
    },
    {
     "name": "stderr",
     "output_type": "stream",
     "text": [
      "\n"
     ]
    },
    {
     "name": "stdout",
     "output_type": "stream",
     "text": [
      "\n",
      "      Epoch    GPU_mem   box_loss   seg_loss   cls_loss   dfl_loss  Instances       Size\n"
     ]
    },
    {
     "name": "stderr",
     "output_type": "stream",
     "text": [
      "       5/50      2.95G      1.955      1.856      2.389      1.715         69        640: 100%|██████████| 7/7 [00:00<00:00,  7.08it/s]\n",
      "                 Class     Images  Instances      Box(P          R      mAP50  mAP50-95)     Mask(P          R      mAP50  mAP50-95): 100%|██████████| 1/1 [00:00<00:00, 12.36it/s]"
     ]
    },
    {
     "name": "stdout",
     "output_type": "stream",
     "text": [
      "                   all         11         54      0.017      0.519        0.1     0.0331     0.0152      0.463     0.0978     0.0322\n"
     ]
    },
    {
     "name": "stderr",
     "output_type": "stream",
     "text": [
      "\n"
     ]
    },
    {
     "name": "stdout",
     "output_type": "stream",
     "text": [
      "\n",
      "      Epoch    GPU_mem   box_loss   seg_loss   cls_loss   dfl_loss  Instances       Size\n"
     ]
    },
    {
     "name": "stderr",
     "output_type": "stream",
     "text": [
      "       6/50      2.94G      1.847       1.62      2.208      1.656         68        640: 100%|██████████| 7/7 [00:00<00:00,  7.27it/s]\n",
      "                 Class     Images  Instances      Box(P          R      mAP50  mAP50-95)     Mask(P          R      mAP50  mAP50-95): 100%|██████████| 1/1 [00:00<00:00, 11.50it/s]"
     ]
    },
    {
     "name": "stdout",
     "output_type": "stream",
     "text": [
      "                   all         11         54     0.0245      0.667     0.0809     0.0274     0.0204      0.556     0.0818      0.028\n"
     ]
    },
    {
     "name": "stderr",
     "output_type": "stream",
     "text": [
      "\n"
     ]
    },
    {
     "name": "stdout",
     "output_type": "stream",
     "text": [
      "\n",
      "      Epoch    GPU_mem   box_loss   seg_loss   cls_loss   dfl_loss  Instances       Size\n"
     ]
    },
    {
     "name": "stderr",
     "output_type": "stream",
     "text": [
      "       7/50      2.88G      1.872      1.556      2.088      1.627         76        640: 100%|██████████| 7/7 [00:00<00:00,  7.31it/s]\n",
      "                 Class     Images  Instances      Box(P          R      mAP50  mAP50-95)     Mask(P          R      mAP50  mAP50-95): 100%|██████████| 1/1 [00:00<00:00, 10.98it/s]"
     ]
    },
    {
     "name": "stdout",
     "output_type": "stream",
     "text": [
      "                   all         11         54      0.085      0.389     0.0667     0.0247     0.0369       0.63     0.0527     0.0173\n"
     ]
    },
    {
     "name": "stderr",
     "output_type": "stream",
     "text": [
      "\n"
     ]
    },
    {
     "name": "stdout",
     "output_type": "stream",
     "text": [
      "\n",
      "      Epoch    GPU_mem   box_loss   seg_loss   cls_loss   dfl_loss  Instances       Size\n"
     ]
    },
    {
     "name": "stderr",
     "output_type": "stream",
     "text": [
      "       8/50      2.92G       1.83      1.486      1.976      1.584         76        640: 100%|██████████| 7/7 [00:00<00:00,  7.27it/s]\n",
      "                 Class     Images  Instances      Box(P          R      mAP50  mAP50-95)     Mask(P          R      mAP50  mAP50-95): 100%|██████████| 1/1 [00:00<00:00, 11.00it/s]"
     ]
    },
    {
     "name": "stdout",
     "output_type": "stream",
     "text": [
      "                   all         11         54      0.145       0.16     0.0749     0.0263      0.178      0.185     0.0741     0.0208\n"
     ]
    },
    {
     "name": "stderr",
     "output_type": "stream",
     "text": [
      "\n"
     ]
    },
    {
     "name": "stdout",
     "output_type": "stream",
     "text": [
      "\n",
      "      Epoch    GPU_mem   box_loss   seg_loss   cls_loss   dfl_loss  Instances       Size\n"
     ]
    },
    {
     "name": "stderr",
     "output_type": "stream",
     "text": [
      "       9/50      2.93G      1.677      1.479       1.84      1.515         81        640: 100%|██████████| 7/7 [00:00<00:00,  7.16it/s]\n",
      "                 Class     Images  Instances      Box(P          R      mAP50  mAP50-95)     Mask(P          R      mAP50  mAP50-95): 100%|██████████| 1/1 [00:00<00:00, 11.11it/s]"
     ]
    },
    {
     "name": "stdout",
     "output_type": "stream",
     "text": [
      "                   all         11         54      0.255      0.152       0.17     0.0732      0.233      0.148      0.135     0.0582\n"
     ]
    },
    {
     "name": "stderr",
     "output_type": "stream",
     "text": [
      "\n"
     ]
    },
    {
     "name": "stdout",
     "output_type": "stream",
     "text": [
      "\n",
      "      Epoch    GPU_mem   box_loss   seg_loss   cls_loss   dfl_loss  Instances       Size\n"
     ]
    },
    {
     "name": "stderr",
     "output_type": "stream",
     "text": [
      "      10/50      2.96G      1.695      1.341       1.77      1.529         86        640: 100%|██████████| 7/7 [00:00<00:00,  7.05it/s]\n",
      "                 Class     Images  Instances      Box(P          R      mAP50  mAP50-95)     Mask(P          R      mAP50  mAP50-95): 100%|██████████| 1/1 [00:00<00:00, 12.41it/s]"
     ]
    },
    {
     "name": "stdout",
     "output_type": "stream",
     "text": [
      "                   all         11         54      0.427      0.204      0.255      0.115      0.476      0.202      0.249      0.111\n"
     ]
    },
    {
     "name": "stderr",
     "output_type": "stream",
     "text": [
      "\n"
     ]
    },
    {
     "name": "stdout",
     "output_type": "stream",
     "text": [
      "\n",
      "      Epoch    GPU_mem   box_loss   seg_loss   cls_loss   dfl_loss  Instances       Size\n"
     ]
    },
    {
     "name": "stderr",
     "output_type": "stream",
     "text": [
      "      11/50      2.87G      1.698      1.372      1.756      1.492        116        640: 100%|██████████| 7/7 [00:00<00:00,  7.26it/s]\n",
      "                 Class     Images  Instances      Box(P          R      mAP50  mAP50-95)     Mask(P          R      mAP50  mAP50-95): 100%|██████████| 1/1 [00:00<00:00, 12.34it/s]"
     ]
    },
    {
     "name": "stdout",
     "output_type": "stream",
     "text": [
      "                   all         11         54      0.442       0.25      0.259      0.113      0.439      0.241      0.248      0.112\n"
     ]
    },
    {
     "name": "stderr",
     "output_type": "stream",
     "text": [
      "\n"
     ]
    },
    {
     "name": "stdout",
     "output_type": "stream",
     "text": [
      "\n",
      "      Epoch    GPU_mem   box_loss   seg_loss   cls_loss   dfl_loss  Instances       Size\n"
     ]
    },
    {
     "name": "stderr",
     "output_type": "stream",
     "text": [
      "      12/50      2.88G      1.621      1.255      1.746      1.455         59        640: 100%|██████████| 7/7 [00:00<00:00,  7.34it/s]\n",
      "                 Class     Images  Instances      Box(P          R      mAP50  mAP50-95)     Mask(P          R      mAP50  mAP50-95): 100%|██████████| 1/1 [00:00<00:00, 11.57it/s]"
     ]
    },
    {
     "name": "stdout",
     "output_type": "stream",
     "text": [
      "                   all         11         54      0.321      0.222      0.233     0.0932      0.278      0.204      0.215     0.0938\n"
     ]
    },
    {
     "name": "stderr",
     "output_type": "stream",
     "text": [
      "\n"
     ]
    },
    {
     "name": "stdout",
     "output_type": "stream",
     "text": [
      "\n",
      "      Epoch    GPU_mem   box_loss   seg_loss   cls_loss   dfl_loss  Instances       Size\n"
     ]
    },
    {
     "name": "stderr",
     "output_type": "stream",
     "text": [
      "      13/50      2.91G      1.656      1.281      1.678       1.46         75        640: 100%|██████████| 7/7 [00:00<00:00,  7.45it/s]\n",
      "                 Class     Images  Instances      Box(P          R      mAP50  mAP50-95)     Mask(P          R      mAP50  mAP50-95): 100%|██████████| 1/1 [00:00<00:00, 12.69it/s]"
     ]
    },
    {
     "name": "stdout",
     "output_type": "stream",
     "text": [
      "                   all         11         54      0.344      0.315      0.247      0.112      0.364      0.333      0.233      0.106\n"
     ]
    },
    {
     "name": "stderr",
     "output_type": "stream",
     "text": [
      "\n"
     ]
    },
    {
     "name": "stdout",
     "output_type": "stream",
     "text": [
      "\n",
      "      Epoch    GPU_mem   box_loss   seg_loss   cls_loss   dfl_loss  Instances       Size\n"
     ]
    },
    {
     "name": "stderr",
     "output_type": "stream",
     "text": [
      "      14/50      2.97G       1.56        1.3      1.612      1.416         92        640: 100%|██████████| 7/7 [00:00<00:00,  7.25it/s]\n",
      "                 Class     Images  Instances      Box(P          R      mAP50  mAP50-95)     Mask(P          R      mAP50  mAP50-95): 100%|██████████| 1/1 [00:00<00:00, 12.77it/s]"
     ]
    },
    {
     "name": "stdout",
     "output_type": "stream",
     "text": [
      "                   all         11         54      0.307      0.296      0.223     0.0907      0.288      0.278      0.196     0.0744\n"
     ]
    },
    {
     "name": "stderr",
     "output_type": "stream",
     "text": [
      "\n"
     ]
    },
    {
     "name": "stdout",
     "output_type": "stream",
     "text": [
      "\n",
      "      Epoch    GPU_mem   box_loss   seg_loss   cls_loss   dfl_loss  Instances       Size\n"
     ]
    },
    {
     "name": "stderr",
     "output_type": "stream",
     "text": [
      "      15/50      3.02G      1.604      1.332      1.622      1.458         83        640: 100%|██████████| 7/7 [00:00<00:00,  7.25it/s]\n",
      "                 Class     Images  Instances      Box(P          R      mAP50  mAP50-95)     Mask(P          R      mAP50  mAP50-95): 100%|██████████| 1/1 [00:00<00:00, 13.27it/s]"
     ]
    },
    {
     "name": "stdout",
     "output_type": "stream",
     "text": [
      "                   all         11         54      0.491      0.315      0.273      0.137      0.493      0.315      0.266      0.132\n"
     ]
    },
    {
     "name": "stderr",
     "output_type": "stream",
     "text": [
      "\n"
     ]
    },
    {
     "name": "stdout",
     "output_type": "stream",
     "text": [
      "\n",
      "      Epoch    GPU_mem   box_loss   seg_loss   cls_loss   dfl_loss  Instances       Size\n"
     ]
    },
    {
     "name": "stderr",
     "output_type": "stream",
     "text": [
      "      16/50      2.97G      1.534      1.317      1.601      1.395         60        640: 100%|██████████| 7/7 [00:00<00:00,  7.35it/s]\n",
      "                 Class     Images  Instances      Box(P          R      mAP50  mAP50-95)     Mask(P          R      mAP50  mAP50-95): 100%|██████████| 1/1 [00:00<00:00, 12.74it/s]"
     ]
    },
    {
     "name": "stdout",
     "output_type": "stream",
     "text": [
      "                   all         11         54      0.406      0.296       0.28       0.16      0.407      0.352      0.332       0.16\n"
     ]
    },
    {
     "name": "stderr",
     "output_type": "stream",
     "text": [
      "\n"
     ]
    },
    {
     "name": "stdout",
     "output_type": "stream",
     "text": [
      "\n",
      "      Epoch    GPU_mem   box_loss   seg_loss   cls_loss   dfl_loss  Instances       Size\n"
     ]
    },
    {
     "name": "stderr",
     "output_type": "stream",
     "text": [
      "      17/50      2.95G      1.609      1.301      1.597      1.438         72        640: 100%|██████████| 7/7 [00:00<00:00,  7.42it/s]\n",
      "                 Class     Images  Instances      Box(P          R      mAP50  mAP50-95)     Mask(P          R      mAP50  mAP50-95): 100%|██████████| 1/1 [00:00<00:00, 12.58it/s]"
     ]
    },
    {
     "name": "stdout",
     "output_type": "stream",
     "text": [
      "                   all         11         54       0.41       0.36      0.325      0.149      0.431       0.37       0.33      0.144\n"
     ]
    },
    {
     "name": "stderr",
     "output_type": "stream",
     "text": [
      "\n"
     ]
    },
    {
     "name": "stdout",
     "output_type": "stream",
     "text": [
      "\n",
      "      Epoch    GPU_mem   box_loss   seg_loss   cls_loss   dfl_loss  Instances       Size\n"
     ]
    },
    {
     "name": "stderr",
     "output_type": "stream",
     "text": [
      "      18/50      2.83G      1.519      1.277      1.532      1.413        104        640: 100%|██████████| 7/7 [00:00<00:00,  7.41it/s]\n",
      "                 Class     Images  Instances      Box(P          R      mAP50  mAP50-95)     Mask(P          R      mAP50  mAP50-95): 100%|██████████| 1/1 [00:00<00:00, 12.93it/s]"
     ]
    },
    {
     "name": "stdout",
     "output_type": "stream",
     "text": [
      "                   all         11         54      0.495      0.296      0.338      0.195      0.495      0.296      0.336      0.165\n"
     ]
    },
    {
     "name": "stderr",
     "output_type": "stream",
     "text": [
      "\n"
     ]
    },
    {
     "name": "stdout",
     "output_type": "stream",
     "text": [
      "\n",
      "      Epoch    GPU_mem   box_loss   seg_loss   cls_loss   dfl_loss  Instances       Size\n"
     ]
    },
    {
     "name": "stderr",
     "output_type": "stream",
     "text": [
      "      19/50      2.84G      1.534      1.271      1.525      1.422        104        640: 100%|██████████| 7/7 [00:00<00:00,  7.37it/s]\n",
      "                 Class     Images  Instances      Box(P          R      mAP50  mAP50-95)     Mask(P          R      mAP50  mAP50-95): 100%|██████████| 1/1 [00:00<00:00, 13.08it/s]"
     ]
    },
    {
     "name": "stdout",
     "output_type": "stream",
     "text": [
      "                   all         11         54       0.43      0.259      0.289      0.172      0.413      0.278      0.275      0.146\n"
     ]
    },
    {
     "name": "stderr",
     "output_type": "stream",
     "text": [
      "\n"
     ]
    },
    {
     "name": "stdout",
     "output_type": "stream",
     "text": [
      "\n",
      "      Epoch    GPU_mem   box_loss   seg_loss   cls_loss   dfl_loss  Instances       Size\n"
     ]
    },
    {
     "name": "stderr",
     "output_type": "stream",
     "text": [
      "      20/50      2.92G      1.473      1.273      1.458      1.384         78        640: 100%|██████████| 7/7 [00:00<00:00,  7.33it/s]\n",
      "                 Class     Images  Instances      Box(P          R      mAP50  mAP50-95)     Mask(P          R      mAP50  mAP50-95): 100%|██████████| 1/1 [00:00<00:00, 13.54it/s]"
     ]
    },
    {
     "name": "stdout",
     "output_type": "stream",
     "text": [
      "                   all         11         54      0.291      0.389      0.264      0.139       0.22      0.444      0.222     0.0935\n"
     ]
    },
    {
     "name": "stderr",
     "output_type": "stream",
     "text": [
      "\n"
     ]
    },
    {
     "name": "stdout",
     "output_type": "stream",
     "text": [
      "\n",
      "      Epoch    GPU_mem   box_loss   seg_loss   cls_loss   dfl_loss  Instances       Size\n"
     ]
    },
    {
     "name": "stderr",
     "output_type": "stream",
     "text": [
      "      21/50      3.07G      1.464      1.189       1.42      1.368         77        640: 100%|██████████| 7/7 [00:00<00:00,  7.36it/s]\n",
      "                 Class     Images  Instances      Box(P          R      mAP50  mAP50-95)     Mask(P          R      mAP50  mAP50-95): 100%|██████████| 1/1 [00:00<00:00, 13.01it/s]"
     ]
    },
    {
     "name": "stdout",
     "output_type": "stream",
     "text": [
      "                   all         11         54      0.267      0.481      0.293      0.147      0.247      0.481      0.251       0.11\n"
     ]
    },
    {
     "name": "stderr",
     "output_type": "stream",
     "text": [
      "\n"
     ]
    },
    {
     "name": "stdout",
     "output_type": "stream",
     "text": [
      "\n",
      "      Epoch    GPU_mem   box_loss   seg_loss   cls_loss   dfl_loss  Instances       Size\n"
     ]
    },
    {
     "name": "stderr",
     "output_type": "stream",
     "text": [
      "      22/50      2.91G      1.416      1.164      1.396       1.33         61        640: 100%|██████████| 7/7 [00:00<00:00,  7.28it/s]\n",
      "                 Class     Images  Instances      Box(P          R      mAP50  mAP50-95)     Mask(P          R      mAP50  mAP50-95): 100%|██████████| 1/1 [00:00<00:00, 14.15it/s]"
     ]
    },
    {
     "name": "stdout",
     "output_type": "stream",
     "text": [
      "                   all         11         54      0.399      0.463      0.397      0.223      0.519      0.333      0.356      0.191\n"
     ]
    },
    {
     "name": "stderr",
     "output_type": "stream",
     "text": [
      "\n"
     ]
    },
    {
     "name": "stdout",
     "output_type": "stream",
     "text": [
      "\n",
      "      Epoch    GPU_mem   box_loss   seg_loss   cls_loss   dfl_loss  Instances       Size\n"
     ]
    },
    {
     "name": "stderr",
     "output_type": "stream",
     "text": [
      "      23/50      2.92G      1.447      1.192      1.413      1.361         78        640: 100%|██████████| 7/7 [00:00<00:00,  7.31it/s]\n",
      "                 Class     Images  Instances      Box(P          R      mAP50  mAP50-95)     Mask(P          R      mAP50  mAP50-95): 100%|██████████| 1/1 [00:00<00:00, 13.55it/s]"
     ]
    },
    {
     "name": "stdout",
     "output_type": "stream",
     "text": [
      "                   all         11         54      0.529      0.444      0.397      0.227      0.529      0.444      0.384       0.19\n"
     ]
    },
    {
     "name": "stderr",
     "output_type": "stream",
     "text": [
      "\n"
     ]
    },
    {
     "name": "stdout",
     "output_type": "stream",
     "text": [
      "\n",
      "      Epoch    GPU_mem   box_loss   seg_loss   cls_loss   dfl_loss  Instances       Size\n"
     ]
    },
    {
     "name": "stderr",
     "output_type": "stream",
     "text": [
      "      24/50      2.94G      1.426      1.222      1.374      1.322         73        640: 100%|██████████| 7/7 [00:00<00:00,  7.37it/s]\n",
      "                 Class     Images  Instances      Box(P          R      mAP50  mAP50-95)     Mask(P          R      mAP50  mAP50-95): 100%|██████████| 1/1 [00:00<00:00, 13.86it/s]"
     ]
    },
    {
     "name": "stdout",
     "output_type": "stream",
     "text": [
      "                   all         11         54      0.452      0.426       0.42      0.228      0.471      0.481      0.442      0.203\n"
     ]
    },
    {
     "name": "stderr",
     "output_type": "stream",
     "text": [
      "\n"
     ]
    },
    {
     "name": "stdout",
     "output_type": "stream",
     "text": [
      "\n",
      "      Epoch    GPU_mem   box_loss   seg_loss   cls_loss   dfl_loss  Instances       Size\n"
     ]
    },
    {
     "name": "stderr",
     "output_type": "stream",
     "text": [
      "      25/50      2.97G      1.478      1.089      1.456      1.347         90        640: 100%|██████████| 7/7 [00:00<00:00,  7.42it/s]\n",
      "                 Class     Images  Instances      Box(P          R      mAP50  mAP50-95)     Mask(P          R      mAP50  mAP50-95): 100%|██████████| 1/1 [00:00<00:00, 13.78it/s]"
     ]
    },
    {
     "name": "stdout",
     "output_type": "stream",
     "text": [
      "                   all         11         54      0.369      0.574      0.423      0.214      0.367      0.579      0.417      0.186\n"
     ]
    },
    {
     "name": "stderr",
     "output_type": "stream",
     "text": [
      "\n"
     ]
    },
    {
     "name": "stdout",
     "output_type": "stream",
     "text": [
      "\n",
      "      Epoch    GPU_mem   box_loss   seg_loss   cls_loss   dfl_loss  Instances       Size\n"
     ]
    },
    {
     "name": "stderr",
     "output_type": "stream",
     "text": [
      "      26/50      2.97G      1.367      1.169      1.321      1.304         80        640: 100%|██████████| 7/7 [00:00<00:00,  7.34it/s]\n",
      "                 Class     Images  Instances      Box(P          R      mAP50  mAP50-95)     Mask(P          R      mAP50  mAP50-95): 100%|██████████| 1/1 [00:00<00:00, 13.64it/s]"
     ]
    },
    {
     "name": "stdout",
     "output_type": "stream",
     "text": [
      "                   all         11         54      0.567      0.611      0.491      0.234      0.456      0.574      0.455      0.208\n"
     ]
    },
    {
     "name": "stderr",
     "output_type": "stream",
     "text": [
      "\n"
     ]
    },
    {
     "name": "stdout",
     "output_type": "stream",
     "text": [
      "\n",
      "      Epoch    GPU_mem   box_loss   seg_loss   cls_loss   dfl_loss  Instances       Size\n"
     ]
    },
    {
     "name": "stderr",
     "output_type": "stream",
     "text": [
      "      27/50      2.85G      1.377       1.09      1.371      1.349         74        640: 100%|██████████| 7/7 [00:00<00:00,  7.26it/s]\n",
      "                 Class     Images  Instances      Box(P          R      mAP50  mAP50-95)     Mask(P          R      mAP50  mAP50-95): 100%|██████████| 1/1 [00:00<00:00, 13.61it/s]"
     ]
    },
    {
     "name": "stdout",
     "output_type": "stream",
     "text": [
      "                   all         11         54      0.557      0.611      0.523      0.247      0.575      0.551      0.502      0.218\n"
     ]
    },
    {
     "name": "stderr",
     "output_type": "stream",
     "text": [
      "\n"
     ]
    },
    {
     "name": "stdout",
     "output_type": "stream",
     "text": [
      "\n",
      "      Epoch    GPU_mem   box_loss   seg_loss   cls_loss   dfl_loss  Instances       Size\n"
     ]
    },
    {
     "name": "stderr",
     "output_type": "stream",
     "text": [
      "      28/50      2.96G       1.34      1.168      1.304      1.309         63        640: 100%|██████████| 7/7 [00:00<00:00,  7.26it/s]\n",
      "                 Class     Images  Instances      Box(P          R      mAP50  mAP50-95)     Mask(P          R      mAP50  mAP50-95): 100%|██████████| 1/1 [00:00<00:00, 13.60it/s]"
     ]
    },
    {
     "name": "stdout",
     "output_type": "stream",
     "text": [
      "                   all         11         54      0.557      0.574      0.517      0.252      0.523      0.537      0.469      0.217\n"
     ]
    },
    {
     "name": "stderr",
     "output_type": "stream",
     "text": [
      "\n"
     ]
    },
    {
     "name": "stdout",
     "output_type": "stream",
     "text": [
      "\n",
      "      Epoch    GPU_mem   box_loss   seg_loss   cls_loss   dfl_loss  Instances       Size\n"
     ]
    },
    {
     "name": "stderr",
     "output_type": "stream",
     "text": [
      "      29/50       2.9G      1.341       1.04      1.238      1.294         71        640: 100%|██████████| 7/7 [00:00<00:00,  7.46it/s]\n",
      "                 Class     Images  Instances      Box(P          R      mAP50  mAP50-95)     Mask(P          R      mAP50  mAP50-95): 100%|██████████| 1/1 [00:00<00:00, 12.67it/s]"
     ]
    },
    {
     "name": "stdout",
     "output_type": "stream",
     "text": [
      "                   all         11         54      0.567      0.607      0.564      0.255      0.533      0.571      0.531      0.222\n"
     ]
    },
    {
     "name": "stderr",
     "output_type": "stream",
     "text": [
      "\n"
     ]
    },
    {
     "name": "stdout",
     "output_type": "stream",
     "text": [
      "\n",
      "      Epoch    GPU_mem   box_loss   seg_loss   cls_loss   dfl_loss  Instances       Size\n"
     ]
    },
    {
     "name": "stderr",
     "output_type": "stream",
     "text": [
      "      30/50      2.86G      1.356      1.088      1.268      1.297         76        640: 100%|██████████| 7/7 [00:00<00:00,  7.42it/s]\n",
      "                 Class     Images  Instances      Box(P          R      mAP50  mAP50-95)     Mask(P          R      mAP50  mAP50-95): 100%|██████████| 1/1 [00:00<00:00, 13.47it/s]"
     ]
    },
    {
     "name": "stdout",
     "output_type": "stream",
     "text": [
      "                   all         11         54      0.535      0.593      0.552      0.279      0.646      0.519      0.537      0.241\n"
     ]
    },
    {
     "name": "stderr",
     "output_type": "stream",
     "text": [
      "\n"
     ]
    },
    {
     "name": "stdout",
     "output_type": "stream",
     "text": [
      "\n",
      "      Epoch    GPU_mem   box_loss   seg_loss   cls_loss   dfl_loss  Instances       Size\n"
     ]
    },
    {
     "name": "stderr",
     "output_type": "stream",
     "text": [
      "      31/50      2.94G      1.319      1.163      1.266      1.281         98        640: 100%|██████████| 7/7 [00:00<00:00,  7.32it/s]\n",
      "                 Class     Images  Instances      Box(P          R      mAP50  mAP50-95)     Mask(P          R      mAP50  mAP50-95): 100%|██████████| 1/1 [00:00<00:00, 14.21it/s]"
     ]
    },
    {
     "name": "stdout",
     "output_type": "stream",
     "text": [
      "                   all         11         54      0.675        0.5      0.505       0.29      0.626        0.5      0.502      0.233\n"
     ]
    },
    {
     "name": "stderr",
     "output_type": "stream",
     "text": [
      "\n"
     ]
    },
    {
     "name": "stdout",
     "output_type": "stream",
     "text": [
      "\n",
      "      Epoch    GPU_mem   box_loss   seg_loss   cls_loss   dfl_loss  Instances       Size\n"
     ]
    },
    {
     "name": "stderr",
     "output_type": "stream",
     "text": [
      "      32/50      2.82G      1.283      1.148       1.19      1.228         80        640: 100%|██████████| 7/7 [00:00<00:00,  7.28it/s]\n",
      "                 Class     Images  Instances      Box(P          R      mAP50  mAP50-95)     Mask(P          R      mAP50  mAP50-95): 100%|██████████| 1/1 [00:00<00:00, 13.53it/s]"
     ]
    },
    {
     "name": "stdout",
     "output_type": "stream",
     "text": [
      "                   all         11         54      0.554      0.551       0.49      0.278      0.579      0.444      0.479      0.231\n"
     ]
    },
    {
     "name": "stderr",
     "output_type": "stream",
     "text": [
      "\n"
     ]
    },
    {
     "name": "stdout",
     "output_type": "stream",
     "text": [
      "\n",
      "      Epoch    GPU_mem   box_loss   seg_loss   cls_loss   dfl_loss  Instances       Size\n"
     ]
    },
    {
     "name": "stderr",
     "output_type": "stream",
     "text": [
      "      33/50      2.99G      1.287      1.132      1.183      1.251         77        640: 100%|██████████| 7/7 [00:00<00:00,  7.41it/s]\n",
      "                 Class     Images  Instances      Box(P          R      mAP50  mAP50-95)     Mask(P          R      mAP50  mAP50-95): 100%|██████████| 1/1 [00:00<00:00, 13.58it/s]"
     ]
    },
    {
     "name": "stdout",
     "output_type": "stream",
     "text": [
      "                   all         11         54      0.525      0.537      0.498      0.268      0.537      0.481      0.479       0.22\n"
     ]
    },
    {
     "name": "stderr",
     "output_type": "stream",
     "text": [
      "\n"
     ]
    },
    {
     "name": "stdout",
     "output_type": "stream",
     "text": [
      "\n",
      "      Epoch    GPU_mem   box_loss   seg_loss   cls_loss   dfl_loss  Instances       Size\n"
     ]
    },
    {
     "name": "stderr",
     "output_type": "stream",
     "text": [
      "      34/50      2.92G      1.252      1.052      1.165      1.257         92        640: 100%|██████████| 7/7 [00:00<00:00,  7.30it/s]\n",
      "                 Class     Images  Instances      Box(P          R      mAP50  mAP50-95)     Mask(P          R      mAP50  mAP50-95): 100%|██████████| 1/1 [00:00<00:00, 13.35it/s]"
     ]
    },
    {
     "name": "stdout",
     "output_type": "stream",
     "text": [
      "                   all         11         54      0.485      0.481      0.482      0.267      0.476      0.538      0.481       0.22\n"
     ]
    },
    {
     "name": "stderr",
     "output_type": "stream",
     "text": [
      "\n"
     ]
    },
    {
     "name": "stdout",
     "output_type": "stream",
     "text": [
      "\n",
      "      Epoch    GPU_mem   box_loss   seg_loss   cls_loss   dfl_loss  Instances       Size\n"
     ]
    },
    {
     "name": "stderr",
     "output_type": "stream",
     "text": [
      "      35/50      2.86G      1.301      1.057      1.187      1.256         56        640: 100%|██████████| 7/7 [00:00<00:00,  7.26it/s]\n",
      "                 Class     Images  Instances      Box(P          R      mAP50  mAP50-95)     Mask(P          R      mAP50  mAP50-95): 100%|██████████| 1/1 [00:00<00:00, 13.51it/s]"
     ]
    },
    {
     "name": "stdout",
     "output_type": "stream",
     "text": [
      "                   all         11         54      0.576      0.481        0.5      0.279      0.639        0.5      0.516      0.247\n"
     ]
    },
    {
     "name": "stderr",
     "output_type": "stream",
     "text": [
      "\n"
     ]
    },
    {
     "name": "stdout",
     "output_type": "stream",
     "text": [
      "\n",
      "      Epoch    GPU_mem   box_loss   seg_loss   cls_loss   dfl_loss  Instances       Size\n"
     ]
    },
    {
     "name": "stderr",
     "output_type": "stream",
     "text": [
      "      36/50      2.89G      1.301      1.107      1.168       1.23         65        640: 100%|██████████| 7/7 [00:00<00:00,  7.19it/s]\n",
      "                 Class     Images  Instances      Box(P          R      mAP50  mAP50-95)     Mask(P          R      mAP50  mAP50-95): 100%|██████████| 1/1 [00:00<00:00, 14.03it/s]"
     ]
    },
    {
     "name": "stdout",
     "output_type": "stream",
     "text": [
      "                   all         11         54      0.622      0.519      0.523       0.29      0.533      0.574      0.508      0.253\n"
     ]
    },
    {
     "name": "stderr",
     "output_type": "stream",
     "text": [
      "\n"
     ]
    },
    {
     "name": "stdout",
     "output_type": "stream",
     "text": [
      "\n",
      "      Epoch    GPU_mem   box_loss   seg_loss   cls_loss   dfl_loss  Instances       Size\n"
     ]
    },
    {
     "name": "stderr",
     "output_type": "stream",
     "text": [
      "      37/50      3.01G      1.231      1.087      1.103      1.208        103        640: 100%|██████████| 7/7 [00:00<00:00,  7.31it/s]\n",
      "                 Class     Images  Instances      Box(P          R      mAP50  mAP50-95)     Mask(P          R      mAP50  mAP50-95): 100%|██████████| 1/1 [00:00<00:00, 12.73it/s]"
     ]
    },
    {
     "name": "stdout",
     "output_type": "stream",
     "text": [
      "                   all         11         54      0.525      0.552      0.529      0.305      0.485      0.648      0.519      0.261\n"
     ]
    },
    {
     "name": "stderr",
     "output_type": "stream",
     "text": [
      "\n"
     ]
    },
    {
     "name": "stdout",
     "output_type": "stream",
     "text": [
      "\n",
      "      Epoch    GPU_mem   box_loss   seg_loss   cls_loss   dfl_loss  Instances       Size\n"
     ]
    },
    {
     "name": "stderr",
     "output_type": "stream",
     "text": [
      "      38/50       2.9G      1.251      1.025      1.132      1.224         87        640: 100%|██████████| 7/7 [00:00<00:00,  7.31it/s]\n",
      "                 Class     Images  Instances      Box(P          R      mAP50  mAP50-95)     Mask(P          R      mAP50  mAP50-95): 100%|██████████| 1/1 [00:00<00:00, 13.51it/s]"
     ]
    },
    {
     "name": "stdout",
     "output_type": "stream",
     "text": [
      "                   all         11         54      0.507      0.593      0.561       0.33      0.532      0.556      0.542      0.272\n"
     ]
    },
    {
     "name": "stderr",
     "output_type": "stream",
     "text": [
      "\n"
     ]
    },
    {
     "name": "stdout",
     "output_type": "stream",
     "text": [
      "\n",
      "      Epoch    GPU_mem   box_loss   seg_loss   cls_loss   dfl_loss  Instances       Size\n"
     ]
    },
    {
     "name": "stderr",
     "output_type": "stream",
     "text": [
      "      39/50      2.96G      1.262      1.046      1.126      1.223        113        640: 100%|██████████| 7/7 [00:00<00:00,  7.30it/s]\n",
      "                 Class     Images  Instances      Box(P          R      mAP50  mAP50-95)     Mask(P          R      mAP50  mAP50-95): 100%|██████████| 1/1 [00:00<00:00, 13.95it/s]"
     ]
    },
    {
     "name": "stdout",
     "output_type": "stream",
     "text": [
      "                   all         11         54      0.665      0.463      0.572      0.344      0.714      0.426      0.546       0.28\n"
     ]
    },
    {
     "name": "stderr",
     "output_type": "stream",
     "text": [
      "\n"
     ]
    },
    {
     "name": "stdout",
     "output_type": "stream",
     "text": [
      "\n",
      "      Epoch    GPU_mem   box_loss   seg_loss   cls_loss   dfl_loss  Instances       Size\n"
     ]
    },
    {
     "name": "stderr",
     "output_type": "stream",
     "text": [
      "      40/50      2.95G      1.214      1.005      1.094      1.207         56        640: 100%|██████████| 7/7 [00:00<00:00,  7.17it/s]\n",
      "                 Class     Images  Instances      Box(P          R      mAP50  mAP50-95)     Mask(P          R      mAP50  mAP50-95): 100%|██████████| 1/1 [00:00<00:00, 14.46it/s]"
     ]
    },
    {
     "name": "stdout",
     "output_type": "stream",
     "text": [
      "                   all         11         54       0.61      0.574      0.591      0.329      0.689      0.451      0.538       0.26\n"
     ]
    },
    {
     "name": "stderr",
     "output_type": "stream",
     "text": [
      "\n"
     ]
    },
    {
     "name": "stdout",
     "output_type": "stream",
     "text": [
      "Closing dataloader mosaic\n",
      "\n",
      "      Epoch    GPU_mem   box_loss   seg_loss   cls_loss   dfl_loss  Instances       Size\n"
     ]
    },
    {
     "name": "stderr",
     "output_type": "stream",
     "text": [
      "      41/50      2.98G      1.338     0.9731      1.455      1.287         60        640: 100%|██████████| 7/7 [00:01<00:00,  5.38it/s]\n",
      "                 Class     Images  Instances      Box(P          R      mAP50  mAP50-95)     Mask(P          R      mAP50  mAP50-95): 100%|██████████| 1/1 [00:00<00:00, 13.79it/s]"
     ]
    },
    {
     "name": "stdout",
     "output_type": "stream",
     "text": [
      "                   all         11         54      0.649      0.556      0.578      0.316      0.579      0.483      0.522      0.249\n"
     ]
    },
    {
     "name": "stderr",
     "output_type": "stream",
     "text": [
      "\n"
     ]
    },
    {
     "name": "stdout",
     "output_type": "stream",
     "text": [
      "\n",
      "      Epoch    GPU_mem   box_loss   seg_loss   cls_loss   dfl_loss  Instances       Size\n"
     ]
    },
    {
     "name": "stderr",
     "output_type": "stream",
     "text": [
      "      42/50      2.79G      1.292      1.002       1.27       1.26         68        640: 100%|██████████| 7/7 [00:00<00:00,  7.62it/s]\n",
      "                 Class     Images  Instances      Box(P          R      mAP50  mAP50-95)     Mask(P          R      mAP50  mAP50-95): 100%|██████████| 1/1 [00:00<00:00, 13.18it/s]"
     ]
    },
    {
     "name": "stdout",
     "output_type": "stream",
     "text": [
      "                   all         11         54      0.688        0.5      0.578      0.302      0.587      0.519      0.497      0.235\n"
     ]
    },
    {
     "name": "stderr",
     "output_type": "stream",
     "text": [
      "\n"
     ]
    },
    {
     "name": "stdout",
     "output_type": "stream",
     "text": [
      "\n",
      "      Epoch    GPU_mem   box_loss   seg_loss   cls_loss   dfl_loss  Instances       Size\n"
     ]
    },
    {
     "name": "stderr",
     "output_type": "stream",
     "text": [
      "      43/50      2.79G      1.286     0.9268      1.258       1.27         31        640: 100%|██████████| 7/7 [00:00<00:00,  7.65it/s]\n",
      "                 Class     Images  Instances      Box(P          R      mAP50  mAP50-95)     Mask(P          R      mAP50  mAP50-95): 100%|██████████| 1/1 [00:00<00:00, 13.96it/s]"
     ]
    },
    {
     "name": "stdout",
     "output_type": "stream",
     "text": [
      "                   all         11         54      0.608        0.5      0.555        0.3      0.604        0.5      0.544      0.233\n"
     ]
    },
    {
     "name": "stderr",
     "output_type": "stream",
     "text": [
      "\n"
     ]
    },
    {
     "name": "stdout",
     "output_type": "stream",
     "text": [
      "\n",
      "      Epoch    GPU_mem   box_loss   seg_loss   cls_loss   dfl_loss  Instances       Size\n"
     ]
    },
    {
     "name": "stderr",
     "output_type": "stream",
     "text": [
      "      44/50      2.84G      1.277     0.9223      1.283      1.217         40        640: 100%|██████████| 7/7 [00:00<00:00,  7.66it/s]\n",
      "                 Class     Images  Instances      Box(P          R      mAP50  mAP50-95)     Mask(P          R      mAP50  mAP50-95): 100%|██████████| 1/1 [00:00<00:00, 13.96it/s]"
     ]
    },
    {
     "name": "stdout",
     "output_type": "stream",
     "text": [
      "                   all         11         54      0.493      0.523      0.527      0.301      0.496      0.528      0.495      0.245\n"
     ]
    },
    {
     "name": "stderr",
     "output_type": "stream",
     "text": [
      "\n"
     ]
    },
    {
     "name": "stdout",
     "output_type": "stream",
     "text": [
      "\n",
      "      Epoch    GPU_mem   box_loss   seg_loss   cls_loss   dfl_loss  Instances       Size\n"
     ]
    },
    {
     "name": "stderr",
     "output_type": "stream",
     "text": [
      "      45/50      2.75G      1.281      1.048      1.318      1.269         33        640: 100%|██████████| 7/7 [00:00<00:00,  7.75it/s]\n",
      "                 Class     Images  Instances      Box(P          R      mAP50  mAP50-95)     Mask(P          R      mAP50  mAP50-95): 100%|██████████| 1/1 [00:00<00:00, 14.29it/s]"
     ]
    },
    {
     "name": "stdout",
     "output_type": "stream",
     "text": [
      "                   all         11         54      0.535      0.556      0.537      0.309      0.526      0.556      0.495      0.248\n"
     ]
    },
    {
     "name": "stderr",
     "output_type": "stream",
     "text": [
      "\n"
     ]
    },
    {
     "name": "stdout",
     "output_type": "stream",
     "text": [
      "\n",
      "      Epoch    GPU_mem   box_loss   seg_loss   cls_loss   dfl_loss  Instances       Size\n"
     ]
    },
    {
     "name": "stderr",
     "output_type": "stream",
     "text": [
      "      46/50      2.74G      1.185     0.8485      1.158      1.184         52        640: 100%|██████████| 7/7 [00:00<00:00,  7.63it/s]\n",
      "                 Class     Images  Instances      Box(P          R      mAP50  mAP50-95)     Mask(P          R      mAP50  mAP50-95): 100%|██████████| 1/1 [00:00<00:00, 14.14it/s]"
     ]
    },
    {
     "name": "stdout",
     "output_type": "stream",
     "text": [
      "                   all         11         54       0.48      0.611      0.557      0.314      0.475      0.537      0.482      0.259\n"
     ]
    },
    {
     "name": "stderr",
     "output_type": "stream",
     "text": [
      "\n"
     ]
    },
    {
     "name": "stdout",
     "output_type": "stream",
     "text": [
      "\n",
      "      Epoch    GPU_mem   box_loss   seg_loss   cls_loss   dfl_loss  Instances       Size\n"
     ]
    },
    {
     "name": "stderr",
     "output_type": "stream",
     "text": [
      "      47/50      2.78G      1.181     0.9771       1.13       1.19         52        640: 100%|██████████| 7/7 [00:00<00:00,  7.58it/s]\n",
      "                 Class     Images  Instances      Box(P          R      mAP50  mAP50-95)     Mask(P          R      mAP50  mAP50-95): 100%|██████████| 1/1 [00:00<00:00, 13.77it/s]"
     ]
    },
    {
     "name": "stdout",
     "output_type": "stream",
     "text": [
      "                   all         11         54      0.533      0.593      0.567      0.319      0.516      0.574      0.516       0.26\n"
     ]
    },
    {
     "name": "stderr",
     "output_type": "stream",
     "text": [
      "\n"
     ]
    },
    {
     "name": "stdout",
     "output_type": "stream",
     "text": [
      "\n",
      "      Epoch    GPU_mem   box_loss   seg_loss   cls_loss   dfl_loss  Instances       Size\n"
     ]
    },
    {
     "name": "stderr",
     "output_type": "stream",
     "text": [
      "      48/50      2.79G      1.148     0.8665      1.106      1.185         51        640: 100%|██████████| 7/7 [00:00<00:00,  7.64it/s]\n",
      "                 Class     Images  Instances      Box(P          R      mAP50  mAP50-95)     Mask(P          R      mAP50  mAP50-95): 100%|██████████| 1/1 [00:00<00:00, 14.12it/s]"
     ]
    },
    {
     "name": "stdout",
     "output_type": "stream",
     "text": [
      "                   all         11         54      0.606      0.593      0.568      0.311      0.561      0.611      0.532       0.26\n"
     ]
    },
    {
     "name": "stderr",
     "output_type": "stream",
     "text": [
      "\n"
     ]
    },
    {
     "name": "stdout",
     "output_type": "stream",
     "text": [
      "\n",
      "      Epoch    GPU_mem   box_loss   seg_loss   cls_loss   dfl_loss  Instances       Size\n"
     ]
    },
    {
     "name": "stderr",
     "output_type": "stream",
     "text": [
      "      49/50      2.75G      1.176       1.02      1.192      1.207         35        640: 100%|██████████| 7/7 [00:00<00:00,  7.68it/s]\n",
      "                 Class     Images  Instances      Box(P          R      mAP50  mAP50-95)     Mask(P          R      mAP50  mAP50-95): 100%|██████████| 1/1 [00:00<00:00, 13.91it/s]"
     ]
    },
    {
     "name": "stdout",
     "output_type": "stream",
     "text": [
      "                   all         11         54      0.599      0.593       0.57      0.314      0.574      0.598      0.536      0.267\n"
     ]
    },
    {
     "name": "stderr",
     "output_type": "stream",
     "text": [
      "\n"
     ]
    },
    {
     "name": "stdout",
     "output_type": "stream",
     "text": [
      "\n",
      "      Epoch    GPU_mem   box_loss   seg_loss   cls_loss   dfl_loss  Instances       Size\n"
     ]
    },
    {
     "name": "stderr",
     "output_type": "stream",
     "text": [
      "      50/50      2.83G      1.198      1.069      1.175      1.215         49        640: 100%|██████████| 7/7 [00:00<00:00,  7.67it/s]\n",
      "                 Class     Images  Instances      Box(P          R      mAP50  mAP50-95)     Mask(P          R      mAP50  mAP50-95): 100%|██████████| 1/1 [00:00<00:00, 13.95it/s]"
     ]
    },
    {
     "name": "stdout",
     "output_type": "stream",
     "text": [
      "                   all         11         54      0.566      0.611      0.562      0.307      0.532      0.611      0.543      0.271\n"
     ]
    },
    {
     "name": "stderr",
     "output_type": "stream",
     "text": [
      "\n"
     ]
    },
    {
     "name": "stdout",
     "output_type": "stream",
     "text": [
      "\n",
      "50 epochs completed in 0.019 hours.\n",
      "Optimizer stripped from /home/user/Documents/RSI/runs/segment/train2/weights/last.pt, 6.8MB\n",
      "Optimizer stripped from /home/user/Documents/RSI/runs/segment/train2/weights/best.pt, 6.8MB\n",
      "\n",
      "Validating /home/user/Documents/RSI/runs/segment/train2/weights/best.pt...\n",
      "Ultralytics 8.3.69 🚀 Python-3.12.8 torch-2.5.1+cu124 CUDA:0 (NVIDIA GeForce RTX 4060 Laptop GPU, 7940MiB)\n",
      "YOLOv8n-seg summary (fused): 195 layers, 3,258,454 parameters, 0 gradients, 12.0 GFLOPs\n"
     ]
    },
    {
     "name": "stderr",
     "output_type": "stream",
     "text": [
      "                 Class     Images  Instances      Box(P          R      mAP50  mAP50-95)     Mask(P          R      mAP50  mAP50-95): 100%|██████████| 1/1 [00:00<00:00, 14.75it/s]\n"
     ]
    },
    {
     "name": "stdout",
     "output_type": "stream",
     "text": [
      "                   all         11         54      0.664      0.463      0.571      0.343      0.711      0.426      0.545       0.28\n",
      "                  road         11         54      0.664      0.463      0.571      0.343      0.711      0.426      0.545       0.28\n",
      "Speed: 0.2ms preprocess, 1.8ms inference, 0.0ms loss, 0.5ms postprocess per image\n",
      "Results saved to \u001b[1m/home/user/Documents/RSI/runs/segment/train2\u001b[0m\n"
     ]
    },
    {
     "data": {
      "text/plain": [
       "ultralytics.utils.metrics.SegmentMetrics object with attributes:\n",
       "\n",
       "ap_class_index: array([0])\n",
       "box: ultralytics.utils.metrics.Metric object\n",
       "confusion_matrix: <ultralytics.utils.metrics.ConfusionMatrix object at 0x7826d43b1580>\n",
       "curves: ['Precision-Recall(B)', 'F1-Confidence(B)', 'Precision-Confidence(B)', 'Recall-Confidence(B)', 'Precision-Recall(M)', 'F1-Confidence(M)', 'Precision-Confidence(M)', 'Recall-Confidence(M)']\n",
       "curves_results: [[array([          0,    0.001001,    0.002002,    0.003003,    0.004004,    0.005005,    0.006006,    0.007007,    0.008008,    0.009009,     0.01001,    0.011011,    0.012012,    0.013013,    0.014014,    0.015015,    0.016016,    0.017017,    0.018018,    0.019019,     0.02002,    0.021021,    0.022022,    0.023023,\n",
       "          0.024024,    0.025025,    0.026026,    0.027027,    0.028028,    0.029029,     0.03003,    0.031031,    0.032032,    0.033033,    0.034034,    0.035035,    0.036036,    0.037037,    0.038038,    0.039039,     0.04004,    0.041041,    0.042042,    0.043043,    0.044044,    0.045045,    0.046046,    0.047047,\n",
       "          0.048048,    0.049049,     0.05005,    0.051051,    0.052052,    0.053053,    0.054054,    0.055055,    0.056056,    0.057057,    0.058058,    0.059059,     0.06006,    0.061061,    0.062062,    0.063063,    0.064064,    0.065065,    0.066066,    0.067067,    0.068068,    0.069069,     0.07007,    0.071071,\n",
       "          0.072072,    0.073073,    0.074074,    0.075075,    0.076076,    0.077077,    0.078078,    0.079079,     0.08008,    0.081081,    0.082082,    0.083083,    0.084084,    0.085085,    0.086086,    0.087087,    0.088088,    0.089089,     0.09009,    0.091091,    0.092092,    0.093093,    0.094094,    0.095095,\n",
       "          0.096096,    0.097097,    0.098098,    0.099099,      0.1001,      0.1011,      0.1021,      0.1031,      0.1041,     0.10511,     0.10611,     0.10711,     0.10811,     0.10911,     0.11011,     0.11111,     0.11211,     0.11311,     0.11411,     0.11512,     0.11612,     0.11712,     0.11812,     0.11912,\n",
       "           0.12012,     0.12112,     0.12212,     0.12312,     0.12412,     0.12513,     0.12613,     0.12713,     0.12813,     0.12913,     0.13013,     0.13113,     0.13213,     0.13313,     0.13413,     0.13514,     0.13614,     0.13714,     0.13814,     0.13914,     0.14014,     0.14114,     0.14214,     0.14314,\n",
       "           0.14414,     0.14515,     0.14615,     0.14715,     0.14815,     0.14915,     0.15015,     0.15115,     0.15215,     0.15315,     0.15415,     0.15516,     0.15616,     0.15716,     0.15816,     0.15916,     0.16016,     0.16116,     0.16216,     0.16316,     0.16416,     0.16517,     0.16617,     0.16717,\n",
       "           0.16817,     0.16917,     0.17017,     0.17117,     0.17217,     0.17317,     0.17417,     0.17518,     0.17618,     0.17718,     0.17818,     0.17918,     0.18018,     0.18118,     0.18218,     0.18318,     0.18418,     0.18519,     0.18619,     0.18719,     0.18819,     0.18919,     0.19019,     0.19119,\n",
       "           0.19219,     0.19319,     0.19419,      0.1952,      0.1962,      0.1972,      0.1982,      0.1992,      0.2002,      0.2012,      0.2022,      0.2032,      0.2042,     0.20521,     0.20621,     0.20721,     0.20821,     0.20921,     0.21021,     0.21121,     0.21221,     0.21321,     0.21421,     0.21522,\n",
       "           0.21622,     0.21722,     0.21822,     0.21922,     0.22022,     0.22122,     0.22222,     0.22322,     0.22422,     0.22523,     0.22623,     0.22723,     0.22823,     0.22923,     0.23023,     0.23123,     0.23223,     0.23323,     0.23423,     0.23524,     0.23624,     0.23724,     0.23824,     0.23924,\n",
       "           0.24024,     0.24124,     0.24224,     0.24324,     0.24424,     0.24525,     0.24625,     0.24725,     0.24825,     0.24925,     0.25025,     0.25125,     0.25225,     0.25325,     0.25425,     0.25526,     0.25626,     0.25726,     0.25826,     0.25926,     0.26026,     0.26126,     0.26226,     0.26326,\n",
       "           0.26426,     0.26527,     0.26627,     0.26727,     0.26827,     0.26927,     0.27027,     0.27127,     0.27227,     0.27327,     0.27427,     0.27528,     0.27628,     0.27728,     0.27828,     0.27928,     0.28028,     0.28128,     0.28228,     0.28328,     0.28428,     0.28529,     0.28629,     0.28729,\n",
       "           0.28829,     0.28929,     0.29029,     0.29129,     0.29229,     0.29329,     0.29429,      0.2953,      0.2963,      0.2973,      0.2983,      0.2993,      0.3003,      0.3013,      0.3023,      0.3033,      0.3043,     0.30531,     0.30631,     0.30731,     0.30831,     0.30931,     0.31031,     0.31131,\n",
       "           0.31231,     0.31331,     0.31431,     0.31532,     0.31632,     0.31732,     0.31832,     0.31932,     0.32032,     0.32132,     0.32232,     0.32332,     0.32432,     0.32533,     0.32633,     0.32733,     0.32833,     0.32933,     0.33033,     0.33133,     0.33233,     0.33333,     0.33433,     0.33534,\n",
       "           0.33634,     0.33734,     0.33834,     0.33934,     0.34034,     0.34134,     0.34234,     0.34334,     0.34434,     0.34535,     0.34635,     0.34735,     0.34835,     0.34935,     0.35035,     0.35135,     0.35235,     0.35335,     0.35435,     0.35536,     0.35636,     0.35736,     0.35836,     0.35936,\n",
       "           0.36036,     0.36136,     0.36236,     0.36336,     0.36436,     0.36537,     0.36637,     0.36737,     0.36837,     0.36937,     0.37037,     0.37137,     0.37237,     0.37337,     0.37437,     0.37538,     0.37638,     0.37738,     0.37838,     0.37938,     0.38038,     0.38138,     0.38238,     0.38338,\n",
       "           0.38438,     0.38539,     0.38639,     0.38739,     0.38839,     0.38939,     0.39039,     0.39139,     0.39239,     0.39339,     0.39439,      0.3954,      0.3964,      0.3974,      0.3984,      0.3994,      0.4004,      0.4014,      0.4024,      0.4034,      0.4044,     0.40541,     0.40641,     0.40741,\n",
       "           0.40841,     0.40941,     0.41041,     0.41141,     0.41241,     0.41341,     0.41441,     0.41542,     0.41642,     0.41742,     0.41842,     0.41942,     0.42042,     0.42142,     0.42242,     0.42342,     0.42442,     0.42543,     0.42643,     0.42743,     0.42843,     0.42943,     0.43043,     0.43143,\n",
       "           0.43243,     0.43343,     0.43443,     0.43544,     0.43644,     0.43744,     0.43844,     0.43944,     0.44044,     0.44144,     0.44244,     0.44344,     0.44444,     0.44545,     0.44645,     0.44745,     0.44845,     0.44945,     0.45045,     0.45145,     0.45245,     0.45345,     0.45445,     0.45546,\n",
       "           0.45646,     0.45746,     0.45846,     0.45946,     0.46046,     0.46146,     0.46246,     0.46346,     0.46446,     0.46547,     0.46647,     0.46747,     0.46847,     0.46947,     0.47047,     0.47147,     0.47247,     0.47347,     0.47447,     0.47548,     0.47648,     0.47748,     0.47848,     0.47948,\n",
       "           0.48048,     0.48148,     0.48248,     0.48348,     0.48448,     0.48549,     0.48649,     0.48749,     0.48849,     0.48949,     0.49049,     0.49149,     0.49249,     0.49349,     0.49449,      0.4955,      0.4965,      0.4975,      0.4985,      0.4995,      0.5005,      0.5015,      0.5025,      0.5035,\n",
       "            0.5045,     0.50551,     0.50651,     0.50751,     0.50851,     0.50951,     0.51051,     0.51151,     0.51251,     0.51351,     0.51451,     0.51552,     0.51652,     0.51752,     0.51852,     0.51952,     0.52052,     0.52152,     0.52252,     0.52352,     0.52452,     0.52553,     0.52653,     0.52753,\n",
       "           0.52853,     0.52953,     0.53053,     0.53153,     0.53253,     0.53353,     0.53453,     0.53554,     0.53654,     0.53754,     0.53854,     0.53954,     0.54054,     0.54154,     0.54254,     0.54354,     0.54454,     0.54555,     0.54655,     0.54755,     0.54855,     0.54955,     0.55055,     0.55155,\n",
       "           0.55255,     0.55355,     0.55455,     0.55556,     0.55656,     0.55756,     0.55856,     0.55956,     0.56056,     0.56156,     0.56256,     0.56356,     0.56456,     0.56557,     0.56657,     0.56757,     0.56857,     0.56957,     0.57057,     0.57157,     0.57257,     0.57357,     0.57457,     0.57558,\n",
       "           0.57658,     0.57758,     0.57858,     0.57958,     0.58058,     0.58158,     0.58258,     0.58358,     0.58458,     0.58559,     0.58659,     0.58759,     0.58859,     0.58959,     0.59059,     0.59159,     0.59259,     0.59359,     0.59459,      0.5956,      0.5966,      0.5976,      0.5986,      0.5996,\n",
       "            0.6006,      0.6016,      0.6026,      0.6036,      0.6046,     0.60561,     0.60661,     0.60761,     0.60861,     0.60961,     0.61061,     0.61161,     0.61261,     0.61361,     0.61461,     0.61562,     0.61662,     0.61762,     0.61862,     0.61962,     0.62062,     0.62162,     0.62262,     0.62362,\n",
       "           0.62462,     0.62563,     0.62663,     0.62763,     0.62863,     0.62963,     0.63063,     0.63163,     0.63263,     0.63363,     0.63463,     0.63564,     0.63664,     0.63764,     0.63864,     0.63964,     0.64064,     0.64164,     0.64264,     0.64364,     0.64464,     0.64565,     0.64665,     0.64765,\n",
       "           0.64865,     0.64965,     0.65065,     0.65165,     0.65265,     0.65365,     0.65465,     0.65566,     0.65666,     0.65766,     0.65866,     0.65966,     0.66066,     0.66166,     0.66266,     0.66366,     0.66466,     0.66567,     0.66667,     0.66767,     0.66867,     0.66967,     0.67067,     0.67167,\n",
       "           0.67267,     0.67367,     0.67467,     0.67568,     0.67668,     0.67768,     0.67868,     0.67968,     0.68068,     0.68168,     0.68268,     0.68368,     0.68468,     0.68569,     0.68669,     0.68769,     0.68869,     0.68969,     0.69069,     0.69169,     0.69269,     0.69369,     0.69469,      0.6957,\n",
       "            0.6967,      0.6977,      0.6987,      0.6997,      0.7007,      0.7017,      0.7027,      0.7037,      0.7047,     0.70571,     0.70671,     0.70771,     0.70871,     0.70971,     0.71071,     0.71171,     0.71271,     0.71371,     0.71471,     0.71572,     0.71672,     0.71772,     0.71872,     0.71972,\n",
       "           0.72072,     0.72172,     0.72272,     0.72372,     0.72472,     0.72573,     0.72673,     0.72773,     0.72873,     0.72973,     0.73073,     0.73173,     0.73273,     0.73373,     0.73473,     0.73574,     0.73674,     0.73774,     0.73874,     0.73974,     0.74074,     0.74174,     0.74274,     0.74374,\n",
       "           0.74474,     0.74575,     0.74675,     0.74775,     0.74875,     0.74975,     0.75075,     0.75175,     0.75275,     0.75375,     0.75475,     0.75576,     0.75676,     0.75776,     0.75876,     0.75976,     0.76076,     0.76176,     0.76276,     0.76376,     0.76476,     0.76577,     0.76677,     0.76777,\n",
       "           0.76877,     0.76977,     0.77077,     0.77177,     0.77277,     0.77377,     0.77477,     0.77578,     0.77678,     0.77778,     0.77878,     0.77978,     0.78078,     0.78178,     0.78278,     0.78378,     0.78478,     0.78579,     0.78679,     0.78779,     0.78879,     0.78979,     0.79079,     0.79179,\n",
       "           0.79279,     0.79379,     0.79479,      0.7958,      0.7968,      0.7978,      0.7988,      0.7998,      0.8008,      0.8018,      0.8028,      0.8038,      0.8048,     0.80581,     0.80681,     0.80781,     0.80881,     0.80981,     0.81081,     0.81181,     0.81281,     0.81381,     0.81481,     0.81582,\n",
       "           0.81682,     0.81782,     0.81882,     0.81982,     0.82082,     0.82182,     0.82282,     0.82382,     0.82482,     0.82583,     0.82683,     0.82783,     0.82883,     0.82983,     0.83083,     0.83183,     0.83283,     0.83383,     0.83483,     0.83584,     0.83684,     0.83784,     0.83884,     0.83984,\n",
       "           0.84084,     0.84184,     0.84284,     0.84384,     0.84484,     0.84585,     0.84685,     0.84785,     0.84885,     0.84985,     0.85085,     0.85185,     0.85285,     0.85385,     0.85485,     0.85586,     0.85686,     0.85786,     0.85886,     0.85986,     0.86086,     0.86186,     0.86286,     0.86386,\n",
       "           0.86486,     0.86587,     0.86687,     0.86787,     0.86887,     0.86987,     0.87087,     0.87187,     0.87287,     0.87387,     0.87487,     0.87588,     0.87688,     0.87788,     0.87888,     0.87988,     0.88088,     0.88188,     0.88288,     0.88388,     0.88488,     0.88589,     0.88689,     0.88789,\n",
       "           0.88889,     0.88989,     0.89089,     0.89189,     0.89289,     0.89389,     0.89489,      0.8959,      0.8969,      0.8979,      0.8989,      0.8999,      0.9009,      0.9019,      0.9029,      0.9039,      0.9049,     0.90591,     0.90691,     0.90791,     0.90891,     0.90991,     0.91091,     0.91191,\n",
       "           0.91291,     0.91391,     0.91491,     0.91592,     0.91692,     0.91792,     0.91892,     0.91992,     0.92092,     0.92192,     0.92292,     0.92392,     0.92492,     0.92593,     0.92693,     0.92793,     0.92893,     0.92993,     0.93093,     0.93193,     0.93293,     0.93393,     0.93493,     0.93594,\n",
       "           0.93694,     0.93794,     0.93894,     0.93994,     0.94094,     0.94194,     0.94294,     0.94394,     0.94494,     0.94595,     0.94695,     0.94795,     0.94895,     0.94995,     0.95095,     0.95195,     0.95295,     0.95395,     0.95495,     0.95596,     0.95696,     0.95796,     0.95896,     0.95996,\n",
       "           0.96096,     0.96196,     0.96296,     0.96396,     0.96496,     0.96597,     0.96697,     0.96797,     0.96897,     0.96997,     0.97097,     0.97197,     0.97297,     0.97397,     0.97497,     0.97598,     0.97698,     0.97798,     0.97898,     0.97998,     0.98098,     0.98198,     0.98298,     0.98398,\n",
       "           0.98498,     0.98599,     0.98699,     0.98799,     0.98899,     0.98999,     0.99099,     0.99199,     0.99299,     0.99399,     0.99499,       0.996,       0.997,       0.998,       0.999,           1]), array([[          1,           1,           1,           1,           1,           1,           1,           1,           1,           1,           1,           1,           1,           1,           1,           1,           1,           1,           1,           1,           1,           1,           1,\n",
       "                  1,           1,           1,           1,           1,           1,           1,           1,           1,           1,           1,           1,           1,           1,           1,           1,           1,           1,           1,           1,           1,           1,           1,\n",
       "                  1,           1,           1,           1,           1,           1,           1,           1,           1,           1,           1,           1,           1,           1,           1,           1,           1,           1,           1,           1,           1,           1,           1,\n",
       "                  1,           1,           1,           1,           1,           1,           1,           1,           1,           1,           1,           1,           1,           1,           1,           1,           1,           1,           1,           1,           1,           1,           1,\n",
       "                  1,           1,           1,           1,           1,           1,           1,           1,           1,           1,           1,           1,           1,           1,           1,           1,           1,           1,           1,           1,           1,           1,           1,\n",
       "                  1,           1,           1,           1,           1,           1,           1,           1,           1,           1,           1,           1,           1,           1,           1,           1,           1,           1,           1,           1,           1,           1,           1,\n",
       "                  1,           1,           1,           1,           1,           1,           1,           1,           1,           1,           1,           1,           1,           1,           1,           1,           1,           1,           1,           1,           1,           1,           1,\n",
       "                  1,           1,           1,           1,           1,           1,     0.89474,     0.89474,     0.89474,     0.89474,     0.89474,     0.89474,     0.89474,     0.89474,     0.89474,     0.89474,     0.89474,     0.89474,     0.89474,     0.89474,     0.89474,     0.89474,     0.89474,\n",
       "            0.89474,     0.89474,     0.89474,     0.89474,     0.89474,     0.89474,     0.89474,     0.89474,     0.89474,     0.89474,     0.89474,     0.89474,     0.89474,     0.89474,     0.89474,     0.89474,     0.89474,     0.89474,     0.89474,     0.89474,     0.89474,     0.89474,     0.89474,\n",
       "            0.89474,     0.89474,     0.89474,     0.89474,     0.89474,     0.89474,     0.89474,     0.89474,     0.89474,     0.89474,     0.89474,     0.89474,     0.89474,     0.89474,     0.89474,     0.89474,     0.89474,     0.89474,     0.89474,     0.89474,     0.89474,     0.89474,     0.89474,\n",
       "            0.89474,     0.89474,     0.89474,     0.89474,     0.89474,     0.89474,     0.89474,     0.89474,     0.89474,     0.89474,     0.89474,     0.89474,     0.89474,     0.89474,     0.89474,     0.89474,     0.89474,     0.89474,     0.89474,     0.89474,     0.89474,     0.89474,     0.89474,\n",
       "            0.89474,     0.89474,     0.89474,     0.89474,     0.89474,     0.89474,     0.89474,     0.89474,     0.89474,     0.89474,     0.89474,     0.89474,     0.89474,     0.89474,     0.89474,     0.89474,     0.89474,     0.89474,     0.89474,     0.89474,     0.89474,     0.89474,     0.89474,\n",
       "            0.89474,     0.89474,     0.89474,     0.89474,     0.89474,     0.89474,     0.89474,     0.89474,     0.89474,     0.89474,     0.89474,     0.89474,     0.89474,     0.89474,     0.89474,     0.89474,     0.89474,     0.89474,     0.89474,     0.89474,     0.89474,     0.89474,     0.89474,\n",
       "            0.89474,     0.89474,     0.89474,     0.89474,     0.89474,     0.89474,     0.89474,     0.89474,     0.89474,     0.89474,     0.89474,     0.89474,     0.89474,     0.89474,     0.89474,     0.89474,     0.85714,     0.85714,     0.85714,     0.85714,     0.85714,     0.85714,     0.85714,\n",
       "            0.85714,     0.85714,     0.85714,     0.85714,     0.85714,     0.85714,     0.85714,     0.85714,     0.85714,     0.85714,     0.85714,     0.82609,     0.82609,     0.82609,     0.82609,     0.82609,     0.82609,     0.82609,     0.82609,     0.82609,     0.82609,     0.82609,     0.82609,\n",
       "            0.82609,     0.82609,     0.82609,     0.82609,     0.82609,     0.82609,     0.82609,     0.77419,     0.77419,     0.77419,     0.77419,     0.77419,     0.77419,     0.77419,     0.77419,     0.77419,     0.77419,     0.77419,     0.77419,     0.77419,     0.77419,     0.77419,     0.77419,\n",
       "            0.77419,     0.77419,     0.77419,     0.77419,     0.77419,     0.77419,     0.77419,     0.77419,     0.77419,     0.77419,     0.77419,     0.77419,     0.77419,     0.77419,     0.77419,     0.77419,     0.77419,     0.77419,     0.77419,     0.77419,     0.77419,     0.77419,     0.77419,\n",
       "            0.77419,     0.77419,     0.77419,     0.77419,     0.77419,     0.77419,     0.77419,     0.77419,     0.77419,     0.77419,     0.77419,     0.77419,     0.77419,     0.77419,     0.77419,     0.77419,     0.77419,     0.77419,     0.77419,     0.77419,     0.77419,     0.77419,     0.77419,\n",
       "            0.77419,     0.77419,     0.77419,     0.77419,     0.77419,     0.77419,     0.77419,     0.77419,     0.77419,     0.77419,     0.77419,     0.77419,     0.77419,     0.77419,     0.77419,     0.77419,     0.77419,     0.77419,     0.77419,     0.77419,     0.77419,     0.77419,     0.77419,\n",
       "            0.77419,     0.77419,     0.77419,     0.77419,     0.77419,     0.77419,     0.77419,     0.71429,     0.71429,     0.71429,     0.71429,     0.71429,     0.71429,     0.71429,     0.71429,     0.71429,     0.71429,     0.71429,     0.71429,     0.71429,     0.71429,     0.71429,     0.71429,\n",
       "            0.71429,     0.71429,     0.71429,     0.66667,     0.66667,     0.66667,     0.66667,     0.66667,     0.66667,     0.66667,     0.66667,     0.66667,     0.66667,     0.66667,     0.66667,     0.66667,     0.66667,     0.66667,     0.66667,     0.66667,     0.66667,     0.65854,     0.65854,\n",
       "            0.65854,     0.65854,     0.65854,     0.65854,     0.65854,     0.65854,     0.65854,     0.65854,     0.65854,     0.65854,     0.65854,     0.65854,     0.65854,     0.65854,     0.65854,     0.65854,     0.65854,     0.59574,     0.59574,     0.59574,     0.59574,     0.59574,     0.59574,\n",
       "            0.59574,     0.59574,     0.59574,     0.59574,     0.59574,     0.59574,     0.59574,     0.59574,     0.59574,     0.59574,     0.59574,     0.59574,     0.56604,     0.56604,     0.56604,     0.56604,     0.56604,     0.56604,     0.56604,     0.56604,     0.56604,     0.56604,     0.56604,\n",
       "            0.56604,     0.56604,     0.56604,     0.56604,     0.56604,     0.56604,     0.56604,     0.56604,     0.56604,     0.56604,     0.56604,     0.56604,     0.56604,     0.56604,     0.56604,     0.56604,     0.56604,     0.56604,     0.56604,     0.56604,     0.56604,     0.56604,     0.56604,\n",
       "            0.56604,     0.56604,     0.56604,     0.48485,     0.48485,     0.48485,     0.48485,     0.48485,     0.48485,     0.48485,     0.48485,     0.48485,     0.48485,     0.48485,     0.48485,     0.48485,     0.48485,     0.48485,     0.48485,     0.48485,     0.48485,     0.48485,     0.48485,\n",
       "            0.48485,     0.48485,     0.48485,     0.48485,     0.48485,     0.48485,     0.48485,     0.48485,     0.48485,     0.48485,     0.48485,     0.48485,     0.48485,     0.48485,     0.48485,     0.48485,     0.48485,     0.38372,     0.38372,     0.38372,     0.38372,     0.38372,     0.38372,\n",
       "            0.38372,     0.38372,     0.38372,     0.38372,     0.38372,     0.38372,     0.38372,     0.38372,     0.38372,     0.38372,     0.38372,     0.38372,     0.38372,     0.37634,     0.37634,     0.37634,     0.37634,     0.37634,     0.37634,     0.37634,     0.37634,     0.37634,     0.37634,\n",
       "            0.37634,     0.37634,     0.37634,     0.37634,     0.37634,     0.37634,     0.37634,     0.37634,     0.37634,     0.37634,     0.37634,     0.37634,     0.37634,     0.37634,     0.37634,     0.37634,     0.37634,     0.37634,     0.37634,     0.37634,     0.37634,     0.37634,     0.37634,\n",
       "            0.37634,     0.37634,     0.37634,     0.37634,     0.36735,     0.36735,     0.36735,     0.36735,     0.36735,     0.36735,     0.36735,     0.36735,     0.36735,     0.36735,     0.36735,     0.36735,     0.36735,     0.36735,     0.36735,     0.36735,     0.36735,     0.36735,     0.29365,\n",
       "            0.29365,     0.29365,     0.29365,     0.29365,     0.29365,     0.29365,     0.29365,     0.29365,     0.29365,     0.29365,     0.29365,     0.29365,     0.29365,     0.29365,     0.29365,     0.29365,     0.29365,     0.29365,     0.28676,     0.28676,     0.28676,     0.28676,     0.28676,\n",
       "            0.28676,     0.28676,     0.28676,     0.28676,     0.28676,     0.28676,     0.28676,     0.28676,     0.28676,     0.28676,     0.28676,     0.28676,     0.28676,     0.28676,     0.28676,     0.28676,     0.28676,     0.28676,     0.28676,     0.28676,     0.28676,     0.28676,     0.28676,\n",
       "            0.28676,     0.28676,     0.28676,     0.28676,     0.28676,     0.28676,     0.28676,     0.28676,     0.28676,      0.2426,      0.2426,      0.2426,      0.2426,      0.2426,      0.2426,      0.2426,      0.2426,      0.2426,      0.2426,      0.2426,      0.2426,      0.2426,      0.2426,\n",
       "             0.2426,      0.2426,      0.2426,      0.2426,      0.2426,      0.2426,      0.2426,      0.2426,      0.2426,      0.2426,      0.2426,      0.2426,      0.2426,      0.2426,      0.2426,      0.2426,      0.2426,      0.2426,      0.2426,      0.2426,      0.2426,      0.2426,      0.2426,\n",
       "            0.23037,     0.23037,     0.23037,     0.23037,     0.23037,     0.23037,     0.23037,     0.23037,     0.23037,     0.23037,     0.23037,     0.23037,     0.23037,     0.23037,     0.23037,     0.23037,     0.23037,     0.23037,     0.23037,     0.23037,     0.23037,     0.23037,     0.23037,\n",
       "            0.23037,     0.23037,     0.23037,     0.23037,     0.23037,     0.23037,     0.23037,     0.23037,     0.23037,     0.23037,     0.23037,     0.23037,     0.23037,     0.23037,     0.23037,     0.23037,     0.23037,     0.23037,     0.23037,     0.23037,     0.23037,     0.23037,     0.23037,\n",
       "            0.23037,     0.23037,     0.23037,     0.23037,     0.23037,     0.23037,     0.23037,     0.23037,     0.23037,         0.2,         0.2,         0.2,         0.2,         0.2,         0.2,         0.2,         0.2,         0.2,         0.2,         0.2,         0.2,         0.2,         0.2,\n",
       "                0.2,         0.2,         0.2,         0.2,         0.2,     0.17829,     0.17829,     0.17829,     0.17829,     0.17829,     0.17829,     0.17829,     0.17829,     0.17829,     0.17829,     0.17829,     0.17829,     0.17829,     0.17829,     0.17829,     0.17829,     0.17829,     0.17829,\n",
       "            0.17472,     0.17472,     0.17472,     0.17472,     0.17472,     0.17472,     0.17472,     0.17472,     0.17472,     0.17472,     0.17472,     0.17472,     0.17472,     0.17472,     0.17472,     0.17472,     0.17472,     0.17472,     0.17472,     0.10643,     0.10643,     0.10643,     0.10643,\n",
       "            0.10643,     0.10643,     0.10643,     0.10643,     0.10643,     0.10643,     0.10643,     0.10643,     0.10643,     0.10643,     0.10643,     0.10643,     0.10643,     0.10643,       0.098,       0.098,       0.098,       0.098,       0.098,       0.098,       0.098,       0.098,       0.098,\n",
       "              0.098,       0.098,       0.098,       0.098,       0.098,       0.098,       0.098,       0.098,       0.098,       0.098,    0.052521,    0.052521,    0.052521,    0.052521,    0.052521,    0.052521,    0.052521,    0.052521,    0.052521,    0.052521,    0.052521,    0.052521,    0.052521,\n",
       "           0.052521,    0.052521,    0.052521,    0.052521,    0.052521,    0.019327,    0.019066,    0.018805,    0.018544,    0.018283,    0.018022,     0.01776,    0.017499,    0.017238,    0.016977,    0.016716,    0.016454,    0.016193,    0.015932,    0.015671,     0.01541,    0.015149,    0.014887,\n",
       "           0.014626,    0.014365,    0.014104,    0.013843,    0.013581,     0.01332,    0.013059,    0.012798,    0.012537,    0.012276,    0.012014,    0.011753,    0.011492,    0.011231,     0.01097,    0.010708,    0.010447,    0.010186,   0.0099249,   0.0096637,   0.0094025,   0.0091413,   0.0088802,\n",
       "           0.008619,   0.0083578,   0.0080966,   0.0078354,   0.0075743,   0.0073131,   0.0070519,   0.0067907,   0.0065295,   0.0062683,   0.0060072,    0.005746,   0.0054848,   0.0052236,   0.0049624,   0.0047013,   0.0044401,   0.0041789,   0.0039177,   0.0036565,   0.0033954,   0.0031342,    0.002873,\n",
       "          0.0026118,   0.0023506,   0.0020894,   0.0018283,   0.0015671,   0.0013059,   0.0010447,  0.00078354,  0.00052236,  0.00026118,           0]]), 'Recall', 'Precision'], [array([          0,    0.001001,    0.002002,    0.003003,    0.004004,    0.005005,    0.006006,    0.007007,    0.008008,    0.009009,     0.01001,    0.011011,    0.012012,    0.013013,    0.014014,    0.015015,    0.016016,    0.017017,    0.018018,    0.019019,     0.02002,    0.021021,    0.022022,    0.023023,\n",
       "          0.024024,    0.025025,    0.026026,    0.027027,    0.028028,    0.029029,     0.03003,    0.031031,    0.032032,    0.033033,    0.034034,    0.035035,    0.036036,    0.037037,    0.038038,    0.039039,     0.04004,    0.041041,    0.042042,    0.043043,    0.044044,    0.045045,    0.046046,    0.047047,\n",
       "          0.048048,    0.049049,     0.05005,    0.051051,    0.052052,    0.053053,    0.054054,    0.055055,    0.056056,    0.057057,    0.058058,    0.059059,     0.06006,    0.061061,    0.062062,    0.063063,    0.064064,    0.065065,    0.066066,    0.067067,    0.068068,    0.069069,     0.07007,    0.071071,\n",
       "          0.072072,    0.073073,    0.074074,    0.075075,    0.076076,    0.077077,    0.078078,    0.079079,     0.08008,    0.081081,    0.082082,    0.083083,    0.084084,    0.085085,    0.086086,    0.087087,    0.088088,    0.089089,     0.09009,    0.091091,    0.092092,    0.093093,    0.094094,    0.095095,\n",
       "          0.096096,    0.097097,    0.098098,    0.099099,      0.1001,      0.1011,      0.1021,      0.1031,      0.1041,     0.10511,     0.10611,     0.10711,     0.10811,     0.10911,     0.11011,     0.11111,     0.11211,     0.11311,     0.11411,     0.11512,     0.11612,     0.11712,     0.11812,     0.11912,\n",
       "           0.12012,     0.12112,     0.12212,     0.12312,     0.12412,     0.12513,     0.12613,     0.12713,     0.12813,     0.12913,     0.13013,     0.13113,     0.13213,     0.13313,     0.13413,     0.13514,     0.13614,     0.13714,     0.13814,     0.13914,     0.14014,     0.14114,     0.14214,     0.14314,\n",
       "           0.14414,     0.14515,     0.14615,     0.14715,     0.14815,     0.14915,     0.15015,     0.15115,     0.15215,     0.15315,     0.15415,     0.15516,     0.15616,     0.15716,     0.15816,     0.15916,     0.16016,     0.16116,     0.16216,     0.16316,     0.16416,     0.16517,     0.16617,     0.16717,\n",
       "           0.16817,     0.16917,     0.17017,     0.17117,     0.17217,     0.17317,     0.17417,     0.17518,     0.17618,     0.17718,     0.17818,     0.17918,     0.18018,     0.18118,     0.18218,     0.18318,     0.18418,     0.18519,     0.18619,     0.18719,     0.18819,     0.18919,     0.19019,     0.19119,\n",
       "           0.19219,     0.19319,     0.19419,      0.1952,      0.1962,      0.1972,      0.1982,      0.1992,      0.2002,      0.2012,      0.2022,      0.2032,      0.2042,     0.20521,     0.20621,     0.20721,     0.20821,     0.20921,     0.21021,     0.21121,     0.21221,     0.21321,     0.21421,     0.21522,\n",
       "           0.21622,     0.21722,     0.21822,     0.21922,     0.22022,     0.22122,     0.22222,     0.22322,     0.22422,     0.22523,     0.22623,     0.22723,     0.22823,     0.22923,     0.23023,     0.23123,     0.23223,     0.23323,     0.23423,     0.23524,     0.23624,     0.23724,     0.23824,     0.23924,\n",
       "           0.24024,     0.24124,     0.24224,     0.24324,     0.24424,     0.24525,     0.24625,     0.24725,     0.24825,     0.24925,     0.25025,     0.25125,     0.25225,     0.25325,     0.25425,     0.25526,     0.25626,     0.25726,     0.25826,     0.25926,     0.26026,     0.26126,     0.26226,     0.26326,\n",
       "           0.26426,     0.26527,     0.26627,     0.26727,     0.26827,     0.26927,     0.27027,     0.27127,     0.27227,     0.27327,     0.27427,     0.27528,     0.27628,     0.27728,     0.27828,     0.27928,     0.28028,     0.28128,     0.28228,     0.28328,     0.28428,     0.28529,     0.28629,     0.28729,\n",
       "           0.28829,     0.28929,     0.29029,     0.29129,     0.29229,     0.29329,     0.29429,      0.2953,      0.2963,      0.2973,      0.2983,      0.2993,      0.3003,      0.3013,      0.3023,      0.3033,      0.3043,     0.30531,     0.30631,     0.30731,     0.30831,     0.30931,     0.31031,     0.31131,\n",
       "           0.31231,     0.31331,     0.31431,     0.31532,     0.31632,     0.31732,     0.31832,     0.31932,     0.32032,     0.32132,     0.32232,     0.32332,     0.32432,     0.32533,     0.32633,     0.32733,     0.32833,     0.32933,     0.33033,     0.33133,     0.33233,     0.33333,     0.33433,     0.33534,\n",
       "           0.33634,     0.33734,     0.33834,     0.33934,     0.34034,     0.34134,     0.34234,     0.34334,     0.34434,     0.34535,     0.34635,     0.34735,     0.34835,     0.34935,     0.35035,     0.35135,     0.35235,     0.35335,     0.35435,     0.35536,     0.35636,     0.35736,     0.35836,     0.35936,\n",
       "           0.36036,     0.36136,     0.36236,     0.36336,     0.36436,     0.36537,     0.36637,     0.36737,     0.36837,     0.36937,     0.37037,     0.37137,     0.37237,     0.37337,     0.37437,     0.37538,     0.37638,     0.37738,     0.37838,     0.37938,     0.38038,     0.38138,     0.38238,     0.38338,\n",
       "           0.38438,     0.38539,     0.38639,     0.38739,     0.38839,     0.38939,     0.39039,     0.39139,     0.39239,     0.39339,     0.39439,      0.3954,      0.3964,      0.3974,      0.3984,      0.3994,      0.4004,      0.4014,      0.4024,      0.4034,      0.4044,     0.40541,     0.40641,     0.40741,\n",
       "           0.40841,     0.40941,     0.41041,     0.41141,     0.41241,     0.41341,     0.41441,     0.41542,     0.41642,     0.41742,     0.41842,     0.41942,     0.42042,     0.42142,     0.42242,     0.42342,     0.42442,     0.42543,     0.42643,     0.42743,     0.42843,     0.42943,     0.43043,     0.43143,\n",
       "           0.43243,     0.43343,     0.43443,     0.43544,     0.43644,     0.43744,     0.43844,     0.43944,     0.44044,     0.44144,     0.44244,     0.44344,     0.44444,     0.44545,     0.44645,     0.44745,     0.44845,     0.44945,     0.45045,     0.45145,     0.45245,     0.45345,     0.45445,     0.45546,\n",
       "           0.45646,     0.45746,     0.45846,     0.45946,     0.46046,     0.46146,     0.46246,     0.46346,     0.46446,     0.46547,     0.46647,     0.46747,     0.46847,     0.46947,     0.47047,     0.47147,     0.47247,     0.47347,     0.47447,     0.47548,     0.47648,     0.47748,     0.47848,     0.47948,\n",
       "           0.48048,     0.48148,     0.48248,     0.48348,     0.48448,     0.48549,     0.48649,     0.48749,     0.48849,     0.48949,     0.49049,     0.49149,     0.49249,     0.49349,     0.49449,      0.4955,      0.4965,      0.4975,      0.4985,      0.4995,      0.5005,      0.5015,      0.5025,      0.5035,\n",
       "            0.5045,     0.50551,     0.50651,     0.50751,     0.50851,     0.50951,     0.51051,     0.51151,     0.51251,     0.51351,     0.51451,     0.51552,     0.51652,     0.51752,     0.51852,     0.51952,     0.52052,     0.52152,     0.52252,     0.52352,     0.52452,     0.52553,     0.52653,     0.52753,\n",
       "           0.52853,     0.52953,     0.53053,     0.53153,     0.53253,     0.53353,     0.53453,     0.53554,     0.53654,     0.53754,     0.53854,     0.53954,     0.54054,     0.54154,     0.54254,     0.54354,     0.54454,     0.54555,     0.54655,     0.54755,     0.54855,     0.54955,     0.55055,     0.55155,\n",
       "           0.55255,     0.55355,     0.55455,     0.55556,     0.55656,     0.55756,     0.55856,     0.55956,     0.56056,     0.56156,     0.56256,     0.56356,     0.56456,     0.56557,     0.56657,     0.56757,     0.56857,     0.56957,     0.57057,     0.57157,     0.57257,     0.57357,     0.57457,     0.57558,\n",
       "           0.57658,     0.57758,     0.57858,     0.57958,     0.58058,     0.58158,     0.58258,     0.58358,     0.58458,     0.58559,     0.58659,     0.58759,     0.58859,     0.58959,     0.59059,     0.59159,     0.59259,     0.59359,     0.59459,      0.5956,      0.5966,      0.5976,      0.5986,      0.5996,\n",
       "            0.6006,      0.6016,      0.6026,      0.6036,      0.6046,     0.60561,     0.60661,     0.60761,     0.60861,     0.60961,     0.61061,     0.61161,     0.61261,     0.61361,     0.61461,     0.61562,     0.61662,     0.61762,     0.61862,     0.61962,     0.62062,     0.62162,     0.62262,     0.62362,\n",
       "           0.62462,     0.62563,     0.62663,     0.62763,     0.62863,     0.62963,     0.63063,     0.63163,     0.63263,     0.63363,     0.63463,     0.63564,     0.63664,     0.63764,     0.63864,     0.63964,     0.64064,     0.64164,     0.64264,     0.64364,     0.64464,     0.64565,     0.64665,     0.64765,\n",
       "           0.64865,     0.64965,     0.65065,     0.65165,     0.65265,     0.65365,     0.65465,     0.65566,     0.65666,     0.65766,     0.65866,     0.65966,     0.66066,     0.66166,     0.66266,     0.66366,     0.66466,     0.66567,     0.66667,     0.66767,     0.66867,     0.66967,     0.67067,     0.67167,\n",
       "           0.67267,     0.67367,     0.67467,     0.67568,     0.67668,     0.67768,     0.67868,     0.67968,     0.68068,     0.68168,     0.68268,     0.68368,     0.68468,     0.68569,     0.68669,     0.68769,     0.68869,     0.68969,     0.69069,     0.69169,     0.69269,     0.69369,     0.69469,      0.6957,\n",
       "            0.6967,      0.6977,      0.6987,      0.6997,      0.7007,      0.7017,      0.7027,      0.7037,      0.7047,     0.70571,     0.70671,     0.70771,     0.70871,     0.70971,     0.71071,     0.71171,     0.71271,     0.71371,     0.71471,     0.71572,     0.71672,     0.71772,     0.71872,     0.71972,\n",
       "           0.72072,     0.72172,     0.72272,     0.72372,     0.72472,     0.72573,     0.72673,     0.72773,     0.72873,     0.72973,     0.73073,     0.73173,     0.73273,     0.73373,     0.73473,     0.73574,     0.73674,     0.73774,     0.73874,     0.73974,     0.74074,     0.74174,     0.74274,     0.74374,\n",
       "           0.74474,     0.74575,     0.74675,     0.74775,     0.74875,     0.74975,     0.75075,     0.75175,     0.75275,     0.75375,     0.75475,     0.75576,     0.75676,     0.75776,     0.75876,     0.75976,     0.76076,     0.76176,     0.76276,     0.76376,     0.76476,     0.76577,     0.76677,     0.76777,\n",
       "           0.76877,     0.76977,     0.77077,     0.77177,     0.77277,     0.77377,     0.77477,     0.77578,     0.77678,     0.77778,     0.77878,     0.77978,     0.78078,     0.78178,     0.78278,     0.78378,     0.78478,     0.78579,     0.78679,     0.78779,     0.78879,     0.78979,     0.79079,     0.79179,\n",
       "           0.79279,     0.79379,     0.79479,      0.7958,      0.7968,      0.7978,      0.7988,      0.7998,      0.8008,      0.8018,      0.8028,      0.8038,      0.8048,     0.80581,     0.80681,     0.80781,     0.80881,     0.80981,     0.81081,     0.81181,     0.81281,     0.81381,     0.81481,     0.81582,\n",
       "           0.81682,     0.81782,     0.81882,     0.81982,     0.82082,     0.82182,     0.82282,     0.82382,     0.82482,     0.82583,     0.82683,     0.82783,     0.82883,     0.82983,     0.83083,     0.83183,     0.83283,     0.83383,     0.83483,     0.83584,     0.83684,     0.83784,     0.83884,     0.83984,\n",
       "           0.84084,     0.84184,     0.84284,     0.84384,     0.84484,     0.84585,     0.84685,     0.84785,     0.84885,     0.84985,     0.85085,     0.85185,     0.85285,     0.85385,     0.85485,     0.85586,     0.85686,     0.85786,     0.85886,     0.85986,     0.86086,     0.86186,     0.86286,     0.86386,\n",
       "           0.86486,     0.86587,     0.86687,     0.86787,     0.86887,     0.86987,     0.87087,     0.87187,     0.87287,     0.87387,     0.87487,     0.87588,     0.87688,     0.87788,     0.87888,     0.87988,     0.88088,     0.88188,     0.88288,     0.88388,     0.88488,     0.88589,     0.88689,     0.88789,\n",
       "           0.88889,     0.88989,     0.89089,     0.89189,     0.89289,     0.89389,     0.89489,      0.8959,      0.8969,      0.8979,      0.8989,      0.8999,      0.9009,      0.9019,      0.9029,      0.9039,      0.9049,     0.90591,     0.90691,     0.90791,     0.90891,     0.90991,     0.91091,     0.91191,\n",
       "           0.91291,     0.91391,     0.91491,     0.91592,     0.91692,     0.91792,     0.91892,     0.91992,     0.92092,     0.92192,     0.92292,     0.92392,     0.92492,     0.92593,     0.92693,     0.92793,     0.92893,     0.92993,     0.93093,     0.93193,     0.93293,     0.93393,     0.93493,     0.93594,\n",
       "           0.93694,     0.93794,     0.93894,     0.93994,     0.94094,     0.94194,     0.94294,     0.94394,     0.94494,     0.94595,     0.94695,     0.94795,     0.94895,     0.94995,     0.95095,     0.95195,     0.95295,     0.95395,     0.95495,     0.95596,     0.95696,     0.95796,     0.95896,     0.95996,\n",
       "           0.96096,     0.96196,     0.96296,     0.96396,     0.96496,     0.96597,     0.96697,     0.96797,     0.96897,     0.96997,     0.97097,     0.97197,     0.97297,     0.97397,     0.97497,     0.97598,     0.97698,     0.97798,     0.97898,     0.97998,     0.98098,     0.98198,     0.98298,     0.98398,\n",
       "           0.98498,     0.98599,     0.98699,     0.98799,     0.98899,     0.98999,     0.99099,     0.99199,     0.99299,     0.99399,     0.99499,       0.996,       0.997,       0.998,       0.999,           1]), array([[   0.037864,    0.037864,    0.037907,    0.046771,    0.063772,    0.080594,    0.094973,     0.10755,     0.12146,     0.13568,     0.15031,     0.16375,     0.17829,      0.1891,     0.20134,     0.21148,     0.22272,     0.23255,     0.24496,     0.25477,     0.26258,     0.26998,     0.27939,\n",
       "            0.28462,     0.29087,     0.29253,     0.29867,     0.30095,     0.30932,      0.3182,     0.32069,     0.32474,     0.32771,      0.3341,     0.34316,     0.34831,     0.35406,     0.35423,     0.35664,     0.34708,     0.35151,     0.35616,     0.36675,     0.36251,     0.35798,     0.35851,\n",
       "            0.35904,      0.3602,     0.36578,     0.37075,      0.3742,     0.37543,     0.37672,     0.37797,     0.38106,     0.38322,     0.38814,     0.39096,     0.39653,     0.39812,      0.3991,     0.40027,     0.40336,     0.41043,     0.40354,     0.40508,     0.40613,     0.39994,      0.4045,\n",
       "            0.40252,     0.40428,     0.41103,     0.41608,     0.41948,     0.42102,     0.42462,      0.4272,     0.42863,     0.42918,     0.42973,     0.43027,     0.43082,     0.43157,     0.43261,     0.43365,     0.43571,     0.43721,     0.43842,     0.43982,      0.4414,     0.44749,     0.44902,\n",
       "            0.45165,     0.46244,     0.46634,     0.47148,     0.47301,     0.47128,     0.46956,     0.46783,      0.4661,     0.46437,      0.4651,     0.47316,     0.47568,     0.46792,     0.45916,     0.46075,     0.46528,     0.46683,     0.46922,     0.47057,     0.46921,     0.46786,      0.4665,\n",
       "            0.46514,     0.46379,     0.46243,     0.46107,     0.47067,     0.47148,     0.47228,     0.47309,     0.47389,     0.47512,     0.47647,     0.47771,     0.47835,     0.47899,     0.47963,     0.48027,     0.48091,     0.48582,      0.4876,     0.48896,     0.48985,     0.49073,     0.49161,\n",
       "            0.49238,     0.49274,      0.4931,     0.49346,     0.49382,     0.49418,     0.49454,      0.4949,     0.49526,     0.49562,     0.49598,     0.49666,     0.49757,     0.49848,     0.49939,     0.50104,     0.50413,     0.50607,     0.50797,     0.50931,     0.51065,     0.51197,     0.51456,\n",
       "            0.51626,      0.5166,     0.51693,     0.51727,      0.5176,     0.51794,     0.51827,     0.51861,     0.51894,     0.51927,     0.51961,     0.51994,     0.52027,     0.52195,     0.52389,     0.52579,     0.52766,     0.53325,     0.53211,     0.53098,     0.52984,     0.52871,     0.52757,\n",
       "            0.52644,      0.5253,     0.52417,     0.52303,     0.52189,     0.52005,     0.51577,     0.51149,     0.51311,     0.51406,     0.51502,     0.51597,     0.51692,     0.51861,     0.52066,       0.522,     0.52257,     0.52313,     0.52369,     0.52425,     0.52481,     0.52537,     0.52593,\n",
       "            0.52657,     0.52742,     0.52828,     0.52912,     0.52997,     0.53081,     0.53133,     0.53176,     0.53219,     0.53263,     0.53306,     0.53349,     0.53392,     0.53436,     0.53479,     0.53521,     0.53564,     0.54094,     0.54142,     0.54189,     0.54237,     0.54284,     0.54332,\n",
       "            0.54379,     0.54426,     0.54473,      0.5452,     0.54583,     0.54662,     0.54741,      0.5482,     0.54899,     0.54978,     0.55052,     0.55096,      0.5514,     0.55184,     0.55229,     0.55273,     0.55317,     0.55361,     0.55404,     0.55448,     0.55492,     0.55536,     0.55942,\n",
       "            0.53951,     0.53383,     0.53523,     0.53664,     0.53803,      0.5397,     0.54149,     0.54327,     0.54445,     0.54545,     0.54645,     0.54744,     0.54843,     0.54927,     0.54992,     0.55056,      0.5512,     0.55183,     0.55247,      0.5531,     0.55374,     0.55437,     0.55178,\n",
       "            0.54867,     0.54555,     0.54242,     0.54027,     0.54146,     0.54264,     0.54381,     0.54498,     0.54587,     0.54657,     0.54726,     0.54796,     0.54865,     0.54934,     0.55002,     0.55071,     0.55526,     0.55948,     0.56749,     0.55859,     0.55482,     0.55888,     0.55693,\n",
       "            0.55456,     0.55218,     0.54981,     0.54742,     0.54503,     0.54399,     0.54544,     0.54688,     0.54832,      0.5497,      0.5509,      0.5521,     0.55329,     0.55447,      0.5556,      0.5561,     0.55659,     0.55709,     0.55759,     0.55808,     0.55857,     0.55907,     0.55956,\n",
       "            0.56005,     0.56053,     0.56102,     0.56151,     0.54575,      0.5465,     0.54724,     0.54798,     0.54871,     0.54945,     0.55018,      0.5509,     0.55162,     0.55218,      0.5527,     0.55322,     0.55374,     0.55426,     0.55478,     0.55529,     0.55581,     0.55632,     0.55683,\n",
       "            0.55734,     0.55785,     0.55979,     0.56363,     0.56279,     0.56011,     0.55742,     0.55473,     0.55203,     0.54932,      0.5438,     0.53355,     0.52978,     0.52926,     0.52875,     0.52824,     0.52772,     0.52721,     0.52669,     0.52618,     0.52566,     0.52515,     0.52463,\n",
       "            0.52411,      0.5236,     0.52308,     0.52256,     0.52205,     0.52153,     0.52101,     0.52049,     0.51998,     0.51946,     0.51894,     0.51842,      0.5179,     0.51738,     0.51686,     0.51634,     0.51582,      0.5153,     0.51478,     0.51426,     0.51374,     0.51322,      0.5127,\n",
       "            0.51215,     0.51076,     0.50938,     0.50799,      0.5066,     0.50521,     0.50382,     0.50242,     0.50103,     0.49963,     0.49823,     0.49683,     0.49542,     0.49402,       0.495,     0.49635,     0.49768,       0.499,     0.49556,      0.4812,     0.48194,     0.48267,      0.4834,\n",
       "            0.48413,     0.48485,     0.48556,     0.48627,     0.48698,     0.48728,     0.48741,     0.48755,     0.48768,     0.48782,     0.48795,     0.48809,     0.48822,     0.48836,     0.48849,     0.48862,     0.48876,     0.48889,     0.48902,     0.48916,     0.48929,     0.48942,     0.48956,\n",
       "            0.48969,     0.48982,     0.48995,     0.49009,     0.49022,     0.49035,     0.49048,     0.49061,     0.49074,     0.49088,     0.49101,     0.49114,     0.49127,      0.4914,     0.49153,     0.49166,     0.49179,     0.49192,     0.49205,     0.49218,     0.49231,     0.49244,     0.49257,\n",
       "            0.49269,     0.49282,     0.49295,     0.49308,     0.49321,     0.49334,     0.49346,     0.48675,     0.47657,     0.47416,     0.47483,     0.47549,     0.47614,     0.47679,     0.47744,     0.47808,     0.47872,     0.47935,     0.47998,     0.45973,     0.45987,     0.46029,      0.4607,\n",
       "            0.46111,     0.46152,     0.46193,     0.46234,     0.46274,     0.46314,     0.46354,     0.46394,     0.46433,     0.46473,     0.46512,     0.46551,     0.46371,     0.45829,     0.45283,     0.44734,     0.44374,     0.44226,     0.44077,     0.43929,      0.4378,     0.43631,     0.43481,\n",
       "            0.43332,     0.43182,     0.43032,     0.42881,     0.42731,      0.4258,     0.42429,     0.42277,     0.41868,     0.41409,     0.40947,     0.40483,     0.40017,     0.38862,     0.37666,     0.36449,      0.3529,     0.35219,     0.35147,     0.35076,     0.35005,     0.34933,     0.34862,\n",
       "            0.34791,     0.34719,     0.34648,     0.34576,     0.34504,     0.34433,     0.34361,     0.34289,     0.34217,     0.34145,     0.34073,     0.34001,     0.33929,     0.33857,     0.33785,     0.33713,      0.3364,     0.33568,     0.33496,     0.33423,     0.33351,     0.33278,     0.33206,\n",
       "            0.33133,      0.3306,     0.32988,     0.32915,     0.32842,     0.32408,     0.31938,     0.31467,     0.30993,     0.30518,     0.30232,     0.30103,     0.29974,     0.29844,     0.29715,     0.29585,     0.29455,     0.29325,     0.29195,     0.29064,     0.28934,     0.28803,     0.28672,\n",
       "            0.28541,      0.2841,     0.28279,     0.28147,     0.28015,     0.27884,     0.27752,     0.27719,     0.27766,     0.27812,     0.27858,     0.27903,     0.27947,      0.2799,     0.28033,     0.28075,     0.28117,     0.28131,     0.28138,     0.28145,     0.28153,      0.2816,     0.28167,\n",
       "            0.28175,     0.28182,     0.28189,     0.28196,     0.28203,      0.2821,     0.28218,     0.28225,     0.28232,     0.28239,     0.28246,     0.28253,      0.2826,     0.28267,     0.28274,     0.28281,     0.28288,     0.28294,     0.28301,     0.28308,     0.28315,     0.28322,     0.28329,\n",
       "            0.28335,     0.28342,     0.28349,     0.28356,     0.28362,     0.28369,     0.28376,     0.28382,     0.28389,     0.28396,     0.28402,     0.28409,     0.28415,     0.28422,     0.28429,     0.28435,     0.28442,     0.28448,     0.28455,     0.28461,     0.28467,     0.28474,      0.2848,\n",
       "            0.28487,     0.28493,     0.28499,     0.28506,     0.28512,     0.28518,     0.28525,     0.28531,     0.28537,     0.28543,      0.2855,     0.28556,     0.28562,     0.28568,     0.28537,     0.28462,     0.28386,     0.28311,     0.28235,     0.28159,     0.28083,     0.28008,     0.27932,\n",
       "            0.27856,      0.2778,     0.27704,     0.27627,     0.27551,     0.27475,     0.27398,     0.27322,     0.27245,     0.27169,     0.27092,     0.27015,     0.26939,     0.26862,     0.26785,     0.26708,     0.26631,     0.26554,     0.26476,     0.26399,     0.26322,     0.26244,     0.26167,\n",
       "            0.26089,     0.26012,     0.25934,     0.25856,     0.25724,     0.25493,     0.25261,     0.25029,     0.24796,     0.24563,     0.24329,     0.24094,     0.23859,     0.23623,     0.23387,      0.2315,     0.22938,     0.22862,     0.22786,     0.22709,     0.22633,     0.22556,     0.22479,\n",
       "            0.22403,     0.22326,     0.22249,     0.22172,     0.22095,     0.22018,     0.21941,     0.21864,     0.21786,     0.21709,     0.21632,     0.21554,     0.21477,     0.21399,     0.21322,     0.21244,     0.21166,     0.21088,      0.2101,     0.20932,     0.20854,     0.20776,     0.20698,\n",
       "             0.2062,     0.20541,     0.20463,     0.20384,     0.20306,     0.20227,     0.20148,      0.2007,     0.19977,     0.19778,     0.19579,      0.1938,      0.1918,     0.18979,     0.18778,     0.18577,     0.18375,     0.18173,      0.1797,     0.17767,     0.17564,      0.1736,     0.17155,\n",
       "             0.1695,     0.16864,     0.16778,     0.16691,     0.16605,     0.16519,     0.16432,     0.16346,     0.16259,     0.16173,     0.16086,     0.15999,     0.15912,     0.15825,     0.15738,     0.15651,     0.15564,     0.15477,     0.15389,     0.15302,     0.15214,     0.15127,     0.15039,\n",
       "            0.14951,     0.14863,     0.14775,     0.14687,     0.14599,     0.14511,     0.14423,     0.14334,     0.14246,     0.14157,     0.14069,      0.1398,     0.13891,     0.13802,     0.13736,     0.13673,      0.1361,     0.13546,     0.13483,     0.13419,     0.13356,     0.13292,     0.13228,\n",
       "            0.13165,     0.13101,     0.13037,     0.12973,     0.12909,     0.12846,     0.12782,     0.12718,     0.12654,     0.12589,     0.12525,     0.12461,     0.12397,     0.12333,     0.12268,     0.12204,      0.1214,     0.12075,     0.12011,     0.11946,     0.11882,     0.11817,     0.11752,\n",
       "            0.11688,     0.11623,     0.11558,     0.11493,     0.11428,     0.11363,     0.11299,     0.11233,     0.11168,     0.11103,     0.11038,     0.10973,     0.10908,     0.10842,     0.10777,     0.10712,     0.10646,     0.10581,     0.10445,    0.099566,    0.094656,    0.089721,    0.084761,\n",
       "           0.079774,    0.074762,    0.069439,    0.063525,    0.057575,    0.051588,    0.045565,    0.039504,           0,           0,           0,           0,           0,           0,           0,           0,           0,           0,           0,           0,           0,           0,           0,\n",
       "                  0,           0,           0,           0,           0,           0,           0,           0,           0,           0,           0,           0,           0,           0,           0,           0,           0,           0,           0,           0,           0,           0,           0,\n",
       "                  0,           0,           0,           0,           0,           0,           0,           0,           0,           0,           0,           0,           0,           0,           0,           0,           0,           0,           0,           0,           0,           0,           0,\n",
       "                  0,           0,           0,           0,           0,           0,           0,           0,           0,           0,           0,           0,           0,           0,           0,           0,           0,           0,           0,           0,           0,           0,           0,\n",
       "                  0,           0,           0,           0,           0,           0,           0,           0,           0,           0,           0,           0,           0,           0,           0,           0,           0,           0,           0,           0,           0,           0,           0,\n",
       "                  0,           0,           0,           0,           0,           0,           0,           0,           0,           0,           0,           0,           0,           0,           0,           0,           0,           0,           0,           0,           0,           0,           0,\n",
       "                  0,           0,           0,           0,           0,           0,           0,           0,           0,           0,           0]]), 'Confidence', 'F1'], [array([          0,    0.001001,    0.002002,    0.003003,    0.004004,    0.005005,    0.006006,    0.007007,    0.008008,    0.009009,     0.01001,    0.011011,    0.012012,    0.013013,    0.014014,    0.015015,    0.016016,    0.017017,    0.018018,    0.019019,     0.02002,    0.021021,    0.022022,    0.023023,\n",
       "          0.024024,    0.025025,    0.026026,    0.027027,    0.028028,    0.029029,     0.03003,    0.031031,    0.032032,    0.033033,    0.034034,    0.035035,    0.036036,    0.037037,    0.038038,    0.039039,     0.04004,    0.041041,    0.042042,    0.043043,    0.044044,    0.045045,    0.046046,    0.047047,\n",
       "          0.048048,    0.049049,     0.05005,    0.051051,    0.052052,    0.053053,    0.054054,    0.055055,    0.056056,    0.057057,    0.058058,    0.059059,     0.06006,    0.061061,    0.062062,    0.063063,    0.064064,    0.065065,    0.066066,    0.067067,    0.068068,    0.069069,     0.07007,    0.071071,\n",
       "          0.072072,    0.073073,    0.074074,    0.075075,    0.076076,    0.077077,    0.078078,    0.079079,     0.08008,    0.081081,    0.082082,    0.083083,    0.084084,    0.085085,    0.086086,    0.087087,    0.088088,    0.089089,     0.09009,    0.091091,    0.092092,    0.093093,    0.094094,    0.095095,\n",
       "          0.096096,    0.097097,    0.098098,    0.099099,      0.1001,      0.1011,      0.1021,      0.1031,      0.1041,     0.10511,     0.10611,     0.10711,     0.10811,     0.10911,     0.11011,     0.11111,     0.11211,     0.11311,     0.11411,     0.11512,     0.11612,     0.11712,     0.11812,     0.11912,\n",
       "           0.12012,     0.12112,     0.12212,     0.12312,     0.12412,     0.12513,     0.12613,     0.12713,     0.12813,     0.12913,     0.13013,     0.13113,     0.13213,     0.13313,     0.13413,     0.13514,     0.13614,     0.13714,     0.13814,     0.13914,     0.14014,     0.14114,     0.14214,     0.14314,\n",
       "           0.14414,     0.14515,     0.14615,     0.14715,     0.14815,     0.14915,     0.15015,     0.15115,     0.15215,     0.15315,     0.15415,     0.15516,     0.15616,     0.15716,     0.15816,     0.15916,     0.16016,     0.16116,     0.16216,     0.16316,     0.16416,     0.16517,     0.16617,     0.16717,\n",
       "           0.16817,     0.16917,     0.17017,     0.17117,     0.17217,     0.17317,     0.17417,     0.17518,     0.17618,     0.17718,     0.17818,     0.17918,     0.18018,     0.18118,     0.18218,     0.18318,     0.18418,     0.18519,     0.18619,     0.18719,     0.18819,     0.18919,     0.19019,     0.19119,\n",
       "           0.19219,     0.19319,     0.19419,      0.1952,      0.1962,      0.1972,      0.1982,      0.1992,      0.2002,      0.2012,      0.2022,      0.2032,      0.2042,     0.20521,     0.20621,     0.20721,     0.20821,     0.20921,     0.21021,     0.21121,     0.21221,     0.21321,     0.21421,     0.21522,\n",
       "           0.21622,     0.21722,     0.21822,     0.21922,     0.22022,     0.22122,     0.22222,     0.22322,     0.22422,     0.22523,     0.22623,     0.22723,     0.22823,     0.22923,     0.23023,     0.23123,     0.23223,     0.23323,     0.23423,     0.23524,     0.23624,     0.23724,     0.23824,     0.23924,\n",
       "           0.24024,     0.24124,     0.24224,     0.24324,     0.24424,     0.24525,     0.24625,     0.24725,     0.24825,     0.24925,     0.25025,     0.25125,     0.25225,     0.25325,     0.25425,     0.25526,     0.25626,     0.25726,     0.25826,     0.25926,     0.26026,     0.26126,     0.26226,     0.26326,\n",
       "           0.26426,     0.26527,     0.26627,     0.26727,     0.26827,     0.26927,     0.27027,     0.27127,     0.27227,     0.27327,     0.27427,     0.27528,     0.27628,     0.27728,     0.27828,     0.27928,     0.28028,     0.28128,     0.28228,     0.28328,     0.28428,     0.28529,     0.28629,     0.28729,\n",
       "           0.28829,     0.28929,     0.29029,     0.29129,     0.29229,     0.29329,     0.29429,      0.2953,      0.2963,      0.2973,      0.2983,      0.2993,      0.3003,      0.3013,      0.3023,      0.3033,      0.3043,     0.30531,     0.30631,     0.30731,     0.30831,     0.30931,     0.31031,     0.31131,\n",
       "           0.31231,     0.31331,     0.31431,     0.31532,     0.31632,     0.31732,     0.31832,     0.31932,     0.32032,     0.32132,     0.32232,     0.32332,     0.32432,     0.32533,     0.32633,     0.32733,     0.32833,     0.32933,     0.33033,     0.33133,     0.33233,     0.33333,     0.33433,     0.33534,\n",
       "           0.33634,     0.33734,     0.33834,     0.33934,     0.34034,     0.34134,     0.34234,     0.34334,     0.34434,     0.34535,     0.34635,     0.34735,     0.34835,     0.34935,     0.35035,     0.35135,     0.35235,     0.35335,     0.35435,     0.35536,     0.35636,     0.35736,     0.35836,     0.35936,\n",
       "           0.36036,     0.36136,     0.36236,     0.36336,     0.36436,     0.36537,     0.36637,     0.36737,     0.36837,     0.36937,     0.37037,     0.37137,     0.37237,     0.37337,     0.37437,     0.37538,     0.37638,     0.37738,     0.37838,     0.37938,     0.38038,     0.38138,     0.38238,     0.38338,\n",
       "           0.38438,     0.38539,     0.38639,     0.38739,     0.38839,     0.38939,     0.39039,     0.39139,     0.39239,     0.39339,     0.39439,      0.3954,      0.3964,      0.3974,      0.3984,      0.3994,      0.4004,      0.4014,      0.4024,      0.4034,      0.4044,     0.40541,     0.40641,     0.40741,\n",
       "           0.40841,     0.40941,     0.41041,     0.41141,     0.41241,     0.41341,     0.41441,     0.41542,     0.41642,     0.41742,     0.41842,     0.41942,     0.42042,     0.42142,     0.42242,     0.42342,     0.42442,     0.42543,     0.42643,     0.42743,     0.42843,     0.42943,     0.43043,     0.43143,\n",
       "           0.43243,     0.43343,     0.43443,     0.43544,     0.43644,     0.43744,     0.43844,     0.43944,     0.44044,     0.44144,     0.44244,     0.44344,     0.44444,     0.44545,     0.44645,     0.44745,     0.44845,     0.44945,     0.45045,     0.45145,     0.45245,     0.45345,     0.45445,     0.45546,\n",
       "           0.45646,     0.45746,     0.45846,     0.45946,     0.46046,     0.46146,     0.46246,     0.46346,     0.46446,     0.46547,     0.46647,     0.46747,     0.46847,     0.46947,     0.47047,     0.47147,     0.47247,     0.47347,     0.47447,     0.47548,     0.47648,     0.47748,     0.47848,     0.47948,\n",
       "           0.48048,     0.48148,     0.48248,     0.48348,     0.48448,     0.48549,     0.48649,     0.48749,     0.48849,     0.48949,     0.49049,     0.49149,     0.49249,     0.49349,     0.49449,      0.4955,      0.4965,      0.4975,      0.4985,      0.4995,      0.5005,      0.5015,      0.5025,      0.5035,\n",
       "            0.5045,     0.50551,     0.50651,     0.50751,     0.50851,     0.50951,     0.51051,     0.51151,     0.51251,     0.51351,     0.51451,     0.51552,     0.51652,     0.51752,     0.51852,     0.51952,     0.52052,     0.52152,     0.52252,     0.52352,     0.52452,     0.52553,     0.52653,     0.52753,\n",
       "           0.52853,     0.52953,     0.53053,     0.53153,     0.53253,     0.53353,     0.53453,     0.53554,     0.53654,     0.53754,     0.53854,     0.53954,     0.54054,     0.54154,     0.54254,     0.54354,     0.54454,     0.54555,     0.54655,     0.54755,     0.54855,     0.54955,     0.55055,     0.55155,\n",
       "           0.55255,     0.55355,     0.55455,     0.55556,     0.55656,     0.55756,     0.55856,     0.55956,     0.56056,     0.56156,     0.56256,     0.56356,     0.56456,     0.56557,     0.56657,     0.56757,     0.56857,     0.56957,     0.57057,     0.57157,     0.57257,     0.57357,     0.57457,     0.57558,\n",
       "           0.57658,     0.57758,     0.57858,     0.57958,     0.58058,     0.58158,     0.58258,     0.58358,     0.58458,     0.58559,     0.58659,     0.58759,     0.58859,     0.58959,     0.59059,     0.59159,     0.59259,     0.59359,     0.59459,      0.5956,      0.5966,      0.5976,      0.5986,      0.5996,\n",
       "            0.6006,      0.6016,      0.6026,      0.6036,      0.6046,     0.60561,     0.60661,     0.60761,     0.60861,     0.60961,     0.61061,     0.61161,     0.61261,     0.61361,     0.61461,     0.61562,     0.61662,     0.61762,     0.61862,     0.61962,     0.62062,     0.62162,     0.62262,     0.62362,\n",
       "           0.62462,     0.62563,     0.62663,     0.62763,     0.62863,     0.62963,     0.63063,     0.63163,     0.63263,     0.63363,     0.63463,     0.63564,     0.63664,     0.63764,     0.63864,     0.63964,     0.64064,     0.64164,     0.64264,     0.64364,     0.64464,     0.64565,     0.64665,     0.64765,\n",
       "           0.64865,     0.64965,     0.65065,     0.65165,     0.65265,     0.65365,     0.65465,     0.65566,     0.65666,     0.65766,     0.65866,     0.65966,     0.66066,     0.66166,     0.66266,     0.66366,     0.66466,     0.66567,     0.66667,     0.66767,     0.66867,     0.66967,     0.67067,     0.67167,\n",
       "           0.67267,     0.67367,     0.67467,     0.67568,     0.67668,     0.67768,     0.67868,     0.67968,     0.68068,     0.68168,     0.68268,     0.68368,     0.68468,     0.68569,     0.68669,     0.68769,     0.68869,     0.68969,     0.69069,     0.69169,     0.69269,     0.69369,     0.69469,      0.6957,\n",
       "            0.6967,      0.6977,      0.6987,      0.6997,      0.7007,      0.7017,      0.7027,      0.7037,      0.7047,     0.70571,     0.70671,     0.70771,     0.70871,     0.70971,     0.71071,     0.71171,     0.71271,     0.71371,     0.71471,     0.71572,     0.71672,     0.71772,     0.71872,     0.71972,\n",
       "           0.72072,     0.72172,     0.72272,     0.72372,     0.72472,     0.72573,     0.72673,     0.72773,     0.72873,     0.72973,     0.73073,     0.73173,     0.73273,     0.73373,     0.73473,     0.73574,     0.73674,     0.73774,     0.73874,     0.73974,     0.74074,     0.74174,     0.74274,     0.74374,\n",
       "           0.74474,     0.74575,     0.74675,     0.74775,     0.74875,     0.74975,     0.75075,     0.75175,     0.75275,     0.75375,     0.75475,     0.75576,     0.75676,     0.75776,     0.75876,     0.75976,     0.76076,     0.76176,     0.76276,     0.76376,     0.76476,     0.76577,     0.76677,     0.76777,\n",
       "           0.76877,     0.76977,     0.77077,     0.77177,     0.77277,     0.77377,     0.77477,     0.77578,     0.77678,     0.77778,     0.77878,     0.77978,     0.78078,     0.78178,     0.78278,     0.78378,     0.78478,     0.78579,     0.78679,     0.78779,     0.78879,     0.78979,     0.79079,     0.79179,\n",
       "           0.79279,     0.79379,     0.79479,      0.7958,      0.7968,      0.7978,      0.7988,      0.7998,      0.8008,      0.8018,      0.8028,      0.8038,      0.8048,     0.80581,     0.80681,     0.80781,     0.80881,     0.80981,     0.81081,     0.81181,     0.81281,     0.81381,     0.81481,     0.81582,\n",
       "           0.81682,     0.81782,     0.81882,     0.81982,     0.82082,     0.82182,     0.82282,     0.82382,     0.82482,     0.82583,     0.82683,     0.82783,     0.82883,     0.82983,     0.83083,     0.83183,     0.83283,     0.83383,     0.83483,     0.83584,     0.83684,     0.83784,     0.83884,     0.83984,\n",
       "           0.84084,     0.84184,     0.84284,     0.84384,     0.84484,     0.84585,     0.84685,     0.84785,     0.84885,     0.84985,     0.85085,     0.85185,     0.85285,     0.85385,     0.85485,     0.85586,     0.85686,     0.85786,     0.85886,     0.85986,     0.86086,     0.86186,     0.86286,     0.86386,\n",
       "           0.86486,     0.86587,     0.86687,     0.86787,     0.86887,     0.86987,     0.87087,     0.87187,     0.87287,     0.87387,     0.87487,     0.87588,     0.87688,     0.87788,     0.87888,     0.87988,     0.88088,     0.88188,     0.88288,     0.88388,     0.88488,     0.88589,     0.88689,     0.88789,\n",
       "           0.88889,     0.88989,     0.89089,     0.89189,     0.89289,     0.89389,     0.89489,      0.8959,      0.8969,      0.8979,      0.8989,      0.8999,      0.9009,      0.9019,      0.9029,      0.9039,      0.9049,     0.90591,     0.90691,     0.90791,     0.90891,     0.90991,     0.91091,     0.91191,\n",
       "           0.91291,     0.91391,     0.91491,     0.91592,     0.91692,     0.91792,     0.91892,     0.91992,     0.92092,     0.92192,     0.92292,     0.92392,     0.92492,     0.92593,     0.92693,     0.92793,     0.92893,     0.92993,     0.93093,     0.93193,     0.93293,     0.93393,     0.93493,     0.93594,\n",
       "           0.93694,     0.93794,     0.93894,     0.93994,     0.94094,     0.94194,     0.94294,     0.94394,     0.94494,     0.94595,     0.94695,     0.94795,     0.94895,     0.94995,     0.95095,     0.95195,     0.95295,     0.95395,     0.95495,     0.95596,     0.95696,     0.95796,     0.95896,     0.95996,\n",
       "           0.96096,     0.96196,     0.96296,     0.96396,     0.96496,     0.96597,     0.96697,     0.96797,     0.96897,     0.96997,     0.97097,     0.97197,     0.97297,     0.97397,     0.97497,     0.97598,     0.97698,     0.97798,     0.97898,     0.97998,     0.98098,     0.98198,     0.98298,     0.98398,\n",
       "           0.98498,     0.98599,     0.98699,     0.98799,     0.98899,     0.98999,     0.99099,     0.99199,     0.99299,     0.99399,     0.99499,       0.996,       0.997,       0.998,       0.999,           1]), array([[   0.019327,    0.019327,     0.01935,    0.023991,    0.033023,     0.04213,    0.050054,    0.057165,    0.065087,    0.073321,    0.081941,    0.089997,    0.099079,     0.10607,     0.11383,     0.12036,      0.1277,      0.1342,     0.14254,     0.14923,     0.15461,     0.15977,     0.16641,\n",
       "            0.17013,     0.17461,      0.1774,     0.18194,     0.18363,     0.18991,     0.19664,     0.19963,     0.20278,      0.2051,     0.21013,     0.21735,     0.22149,     0.22617,     0.22778,     0.22982,     0.22496,      0.2287,     0.23265,     0.24177,     0.23942,     0.23797,     0.23843,\n",
       "             0.2389,     0.23993,     0.24491,     0.24939,     0.25251,     0.25364,     0.25482,     0.25597,     0.25881,      0.2608,     0.26538,     0.26802,     0.27329,      0.2748,     0.27574,     0.27685,     0.27981,     0.28671,     0.28237,      0.2844,     0.28543,     0.28238,     0.28695,\n",
       "            0.28829,      0.2901,      0.2971,     0.30241,     0.30601,     0.30766,     0.31151,     0.31431,     0.31586,     0.31645,     0.31705,     0.31764,     0.31824,     0.31906,      0.3202,     0.32133,     0.32361,     0.32526,      0.3266,     0.32816,     0.32991,     0.33677,     0.33851,\n",
       "            0.34151,       0.354,     0.35859,     0.36471,     0.36691,      0.3658,     0.36468,     0.36357,     0.36245,     0.36134,     0.36267,     0.37258,      0.3757,      0.3723,     0.36772,     0.36977,     0.37565,     0.37767,      0.3808,     0.38315,     0.38226,     0.38136,     0.38047,\n",
       "            0.37958,     0.37868,     0.37779,     0.37689,     0.39036,     0.39147,     0.39258,     0.39369,     0.39481,     0.39651,      0.3984,     0.40013,     0.40104,     0.40194,     0.40284,     0.40375,     0.40465,     0.41164,     0.41421,     0.41618,     0.41746,     0.41874,     0.42003,\n",
       "            0.42116,     0.42169,     0.42222,     0.42275,     0.42327,      0.4238,     0.42433,     0.42486,     0.42539,     0.42592,     0.42645,     0.42746,     0.42881,     0.43016,     0.43151,     0.43399,     0.43865,     0.44159,      0.4445,     0.44656,     0.44861,     0.45066,     0.45468,\n",
       "            0.45735,     0.45788,     0.45841,     0.45893,     0.45946,     0.45999,     0.46052,     0.46104,     0.46157,      0.4621,     0.46263,     0.46315,     0.46368,     0.46636,     0.46946,     0.47252,     0.47555,     0.48479,     0.48406,     0.48333,      0.4826,     0.48187,     0.48114,\n",
       "            0.48041,     0.47968,     0.47895,     0.47822,     0.47749,      0.4763,      0.4735,     0.47071,     0.47668,     0.47834,        0.48,     0.48166,     0.48331,     0.48627,     0.48988,     0.49227,     0.49328,     0.49428,     0.49528,     0.49629,     0.49729,     0.49829,      0.4993,\n",
       "            0.50046,       0.502,     0.50355,     0.50509,     0.50664,     0.50818,     0.50912,     0.50992,     0.51072,     0.51152,     0.51232,     0.51312,     0.51391,     0.51471,     0.51551,     0.51631,     0.51711,     0.52707,     0.52798,     0.52889,     0.52979,      0.5307,     0.53161,\n",
       "            0.53251,     0.53342,     0.53433,     0.53523,     0.53643,     0.53797,     0.53951,     0.54104,     0.54258,     0.54411,     0.54557,     0.54644,     0.54731,     0.54818,     0.54905,     0.54993,      0.5508,     0.55167,     0.55254,     0.55341,     0.55428,     0.55516,     0.56333,\n",
       "            0.55289,     0.55006,     0.55306,     0.55607,     0.55907,     0.56269,      0.5666,      0.5705,     0.57312,     0.57534,     0.57756,     0.57978,     0.58199,     0.58391,     0.58536,     0.58682,     0.58827,     0.58973,     0.59118,     0.59263,     0.59409,     0.59554,     0.59411,\n",
       "            0.59222,     0.59032,     0.58842,     0.58759,     0.59041,     0.59322,     0.59604,     0.59885,       0.601,      0.6027,     0.60439,     0.60609,     0.60778,     0.60947,     0.61117,     0.61286,     0.62424,     0.63502,     0.65801,     0.65301,     0.65453,     0.66592,     0.66542,\n",
       "            0.66409,     0.66276,     0.66143,     0.66009,     0.65876,     0.65939,     0.66368,     0.66797,     0.67226,     0.67642,     0.68008,     0.68375,     0.68741,     0.69108,     0.69457,     0.69614,      0.6977,     0.69926,     0.70083,     0.70239,     0.70396,     0.70552,     0.70709,\n",
       "            0.70865,     0.71022,     0.71178,     0.71334,     0.70688,     0.70939,     0.71189,      0.7144,      0.7169,     0.71941,     0.72191,     0.72442,     0.72693,     0.72885,     0.73067,      0.7325,     0.73433,     0.73616,     0.73798,     0.73981,     0.74164,     0.74346,     0.74529,\n",
       "            0.74712,     0.74895,       0.756,     0.77017,     0.77334,     0.77216,     0.77097,     0.76978,      0.7686,     0.76741,      0.7649,     0.76019,     0.75845,     0.75821,     0.75796,     0.75771,     0.75746,     0.75721,     0.75696,     0.75671,     0.75646,     0.75621,     0.75597,\n",
       "            0.75572,     0.75547,     0.75522,     0.75497,     0.75472,     0.75447,     0.75422,     0.75397,     0.75373,     0.75348,     0.75323,     0.75298,     0.75273,     0.75248,     0.75223,     0.75198,     0.75173,     0.75149,     0.75124,     0.75099,     0.75074,     0.75049,     0.75024,\n",
       "            0.74998,     0.74927,     0.74857,     0.74787,     0.74716,     0.74646,     0.74576,     0.74505,     0.74435,     0.74365,     0.74295,     0.74224,     0.74154,     0.74084,     0.74605,      0.7522,     0.75835,     0.76449,     0.76706,     0.76094,     0.76465,     0.76836,     0.77207,\n",
       "            0.77578,     0.77949,      0.7832,     0.78691,     0.79062,     0.79218,      0.7929,     0.79361,     0.79433,     0.79505,     0.79576,     0.79648,      0.7972,     0.79791,     0.79863,     0.79934,     0.80006,     0.80078,     0.80149,     0.80221,     0.80293,     0.80364,     0.80436,\n",
       "            0.80508,     0.80579,     0.80651,     0.80722,     0.80794,     0.80866,     0.80937,     0.81009,     0.81081,     0.81152,     0.81224,     0.81296,     0.81367,     0.81439,      0.8151,     0.81582,     0.81654,     0.81725,     0.81797,     0.81869,      0.8194,     0.82012,     0.82084,\n",
       "            0.82155,     0.82227,     0.82298,      0.8237,     0.82442,     0.82513,     0.82585,     0.82337,     0.81932,     0.82105,     0.82505,     0.82904,     0.83303,     0.83703,     0.84102,     0.84501,     0.84901,       0.853,     0.85699,     0.85009,     0.85283,      0.8557,     0.85856,\n",
       "            0.86143,     0.86429,     0.86716,     0.87003,     0.87289,     0.87576,     0.87862,     0.88149,     0.88436,     0.88722,     0.89009,     0.89295,     0.89417,     0.89267,     0.89117,     0.88967,     0.88868,     0.88823,     0.88778,     0.88734,     0.88689,     0.88644,       0.886,\n",
       "            0.88555,      0.8851,     0.88466,     0.88421,     0.88376,     0.88332,     0.88287,     0.88242,     0.88108,     0.87958,     0.87807,     0.87656,     0.87505,     0.87088,      0.8666,     0.86172,     0.85712,      0.8568,     0.85648,     0.85616,     0.85584,     0.85551,     0.85519,\n",
       "            0.85487,     0.85455,     0.85423,      0.8539,     0.85358,     0.85326,     0.85294,     0.85262,      0.8523,     0.85197,     0.85165,     0.85133,     0.85101,     0.85069,     0.85036,     0.85004,     0.84972,      0.8494,     0.84908,     0.84876,     0.84843,     0.84811,     0.84779,\n",
       "            0.84747,     0.84715,     0.84682,      0.8465,     0.84618,     0.84397,     0.84158,     0.83919,      0.8368,     0.83441,     0.83292,     0.83216,      0.8314,     0.83064,     0.82989,     0.82913,     0.82837,     0.82761,     0.82686,      0.8261,     0.82534,     0.82458,     0.82383,\n",
       "            0.82307,     0.82231,     0.82155,     0.82079,     0.82004,     0.81928,     0.81852,      0.8228,     0.83119,     0.83957,     0.84796,     0.85635,     0.86473,     0.87312,     0.88151,     0.88989,     0.89828,      0.9012,     0.90271,     0.90421,     0.90572,     0.90723,     0.90874,\n",
       "            0.91024,     0.91175,     0.91326,     0.91476,     0.91627,     0.91778,     0.91929,     0.92079,      0.9223,     0.92381,     0.92532,     0.92682,     0.92833,     0.92984,     0.93135,     0.93285,     0.93436,     0.93587,     0.93738,     0.93888,     0.94039,      0.9419,     0.94341,\n",
       "            0.94491,     0.94642,     0.94793,     0.94943,     0.95094,     0.95245,     0.95396,     0.95546,     0.95697,     0.95848,     0.95999,     0.96149,       0.963,     0.96451,     0.96602,     0.96752,     0.96903,     0.97054,     0.97205,     0.97355,     0.97506,     0.97657,     0.97808,\n",
       "            0.97958,     0.98109,      0.9826,      0.9841,     0.98561,     0.98712,     0.98863,     0.99013,     0.99164,     0.99315,     0.99466,     0.99616,     0.99767,     0.99918,           1,           1,           1,           1,           1,           1,           1,           1,           1,\n",
       "                  1,           1,           1,           1,           1,           1,           1,           1,           1,           1,           1,           1,           1,           1,           1,           1,           1,           1,           1,           1,           1,           1,           1,\n",
       "                  1,           1,           1,           1,           1,           1,           1,           1,           1,           1,           1,           1,           1,           1,           1,           1,           1,           1,           1,           1,           1,           1,           1,\n",
       "                  1,           1,           1,           1,           1,           1,           1,           1,           1,           1,           1,           1,           1,           1,           1,           1,           1,           1,           1,           1,           1,           1,           1,\n",
       "                  1,           1,           1,           1,           1,           1,           1,           1,           1,           1,           1,           1,           1,           1,           1,           1,           1,           1,           1,           1,           1,           1,           1,\n",
       "                  1,           1,           1,           1,           1,           1,           1,           1,           1,           1,           1,           1,           1,           1,           1,           1,           1,           1,           1,           1,           1,           1,           1,\n",
       "                  1,           1,           1,           1,           1,           1,           1,           1,           1,           1,           1,           1,           1,           1,           1,           1,           1,           1,           1,           1,           1,           1,           1,\n",
       "                  1,           1,           1,           1,           1,           1,           1,           1,           1,           1,           1,           1,           1,           1,           1,           1,           1,           1,           1,           1,           1,           1,           1,\n",
       "                  1,           1,           1,           1,           1,           1,           1,           1,           1,           1,           1,           1,           1,           1,           1,           1,           1,           1,           1,           1,           1,           1,           1,\n",
       "                  1,           1,           1,           1,           1,           1,           1,           1,           1,           1,           1,           1,           1,           1,           1,           1,           1,           1,           1,           1,           1,           1,           1,\n",
       "                  1,           1,           1,           1,           1,           1,           1,           1,           1,           1,           1,           1,           1,           1,           1,           1,           1,           1,           1,           1,           1,           1,           1,\n",
       "                  1,           1,           1,           1,           1,           1,           1,           1,           1,           1,           1,           1,           1,           1,           1,           1,           1,           1,           1,           1,           1,           1,           1,\n",
       "                  1,           1,           1,           1,           1,           1,           1,           1,           1,           1,           1,           1,           1,           1,           1,           1,           1,           1,           1,           1,           1,           1,           1,\n",
       "                  1,           1,           1,           1,           1,           1,           1,           1,           1,           1,           1,           1,           1,           1,           1,           1,           1,           1,           1,           1,           1,           1,           1,\n",
       "                  1,           1,           1,           1,           1,           1,           1,           1,           1,           1,           1,           1,           1,           1,           1,           1,           1,           1,           1,           1,           1,           1,           1,\n",
       "                  1,           1,           1,           1,           1,           1,           1,           1,           1,           1,           1]]), 'Confidence', 'Precision'], [array([          0,    0.001001,    0.002002,    0.003003,    0.004004,    0.005005,    0.006006,    0.007007,    0.008008,    0.009009,     0.01001,    0.011011,    0.012012,    0.013013,    0.014014,    0.015015,    0.016016,    0.017017,    0.018018,    0.019019,     0.02002,    0.021021,    0.022022,    0.023023,\n",
       "          0.024024,    0.025025,    0.026026,    0.027027,    0.028028,    0.029029,     0.03003,    0.031031,    0.032032,    0.033033,    0.034034,    0.035035,    0.036036,    0.037037,    0.038038,    0.039039,     0.04004,    0.041041,    0.042042,    0.043043,    0.044044,    0.045045,    0.046046,    0.047047,\n",
       "          0.048048,    0.049049,     0.05005,    0.051051,    0.052052,    0.053053,    0.054054,    0.055055,    0.056056,    0.057057,    0.058058,    0.059059,     0.06006,    0.061061,    0.062062,    0.063063,    0.064064,    0.065065,    0.066066,    0.067067,    0.068068,    0.069069,     0.07007,    0.071071,\n",
       "          0.072072,    0.073073,    0.074074,    0.075075,    0.076076,    0.077077,    0.078078,    0.079079,     0.08008,    0.081081,    0.082082,    0.083083,    0.084084,    0.085085,    0.086086,    0.087087,    0.088088,    0.089089,     0.09009,    0.091091,    0.092092,    0.093093,    0.094094,    0.095095,\n",
       "          0.096096,    0.097097,    0.098098,    0.099099,      0.1001,      0.1011,      0.1021,      0.1031,      0.1041,     0.10511,     0.10611,     0.10711,     0.10811,     0.10911,     0.11011,     0.11111,     0.11211,     0.11311,     0.11411,     0.11512,     0.11612,     0.11712,     0.11812,     0.11912,\n",
       "           0.12012,     0.12112,     0.12212,     0.12312,     0.12412,     0.12513,     0.12613,     0.12713,     0.12813,     0.12913,     0.13013,     0.13113,     0.13213,     0.13313,     0.13413,     0.13514,     0.13614,     0.13714,     0.13814,     0.13914,     0.14014,     0.14114,     0.14214,     0.14314,\n",
       "           0.14414,     0.14515,     0.14615,     0.14715,     0.14815,     0.14915,     0.15015,     0.15115,     0.15215,     0.15315,     0.15415,     0.15516,     0.15616,     0.15716,     0.15816,     0.15916,     0.16016,     0.16116,     0.16216,     0.16316,     0.16416,     0.16517,     0.16617,     0.16717,\n",
       "           0.16817,     0.16917,     0.17017,     0.17117,     0.17217,     0.17317,     0.17417,     0.17518,     0.17618,     0.17718,     0.17818,     0.17918,     0.18018,     0.18118,     0.18218,     0.18318,     0.18418,     0.18519,     0.18619,     0.18719,     0.18819,     0.18919,     0.19019,     0.19119,\n",
       "           0.19219,     0.19319,     0.19419,      0.1952,      0.1962,      0.1972,      0.1982,      0.1992,      0.2002,      0.2012,      0.2022,      0.2032,      0.2042,     0.20521,     0.20621,     0.20721,     0.20821,     0.20921,     0.21021,     0.21121,     0.21221,     0.21321,     0.21421,     0.21522,\n",
       "           0.21622,     0.21722,     0.21822,     0.21922,     0.22022,     0.22122,     0.22222,     0.22322,     0.22422,     0.22523,     0.22623,     0.22723,     0.22823,     0.22923,     0.23023,     0.23123,     0.23223,     0.23323,     0.23423,     0.23524,     0.23624,     0.23724,     0.23824,     0.23924,\n",
       "           0.24024,     0.24124,     0.24224,     0.24324,     0.24424,     0.24525,     0.24625,     0.24725,     0.24825,     0.24925,     0.25025,     0.25125,     0.25225,     0.25325,     0.25425,     0.25526,     0.25626,     0.25726,     0.25826,     0.25926,     0.26026,     0.26126,     0.26226,     0.26326,\n",
       "           0.26426,     0.26527,     0.26627,     0.26727,     0.26827,     0.26927,     0.27027,     0.27127,     0.27227,     0.27327,     0.27427,     0.27528,     0.27628,     0.27728,     0.27828,     0.27928,     0.28028,     0.28128,     0.28228,     0.28328,     0.28428,     0.28529,     0.28629,     0.28729,\n",
       "           0.28829,     0.28929,     0.29029,     0.29129,     0.29229,     0.29329,     0.29429,      0.2953,      0.2963,      0.2973,      0.2983,      0.2993,      0.3003,      0.3013,      0.3023,      0.3033,      0.3043,     0.30531,     0.30631,     0.30731,     0.30831,     0.30931,     0.31031,     0.31131,\n",
       "           0.31231,     0.31331,     0.31431,     0.31532,     0.31632,     0.31732,     0.31832,     0.31932,     0.32032,     0.32132,     0.32232,     0.32332,     0.32432,     0.32533,     0.32633,     0.32733,     0.32833,     0.32933,     0.33033,     0.33133,     0.33233,     0.33333,     0.33433,     0.33534,\n",
       "           0.33634,     0.33734,     0.33834,     0.33934,     0.34034,     0.34134,     0.34234,     0.34334,     0.34434,     0.34535,     0.34635,     0.34735,     0.34835,     0.34935,     0.35035,     0.35135,     0.35235,     0.35335,     0.35435,     0.35536,     0.35636,     0.35736,     0.35836,     0.35936,\n",
       "           0.36036,     0.36136,     0.36236,     0.36336,     0.36436,     0.36537,     0.36637,     0.36737,     0.36837,     0.36937,     0.37037,     0.37137,     0.37237,     0.37337,     0.37437,     0.37538,     0.37638,     0.37738,     0.37838,     0.37938,     0.38038,     0.38138,     0.38238,     0.38338,\n",
       "           0.38438,     0.38539,     0.38639,     0.38739,     0.38839,     0.38939,     0.39039,     0.39139,     0.39239,     0.39339,     0.39439,      0.3954,      0.3964,      0.3974,      0.3984,      0.3994,      0.4004,      0.4014,      0.4024,      0.4034,      0.4044,     0.40541,     0.40641,     0.40741,\n",
       "           0.40841,     0.40941,     0.41041,     0.41141,     0.41241,     0.41341,     0.41441,     0.41542,     0.41642,     0.41742,     0.41842,     0.41942,     0.42042,     0.42142,     0.42242,     0.42342,     0.42442,     0.42543,     0.42643,     0.42743,     0.42843,     0.42943,     0.43043,     0.43143,\n",
       "           0.43243,     0.43343,     0.43443,     0.43544,     0.43644,     0.43744,     0.43844,     0.43944,     0.44044,     0.44144,     0.44244,     0.44344,     0.44444,     0.44545,     0.44645,     0.44745,     0.44845,     0.44945,     0.45045,     0.45145,     0.45245,     0.45345,     0.45445,     0.45546,\n",
       "           0.45646,     0.45746,     0.45846,     0.45946,     0.46046,     0.46146,     0.46246,     0.46346,     0.46446,     0.46547,     0.46647,     0.46747,     0.46847,     0.46947,     0.47047,     0.47147,     0.47247,     0.47347,     0.47447,     0.47548,     0.47648,     0.47748,     0.47848,     0.47948,\n",
       "           0.48048,     0.48148,     0.48248,     0.48348,     0.48448,     0.48549,     0.48649,     0.48749,     0.48849,     0.48949,     0.49049,     0.49149,     0.49249,     0.49349,     0.49449,      0.4955,      0.4965,      0.4975,      0.4985,      0.4995,      0.5005,      0.5015,      0.5025,      0.5035,\n",
       "            0.5045,     0.50551,     0.50651,     0.50751,     0.50851,     0.50951,     0.51051,     0.51151,     0.51251,     0.51351,     0.51451,     0.51552,     0.51652,     0.51752,     0.51852,     0.51952,     0.52052,     0.52152,     0.52252,     0.52352,     0.52452,     0.52553,     0.52653,     0.52753,\n",
       "           0.52853,     0.52953,     0.53053,     0.53153,     0.53253,     0.53353,     0.53453,     0.53554,     0.53654,     0.53754,     0.53854,     0.53954,     0.54054,     0.54154,     0.54254,     0.54354,     0.54454,     0.54555,     0.54655,     0.54755,     0.54855,     0.54955,     0.55055,     0.55155,\n",
       "           0.55255,     0.55355,     0.55455,     0.55556,     0.55656,     0.55756,     0.55856,     0.55956,     0.56056,     0.56156,     0.56256,     0.56356,     0.56456,     0.56557,     0.56657,     0.56757,     0.56857,     0.56957,     0.57057,     0.57157,     0.57257,     0.57357,     0.57457,     0.57558,\n",
       "           0.57658,     0.57758,     0.57858,     0.57958,     0.58058,     0.58158,     0.58258,     0.58358,     0.58458,     0.58559,     0.58659,     0.58759,     0.58859,     0.58959,     0.59059,     0.59159,     0.59259,     0.59359,     0.59459,      0.5956,      0.5966,      0.5976,      0.5986,      0.5996,\n",
       "            0.6006,      0.6016,      0.6026,      0.6036,      0.6046,     0.60561,     0.60661,     0.60761,     0.60861,     0.60961,     0.61061,     0.61161,     0.61261,     0.61361,     0.61461,     0.61562,     0.61662,     0.61762,     0.61862,     0.61962,     0.62062,     0.62162,     0.62262,     0.62362,\n",
       "           0.62462,     0.62563,     0.62663,     0.62763,     0.62863,     0.62963,     0.63063,     0.63163,     0.63263,     0.63363,     0.63463,     0.63564,     0.63664,     0.63764,     0.63864,     0.63964,     0.64064,     0.64164,     0.64264,     0.64364,     0.64464,     0.64565,     0.64665,     0.64765,\n",
       "           0.64865,     0.64965,     0.65065,     0.65165,     0.65265,     0.65365,     0.65465,     0.65566,     0.65666,     0.65766,     0.65866,     0.65966,     0.66066,     0.66166,     0.66266,     0.66366,     0.66466,     0.66567,     0.66667,     0.66767,     0.66867,     0.66967,     0.67067,     0.67167,\n",
       "           0.67267,     0.67367,     0.67467,     0.67568,     0.67668,     0.67768,     0.67868,     0.67968,     0.68068,     0.68168,     0.68268,     0.68368,     0.68468,     0.68569,     0.68669,     0.68769,     0.68869,     0.68969,     0.69069,     0.69169,     0.69269,     0.69369,     0.69469,      0.6957,\n",
       "            0.6967,      0.6977,      0.6987,      0.6997,      0.7007,      0.7017,      0.7027,      0.7037,      0.7047,     0.70571,     0.70671,     0.70771,     0.70871,     0.70971,     0.71071,     0.71171,     0.71271,     0.71371,     0.71471,     0.71572,     0.71672,     0.71772,     0.71872,     0.71972,\n",
       "           0.72072,     0.72172,     0.72272,     0.72372,     0.72472,     0.72573,     0.72673,     0.72773,     0.72873,     0.72973,     0.73073,     0.73173,     0.73273,     0.73373,     0.73473,     0.73574,     0.73674,     0.73774,     0.73874,     0.73974,     0.74074,     0.74174,     0.74274,     0.74374,\n",
       "           0.74474,     0.74575,     0.74675,     0.74775,     0.74875,     0.74975,     0.75075,     0.75175,     0.75275,     0.75375,     0.75475,     0.75576,     0.75676,     0.75776,     0.75876,     0.75976,     0.76076,     0.76176,     0.76276,     0.76376,     0.76476,     0.76577,     0.76677,     0.76777,\n",
       "           0.76877,     0.76977,     0.77077,     0.77177,     0.77277,     0.77377,     0.77477,     0.77578,     0.77678,     0.77778,     0.77878,     0.77978,     0.78078,     0.78178,     0.78278,     0.78378,     0.78478,     0.78579,     0.78679,     0.78779,     0.78879,     0.78979,     0.79079,     0.79179,\n",
       "           0.79279,     0.79379,     0.79479,      0.7958,      0.7968,      0.7978,      0.7988,      0.7998,      0.8008,      0.8018,      0.8028,      0.8038,      0.8048,     0.80581,     0.80681,     0.80781,     0.80881,     0.80981,     0.81081,     0.81181,     0.81281,     0.81381,     0.81481,     0.81582,\n",
       "           0.81682,     0.81782,     0.81882,     0.81982,     0.82082,     0.82182,     0.82282,     0.82382,     0.82482,     0.82583,     0.82683,     0.82783,     0.82883,     0.82983,     0.83083,     0.83183,     0.83283,     0.83383,     0.83483,     0.83584,     0.83684,     0.83784,     0.83884,     0.83984,\n",
       "           0.84084,     0.84184,     0.84284,     0.84384,     0.84484,     0.84585,     0.84685,     0.84785,     0.84885,     0.84985,     0.85085,     0.85185,     0.85285,     0.85385,     0.85485,     0.85586,     0.85686,     0.85786,     0.85886,     0.85986,     0.86086,     0.86186,     0.86286,     0.86386,\n",
       "           0.86486,     0.86587,     0.86687,     0.86787,     0.86887,     0.86987,     0.87087,     0.87187,     0.87287,     0.87387,     0.87487,     0.87588,     0.87688,     0.87788,     0.87888,     0.87988,     0.88088,     0.88188,     0.88288,     0.88388,     0.88488,     0.88589,     0.88689,     0.88789,\n",
       "           0.88889,     0.88989,     0.89089,     0.89189,     0.89289,     0.89389,     0.89489,      0.8959,      0.8969,      0.8979,      0.8989,      0.8999,      0.9009,      0.9019,      0.9029,      0.9039,      0.9049,     0.90591,     0.90691,     0.90791,     0.90891,     0.90991,     0.91091,     0.91191,\n",
       "           0.91291,     0.91391,     0.91491,     0.91592,     0.91692,     0.91792,     0.91892,     0.91992,     0.92092,     0.92192,     0.92292,     0.92392,     0.92492,     0.92593,     0.92693,     0.92793,     0.92893,     0.92993,     0.93093,     0.93193,     0.93293,     0.93393,     0.93493,     0.93594,\n",
       "           0.93694,     0.93794,     0.93894,     0.93994,     0.94094,     0.94194,     0.94294,     0.94394,     0.94494,     0.94595,     0.94695,     0.94795,     0.94895,     0.94995,     0.95095,     0.95195,     0.95295,     0.95395,     0.95495,     0.95596,     0.95696,     0.95796,     0.95896,     0.95996,\n",
       "           0.96096,     0.96196,     0.96296,     0.96396,     0.96496,     0.96597,     0.96697,     0.96797,     0.96897,     0.96997,     0.97097,     0.97197,     0.97297,     0.97397,     0.97497,     0.97598,     0.97698,     0.97798,     0.97898,     0.97998,     0.98098,     0.98198,     0.98298,     0.98398,\n",
       "           0.98498,     0.98599,     0.98699,     0.98799,     0.98899,     0.98999,     0.99099,     0.99199,     0.99299,     0.99399,     0.99499,       0.996,       0.997,       0.998,       0.999,           1]), array([[    0.92593,     0.92593,     0.92593,     0.92593,     0.92593,     0.92593,     0.92593,     0.90741,     0.90741,     0.90741,     0.90741,     0.90741,     0.88889,     0.87037,     0.87037,     0.87037,     0.87037,     0.87037,     0.87037,     0.87037,     0.87037,     0.87037,     0.87037,\n",
       "            0.87037,     0.87037,     0.83333,     0.83333,     0.83333,     0.83333,     0.83333,     0.81481,     0.81481,     0.81481,     0.81481,     0.81481,     0.81481,     0.81481,      0.7963,     0.79573,     0.75926,     0.75926,     0.75926,     0.75926,     0.74617,     0.72222,     0.72222,\n",
       "            0.72222,     0.72222,     0.72222,     0.72222,     0.72222,     0.72222,     0.72222,     0.72222,     0.72222,     0.72222,     0.72222,     0.72222,     0.72222,     0.72222,     0.72222,     0.72222,     0.72222,     0.72201,     0.70683,      0.7037,      0.7037,     0.68519,     0.68519,\n",
       "            0.66667,     0.66667,     0.66667,     0.66667,     0.66667,     0.66667,     0.66667,     0.66667,     0.66667,     0.66667,     0.66667,     0.66667,     0.66667,     0.66667,     0.66667,     0.66667,     0.66667,     0.66667,     0.66667,     0.66667,     0.66667,     0.66667,     0.66667,\n",
       "            0.66667,     0.66667,     0.66667,     0.66667,     0.66542,     0.66226,      0.6591,     0.65593,     0.65277,     0.64961,     0.64815,     0.64815,     0.64815,     0.62963,     0.61111,     0.61111,     0.61111,     0.61111,     0.61111,     0.60966,     0.60737,     0.60509,     0.60281,\n",
       "            0.60052,     0.59824,     0.59596,     0.59367,     0.59259,     0.59259,     0.59259,     0.59259,     0.59259,     0.59259,     0.59259,     0.59259,     0.59259,     0.59259,     0.59259,     0.59259,     0.59259,     0.59259,     0.59259,     0.59259,     0.59259,     0.59259,     0.59259,\n",
       "            0.59259,     0.59259,     0.59259,     0.59259,     0.59259,     0.59259,     0.59259,     0.59259,     0.59259,     0.59259,     0.59259,     0.59259,     0.59259,     0.59259,     0.59259,     0.59259,     0.59259,     0.59259,     0.59259,     0.59259,     0.59259,     0.59259,     0.59259,\n",
       "            0.59259,     0.59259,     0.59259,     0.59259,     0.59259,     0.59259,     0.59259,     0.59259,     0.59259,     0.59259,     0.59259,     0.59259,     0.59259,     0.59259,     0.59259,     0.59259,     0.59259,     0.59246,     0.59075,     0.58905,     0.58734,     0.58564,     0.58393,\n",
       "            0.58222,     0.58052,     0.57881,      0.5771,      0.5754,     0.57266,     0.56633,        0.56,     0.55556,     0.55556,     0.55556,     0.55556,     0.55556,     0.55556,     0.55556,     0.55556,     0.55556,     0.55556,     0.55556,     0.55556,     0.55556,     0.55556,     0.55556,\n",
       "            0.55556,     0.55556,     0.55556,     0.55556,     0.55556,     0.55556,     0.55556,     0.55556,     0.55556,     0.55556,     0.55556,     0.55556,     0.55556,     0.55556,     0.55556,     0.55556,     0.55556,     0.55556,     0.55556,     0.55556,     0.55556,     0.55556,     0.55556,\n",
       "            0.55556,     0.55556,     0.55556,     0.55556,     0.55556,     0.55556,     0.55556,     0.55556,     0.55556,     0.55556,     0.55556,     0.55556,     0.55556,     0.55556,     0.55556,     0.55556,     0.55556,     0.55556,     0.55556,     0.55556,     0.55556,     0.55556,     0.55556,\n",
       "            0.52677,     0.51852,     0.51852,     0.51852,     0.51852,     0.51852,     0.51852,     0.51852,     0.51852,     0.51852,     0.51852,     0.51852,     0.51852,     0.51852,     0.51852,     0.51852,     0.51852,     0.51852,     0.51852,     0.51852,     0.51852,     0.51852,     0.51508,\n",
       "            0.51108,     0.50709,     0.50309,         0.5,         0.5,         0.5,         0.5,         0.5,         0.5,         0.5,         0.5,         0.5,         0.5,         0.5,         0.5,         0.5,         0.5,         0.5,     0.49886,     0.48802,     0.48148,     0.48148,     0.47885,\n",
       "            0.47604,     0.47323,     0.47042,     0.46761,     0.46479,     0.46296,     0.46296,     0.46296,     0.46296,     0.46296,     0.46296,     0.46296,     0.46296,     0.46296,     0.46296,     0.46296,     0.46296,     0.46296,     0.46296,     0.46296,     0.46296,     0.46296,     0.46296,\n",
       "            0.46296,     0.46296,     0.46296,     0.46296,     0.44444,     0.44444,     0.44444,     0.44444,     0.44444,     0.44444,     0.44444,     0.44444,     0.44444,     0.44444,     0.44444,     0.44444,     0.44444,     0.44444,     0.44444,     0.44444,     0.44444,     0.44444,     0.44444,\n",
       "            0.44444,     0.44444,     0.44444,     0.44444,     0.44235,     0.43943,     0.43651,     0.43359,     0.43067,     0.42775,     0.42186,     0.41102,     0.40705,     0.40652,     0.40598,     0.40545,     0.40491,     0.40438,     0.40384,     0.40331,     0.40277,     0.40224,      0.4017,\n",
       "            0.40117,     0.40063,      0.4001,     0.39956,     0.39903,      0.3985,     0.39796,     0.39743,     0.39689,     0.39636,     0.39582,     0.39529,     0.39475,     0.39422,     0.39368,     0.39315,     0.39261,     0.39208,     0.39154,     0.39101,     0.39047,     0.38994,     0.38941,\n",
       "            0.38884,     0.38744,     0.38603,     0.38462,     0.38322,     0.38181,      0.3804,       0.379,     0.37759,     0.37619,     0.37478,     0.37337,     0.37197,     0.37056,     0.37037,     0.37037,     0.37037,     0.37037,     0.36601,     0.35185,     0.35185,     0.35185,     0.35185,\n",
       "            0.35185,     0.35185,     0.35185,     0.35185,     0.35185,     0.35185,     0.35185,     0.35185,     0.35185,     0.35185,     0.35185,     0.35185,     0.35185,     0.35185,     0.35185,     0.35185,     0.35185,     0.35185,     0.35185,     0.35185,     0.35185,     0.35185,     0.35185,\n",
       "            0.35185,     0.35185,     0.35185,     0.35185,     0.35185,     0.35185,     0.35185,     0.35185,     0.35185,     0.35185,     0.35185,     0.35185,     0.35185,     0.35185,     0.35185,     0.35185,     0.35185,     0.35185,     0.35185,     0.35185,     0.35185,     0.35185,     0.35185,\n",
       "            0.35185,     0.35185,     0.35185,     0.35185,     0.35185,     0.35185,     0.35185,     0.34549,       0.336,     0.33333,     0.33333,     0.33333,     0.33333,     0.33333,     0.33333,     0.33333,     0.33333,     0.33333,     0.33333,     0.31506,     0.31481,     0.31481,     0.31481,\n",
       "            0.31481,     0.31481,     0.31481,     0.31481,     0.31481,     0.31481,     0.31481,     0.31481,     0.31481,     0.31481,     0.31481,     0.31481,     0.31302,     0.30828,     0.30353,     0.29878,     0.29569,     0.29443,     0.29316,      0.2919,     0.29063,     0.28937,      0.2881,\n",
       "            0.28684,     0.28557,     0.28431,     0.28304,     0.28177,     0.28051,     0.27924,     0.27798,     0.27458,     0.27079,     0.26699,     0.26319,      0.2594,     0.25011,     0.24062,     0.23113,     0.22219,     0.22165,      0.2211,     0.22056,     0.22002,     0.21948,     0.21893,\n",
       "            0.21839,     0.21785,     0.21731,     0.21677,     0.21622,     0.21568,     0.21514,      0.2146,     0.21405,     0.21351,     0.21297,     0.21243,     0.21188,     0.21134,      0.2108,     0.21026,     0.20972,     0.20917,     0.20863,     0.20809,     0.20755,       0.207,     0.20646,\n",
       "            0.20592,     0.20538,     0.20483,     0.20429,     0.20375,     0.20054,     0.19709,     0.19364,     0.19019,     0.18674,     0.18468,     0.18375,     0.18282,      0.1819,     0.18097,     0.18005,     0.17912,     0.17819,     0.17727,     0.17634,     0.17542,     0.17449,     0.17356,\n",
       "            0.17264,     0.17171,     0.17079,     0.16986,     0.16893,     0.16801,     0.16708,     0.16667,     0.16667,     0.16667,     0.16667,     0.16667,     0.16667,     0.16667,     0.16667,     0.16667,     0.16667,     0.16667,     0.16667,     0.16667,     0.16667,     0.16667,     0.16667,\n",
       "            0.16667,     0.16667,     0.16667,     0.16667,     0.16667,     0.16667,     0.16667,     0.16667,     0.16667,     0.16667,     0.16667,     0.16667,     0.16667,     0.16667,     0.16667,     0.16667,     0.16667,     0.16667,     0.16667,     0.16667,     0.16667,     0.16667,     0.16667,\n",
       "            0.16667,     0.16667,     0.16667,     0.16667,     0.16667,     0.16667,     0.16667,     0.16667,     0.16667,     0.16667,     0.16667,     0.16667,     0.16667,     0.16667,     0.16667,     0.16667,     0.16667,     0.16667,     0.16667,     0.16667,     0.16667,     0.16667,     0.16667,\n",
       "            0.16667,     0.16667,     0.16667,     0.16667,     0.16667,     0.16667,     0.16667,     0.16667,     0.16667,     0.16667,     0.16667,     0.16667,     0.16667,     0.16667,     0.16643,     0.16592,     0.16541,     0.16489,     0.16438,     0.16387,     0.16336,     0.16284,     0.16233,\n",
       "            0.16182,      0.1613,     0.16079,     0.16028,     0.15976,     0.15925,     0.15874,     0.15822,     0.15771,      0.1572,     0.15669,     0.15617,     0.15566,     0.15515,     0.15463,     0.15412,     0.15361,     0.15309,     0.15258,     0.15207,     0.15156,     0.15104,     0.15053,\n",
       "            0.15002,      0.1495,     0.14899,     0.14848,      0.1476,     0.14609,     0.14457,     0.14305,     0.14153,     0.14001,     0.13849,     0.13697,     0.13546,     0.13394,     0.13242,      0.1309,     0.12955,     0.12906,     0.12858,     0.12809,      0.1276,     0.12712,     0.12663,\n",
       "            0.12614,     0.12566,     0.12517,     0.12468,      0.1242,     0.12371,     0.12322,     0.12274,     0.12225,     0.12176,     0.12128,     0.12079,      0.1203,     0.11982,     0.11933,     0.11884,     0.11836,     0.11787,     0.11738,      0.1169,     0.11641,     0.11592,     0.11544,\n",
       "            0.11495,     0.11446,     0.11398,     0.11349,       0.113,     0.11251,     0.11203,     0.11154,     0.11097,     0.10974,     0.10852,      0.1073,     0.10607,     0.10485,     0.10362,      0.1024,     0.10117,    0.099948,    0.098723,    0.097498,    0.096274,    0.095049,    0.093824,\n",
       "             0.0926,    0.092083,     0.09157,    0.091057,    0.090543,     0.09003,    0.089517,    0.089004,    0.088491,    0.087978,    0.087465,    0.086952,    0.086439,    0.085926,    0.085413,      0.0849,    0.084387,    0.083874,    0.083361,    0.082848,    0.082335,    0.081822,    0.081309,\n",
       "           0.080796,    0.080283,     0.07977,    0.079257,    0.078744,    0.078231,    0.077718,    0.077205,    0.076692,    0.076179,    0.075666,    0.075153,     0.07464,    0.074127,    0.073746,    0.073381,    0.073016,    0.072651,    0.072286,    0.071921,    0.071556,    0.071191,    0.070826,\n",
       "           0.070461,    0.070096,    0.069731,    0.069366,    0.069001,    0.068636,    0.068271,    0.067906,    0.067541,    0.067176,    0.066811,    0.066446,    0.066081,    0.065716,    0.065351,    0.064986,    0.064621,    0.064255,     0.06389,    0.063525,     0.06316,    0.062795,     0.06243,\n",
       "           0.062065,      0.0617,    0.061335,     0.06097,    0.060605,     0.06024,    0.059875,     0.05951,    0.059145,     0.05878,    0.058415,     0.05805,    0.057685,     0.05732,    0.056955,     0.05659,    0.056225,     0.05586,    0.055103,    0.052391,    0.049679,    0.046968,    0.044256,\n",
       "           0.041544,    0.038832,    0.035968,    0.032804,    0.029641,    0.026477,    0.023313,     0.02015,           0,           0,           0,           0,           0,           0,           0,           0,           0,           0,           0,           0,           0,           0,           0,\n",
       "                  0,           0,           0,           0,           0,           0,           0,           0,           0,           0,           0,           0,           0,           0,           0,           0,           0,           0,           0,           0,           0,           0,           0,\n",
       "                  0,           0,           0,           0,           0,           0,           0,           0,           0,           0,           0,           0,           0,           0,           0,           0,           0,           0,           0,           0,           0,           0,           0,\n",
       "                  0,           0,           0,           0,           0,           0,           0,           0,           0,           0,           0,           0,           0,           0,           0,           0,           0,           0,           0,           0,           0,           0,           0,\n",
       "                  0,           0,           0,           0,           0,           0,           0,           0,           0,           0,           0,           0,           0,           0,           0,           0,           0,           0,           0,           0,           0,           0,           0,\n",
       "                  0,           0,           0,           0,           0,           0,           0,           0,           0,           0,           0,           0,           0,           0,           0,           0,           0,           0,           0,           0,           0,           0,           0,\n",
       "                  0,           0,           0,           0,           0,           0,           0,           0,           0,           0,           0]]), 'Confidence', 'Recall'], [array([          0,    0.001001,    0.002002,    0.003003,    0.004004,    0.005005,    0.006006,    0.007007,    0.008008,    0.009009,     0.01001,    0.011011,    0.012012,    0.013013,    0.014014,    0.015015,    0.016016,    0.017017,    0.018018,    0.019019,     0.02002,    0.021021,    0.022022,    0.023023,\n",
       "          0.024024,    0.025025,    0.026026,    0.027027,    0.028028,    0.029029,     0.03003,    0.031031,    0.032032,    0.033033,    0.034034,    0.035035,    0.036036,    0.037037,    0.038038,    0.039039,     0.04004,    0.041041,    0.042042,    0.043043,    0.044044,    0.045045,    0.046046,    0.047047,\n",
       "          0.048048,    0.049049,     0.05005,    0.051051,    0.052052,    0.053053,    0.054054,    0.055055,    0.056056,    0.057057,    0.058058,    0.059059,     0.06006,    0.061061,    0.062062,    0.063063,    0.064064,    0.065065,    0.066066,    0.067067,    0.068068,    0.069069,     0.07007,    0.071071,\n",
       "          0.072072,    0.073073,    0.074074,    0.075075,    0.076076,    0.077077,    0.078078,    0.079079,     0.08008,    0.081081,    0.082082,    0.083083,    0.084084,    0.085085,    0.086086,    0.087087,    0.088088,    0.089089,     0.09009,    0.091091,    0.092092,    0.093093,    0.094094,    0.095095,\n",
       "          0.096096,    0.097097,    0.098098,    0.099099,      0.1001,      0.1011,      0.1021,      0.1031,      0.1041,     0.10511,     0.10611,     0.10711,     0.10811,     0.10911,     0.11011,     0.11111,     0.11211,     0.11311,     0.11411,     0.11512,     0.11612,     0.11712,     0.11812,     0.11912,\n",
       "           0.12012,     0.12112,     0.12212,     0.12312,     0.12412,     0.12513,     0.12613,     0.12713,     0.12813,     0.12913,     0.13013,     0.13113,     0.13213,     0.13313,     0.13413,     0.13514,     0.13614,     0.13714,     0.13814,     0.13914,     0.14014,     0.14114,     0.14214,     0.14314,\n",
       "           0.14414,     0.14515,     0.14615,     0.14715,     0.14815,     0.14915,     0.15015,     0.15115,     0.15215,     0.15315,     0.15415,     0.15516,     0.15616,     0.15716,     0.15816,     0.15916,     0.16016,     0.16116,     0.16216,     0.16316,     0.16416,     0.16517,     0.16617,     0.16717,\n",
       "           0.16817,     0.16917,     0.17017,     0.17117,     0.17217,     0.17317,     0.17417,     0.17518,     0.17618,     0.17718,     0.17818,     0.17918,     0.18018,     0.18118,     0.18218,     0.18318,     0.18418,     0.18519,     0.18619,     0.18719,     0.18819,     0.18919,     0.19019,     0.19119,\n",
       "           0.19219,     0.19319,     0.19419,      0.1952,      0.1962,      0.1972,      0.1982,      0.1992,      0.2002,      0.2012,      0.2022,      0.2032,      0.2042,     0.20521,     0.20621,     0.20721,     0.20821,     0.20921,     0.21021,     0.21121,     0.21221,     0.21321,     0.21421,     0.21522,\n",
       "           0.21622,     0.21722,     0.21822,     0.21922,     0.22022,     0.22122,     0.22222,     0.22322,     0.22422,     0.22523,     0.22623,     0.22723,     0.22823,     0.22923,     0.23023,     0.23123,     0.23223,     0.23323,     0.23423,     0.23524,     0.23624,     0.23724,     0.23824,     0.23924,\n",
       "           0.24024,     0.24124,     0.24224,     0.24324,     0.24424,     0.24525,     0.24625,     0.24725,     0.24825,     0.24925,     0.25025,     0.25125,     0.25225,     0.25325,     0.25425,     0.25526,     0.25626,     0.25726,     0.25826,     0.25926,     0.26026,     0.26126,     0.26226,     0.26326,\n",
       "           0.26426,     0.26527,     0.26627,     0.26727,     0.26827,     0.26927,     0.27027,     0.27127,     0.27227,     0.27327,     0.27427,     0.27528,     0.27628,     0.27728,     0.27828,     0.27928,     0.28028,     0.28128,     0.28228,     0.28328,     0.28428,     0.28529,     0.28629,     0.28729,\n",
       "           0.28829,     0.28929,     0.29029,     0.29129,     0.29229,     0.29329,     0.29429,      0.2953,      0.2963,      0.2973,      0.2983,      0.2993,      0.3003,      0.3013,      0.3023,      0.3033,      0.3043,     0.30531,     0.30631,     0.30731,     0.30831,     0.30931,     0.31031,     0.31131,\n",
       "           0.31231,     0.31331,     0.31431,     0.31532,     0.31632,     0.31732,     0.31832,     0.31932,     0.32032,     0.32132,     0.32232,     0.32332,     0.32432,     0.32533,     0.32633,     0.32733,     0.32833,     0.32933,     0.33033,     0.33133,     0.33233,     0.33333,     0.33433,     0.33534,\n",
       "           0.33634,     0.33734,     0.33834,     0.33934,     0.34034,     0.34134,     0.34234,     0.34334,     0.34434,     0.34535,     0.34635,     0.34735,     0.34835,     0.34935,     0.35035,     0.35135,     0.35235,     0.35335,     0.35435,     0.35536,     0.35636,     0.35736,     0.35836,     0.35936,\n",
       "           0.36036,     0.36136,     0.36236,     0.36336,     0.36436,     0.36537,     0.36637,     0.36737,     0.36837,     0.36937,     0.37037,     0.37137,     0.37237,     0.37337,     0.37437,     0.37538,     0.37638,     0.37738,     0.37838,     0.37938,     0.38038,     0.38138,     0.38238,     0.38338,\n",
       "           0.38438,     0.38539,     0.38639,     0.38739,     0.38839,     0.38939,     0.39039,     0.39139,     0.39239,     0.39339,     0.39439,      0.3954,      0.3964,      0.3974,      0.3984,      0.3994,      0.4004,      0.4014,      0.4024,      0.4034,      0.4044,     0.40541,     0.40641,     0.40741,\n",
       "           0.40841,     0.40941,     0.41041,     0.41141,     0.41241,     0.41341,     0.41441,     0.41542,     0.41642,     0.41742,     0.41842,     0.41942,     0.42042,     0.42142,     0.42242,     0.42342,     0.42442,     0.42543,     0.42643,     0.42743,     0.42843,     0.42943,     0.43043,     0.43143,\n",
       "           0.43243,     0.43343,     0.43443,     0.43544,     0.43644,     0.43744,     0.43844,     0.43944,     0.44044,     0.44144,     0.44244,     0.44344,     0.44444,     0.44545,     0.44645,     0.44745,     0.44845,     0.44945,     0.45045,     0.45145,     0.45245,     0.45345,     0.45445,     0.45546,\n",
       "           0.45646,     0.45746,     0.45846,     0.45946,     0.46046,     0.46146,     0.46246,     0.46346,     0.46446,     0.46547,     0.46647,     0.46747,     0.46847,     0.46947,     0.47047,     0.47147,     0.47247,     0.47347,     0.47447,     0.47548,     0.47648,     0.47748,     0.47848,     0.47948,\n",
       "           0.48048,     0.48148,     0.48248,     0.48348,     0.48448,     0.48549,     0.48649,     0.48749,     0.48849,     0.48949,     0.49049,     0.49149,     0.49249,     0.49349,     0.49449,      0.4955,      0.4965,      0.4975,      0.4985,      0.4995,      0.5005,      0.5015,      0.5025,      0.5035,\n",
       "            0.5045,     0.50551,     0.50651,     0.50751,     0.50851,     0.50951,     0.51051,     0.51151,     0.51251,     0.51351,     0.51451,     0.51552,     0.51652,     0.51752,     0.51852,     0.51952,     0.52052,     0.52152,     0.52252,     0.52352,     0.52452,     0.52553,     0.52653,     0.52753,\n",
       "           0.52853,     0.52953,     0.53053,     0.53153,     0.53253,     0.53353,     0.53453,     0.53554,     0.53654,     0.53754,     0.53854,     0.53954,     0.54054,     0.54154,     0.54254,     0.54354,     0.54454,     0.54555,     0.54655,     0.54755,     0.54855,     0.54955,     0.55055,     0.55155,\n",
       "           0.55255,     0.55355,     0.55455,     0.55556,     0.55656,     0.55756,     0.55856,     0.55956,     0.56056,     0.56156,     0.56256,     0.56356,     0.56456,     0.56557,     0.56657,     0.56757,     0.56857,     0.56957,     0.57057,     0.57157,     0.57257,     0.57357,     0.57457,     0.57558,\n",
       "           0.57658,     0.57758,     0.57858,     0.57958,     0.58058,     0.58158,     0.58258,     0.58358,     0.58458,     0.58559,     0.58659,     0.58759,     0.58859,     0.58959,     0.59059,     0.59159,     0.59259,     0.59359,     0.59459,      0.5956,      0.5966,      0.5976,      0.5986,      0.5996,\n",
       "            0.6006,      0.6016,      0.6026,      0.6036,      0.6046,     0.60561,     0.60661,     0.60761,     0.60861,     0.60961,     0.61061,     0.61161,     0.61261,     0.61361,     0.61461,     0.61562,     0.61662,     0.61762,     0.61862,     0.61962,     0.62062,     0.62162,     0.62262,     0.62362,\n",
       "           0.62462,     0.62563,     0.62663,     0.62763,     0.62863,     0.62963,     0.63063,     0.63163,     0.63263,     0.63363,     0.63463,     0.63564,     0.63664,     0.63764,     0.63864,     0.63964,     0.64064,     0.64164,     0.64264,     0.64364,     0.64464,     0.64565,     0.64665,     0.64765,\n",
       "           0.64865,     0.64965,     0.65065,     0.65165,     0.65265,     0.65365,     0.65465,     0.65566,     0.65666,     0.65766,     0.65866,     0.65966,     0.66066,     0.66166,     0.66266,     0.66366,     0.66466,     0.66567,     0.66667,     0.66767,     0.66867,     0.66967,     0.67067,     0.67167,\n",
       "           0.67267,     0.67367,     0.67467,     0.67568,     0.67668,     0.67768,     0.67868,     0.67968,     0.68068,     0.68168,     0.68268,     0.68368,     0.68468,     0.68569,     0.68669,     0.68769,     0.68869,     0.68969,     0.69069,     0.69169,     0.69269,     0.69369,     0.69469,      0.6957,\n",
       "            0.6967,      0.6977,      0.6987,      0.6997,      0.7007,      0.7017,      0.7027,      0.7037,      0.7047,     0.70571,     0.70671,     0.70771,     0.70871,     0.70971,     0.71071,     0.71171,     0.71271,     0.71371,     0.71471,     0.71572,     0.71672,     0.71772,     0.71872,     0.71972,\n",
       "           0.72072,     0.72172,     0.72272,     0.72372,     0.72472,     0.72573,     0.72673,     0.72773,     0.72873,     0.72973,     0.73073,     0.73173,     0.73273,     0.73373,     0.73473,     0.73574,     0.73674,     0.73774,     0.73874,     0.73974,     0.74074,     0.74174,     0.74274,     0.74374,\n",
       "           0.74474,     0.74575,     0.74675,     0.74775,     0.74875,     0.74975,     0.75075,     0.75175,     0.75275,     0.75375,     0.75475,     0.75576,     0.75676,     0.75776,     0.75876,     0.75976,     0.76076,     0.76176,     0.76276,     0.76376,     0.76476,     0.76577,     0.76677,     0.76777,\n",
       "           0.76877,     0.76977,     0.77077,     0.77177,     0.77277,     0.77377,     0.77477,     0.77578,     0.77678,     0.77778,     0.77878,     0.77978,     0.78078,     0.78178,     0.78278,     0.78378,     0.78478,     0.78579,     0.78679,     0.78779,     0.78879,     0.78979,     0.79079,     0.79179,\n",
       "           0.79279,     0.79379,     0.79479,      0.7958,      0.7968,      0.7978,      0.7988,      0.7998,      0.8008,      0.8018,      0.8028,      0.8038,      0.8048,     0.80581,     0.80681,     0.80781,     0.80881,     0.80981,     0.81081,     0.81181,     0.81281,     0.81381,     0.81481,     0.81582,\n",
       "           0.81682,     0.81782,     0.81882,     0.81982,     0.82082,     0.82182,     0.82282,     0.82382,     0.82482,     0.82583,     0.82683,     0.82783,     0.82883,     0.82983,     0.83083,     0.83183,     0.83283,     0.83383,     0.83483,     0.83584,     0.83684,     0.83784,     0.83884,     0.83984,\n",
       "           0.84084,     0.84184,     0.84284,     0.84384,     0.84484,     0.84585,     0.84685,     0.84785,     0.84885,     0.84985,     0.85085,     0.85185,     0.85285,     0.85385,     0.85485,     0.85586,     0.85686,     0.85786,     0.85886,     0.85986,     0.86086,     0.86186,     0.86286,     0.86386,\n",
       "           0.86486,     0.86587,     0.86687,     0.86787,     0.86887,     0.86987,     0.87087,     0.87187,     0.87287,     0.87387,     0.87487,     0.87588,     0.87688,     0.87788,     0.87888,     0.87988,     0.88088,     0.88188,     0.88288,     0.88388,     0.88488,     0.88589,     0.88689,     0.88789,\n",
       "           0.88889,     0.88989,     0.89089,     0.89189,     0.89289,     0.89389,     0.89489,      0.8959,      0.8969,      0.8979,      0.8989,      0.8999,      0.9009,      0.9019,      0.9029,      0.9039,      0.9049,     0.90591,     0.90691,     0.90791,     0.90891,     0.90991,     0.91091,     0.91191,\n",
       "           0.91291,     0.91391,     0.91491,     0.91592,     0.91692,     0.91792,     0.91892,     0.91992,     0.92092,     0.92192,     0.92292,     0.92392,     0.92492,     0.92593,     0.92693,     0.92793,     0.92893,     0.92993,     0.93093,     0.93193,     0.93293,     0.93393,     0.93493,     0.93594,\n",
       "           0.93694,     0.93794,     0.93894,     0.93994,     0.94094,     0.94194,     0.94294,     0.94394,     0.94494,     0.94595,     0.94695,     0.94795,     0.94895,     0.94995,     0.95095,     0.95195,     0.95295,     0.95395,     0.95495,     0.95596,     0.95696,     0.95796,     0.95896,     0.95996,\n",
       "           0.96096,     0.96196,     0.96296,     0.96396,     0.96496,     0.96597,     0.96697,     0.96797,     0.96897,     0.96997,     0.97097,     0.97197,     0.97297,     0.97397,     0.97497,     0.97598,     0.97698,     0.97798,     0.97898,     0.97998,     0.98098,     0.98198,     0.98298,     0.98398,\n",
       "           0.98498,     0.98599,     0.98699,     0.98799,     0.98899,     0.98999,     0.99099,     0.99199,     0.99299,     0.99399,     0.99499,       0.996,       0.997,       0.998,       0.999,           1]), array([[          1,           1,           1,           1,           1,           1,           1,           1,           1,           1,           1,           1,           1,           1,           1,           1,           1,           1,           1,           1,           1,           1,           1,\n",
       "                  1,           1,           1,           1,           1,           1,           1,           1,           1,           1,           1,           1,           1,           1,           1,           1,           1,           1,           1,           1,           1,           1,           1,\n",
       "                  1,           1,           1,           1,           1,           1,           1,           1,           1,           1,           1,           1,           1,           1,           1,           1,           1,           1,           1,           1,           1,           1,           1,\n",
       "                  1,           1,           1,           1,           1,           1,           1,           1,           1,           1,           1,           1,           1,           1,           1,           1,           1,           1,           1,           1,           1,           1,           1,\n",
       "                  1,           1,           1,           1,           1,           1,           1,           1,           1,           1,           1,           1,           1,           1,           1,           1,           1,           1,           1,           1,           1,           1,           1,\n",
       "                  1,           1,           1,           1,           1,           1,           1,           1,           1,           1,           1,           1,           1,           1,           1,           1,           1,           1,           1,           1,           1,           1,           1,\n",
       "                  1,           1,           1,           1,           1,           1,           1,           1,           1,           1,           1,           1,           1,           1,           1,           1,           1,           1,           1,           1,           1,           1,           1,\n",
       "                  1,           1,           1,           1,           1,           1,     0.89474,     0.89474,     0.89474,     0.89474,     0.89474,     0.89474,     0.89474,     0.89474,     0.89474,     0.89474,     0.89474,     0.89474,     0.89474,     0.89474,     0.89474,     0.89474,     0.89474,\n",
       "            0.89474,     0.89474,     0.89474,     0.89474,     0.89474,     0.89474,     0.89474,     0.89474,     0.89474,     0.89474,     0.89474,     0.89474,     0.89474,     0.89474,     0.89474,     0.89474,     0.89474,     0.89474,     0.89474,     0.89474,     0.89474,     0.89474,     0.89474,\n",
       "            0.89474,     0.89474,     0.89474,     0.89474,     0.89474,     0.89474,     0.89474,     0.89474,     0.89474,     0.89474,     0.89474,     0.89474,     0.89474,     0.89474,     0.89474,     0.89474,     0.89474,     0.89474,     0.89474,     0.89474,     0.89474,     0.89474,     0.89474,\n",
       "            0.89474,     0.89474,     0.89474,     0.89474,     0.89474,     0.89474,     0.89474,     0.89474,     0.89474,     0.89474,     0.89474,     0.89474,     0.89474,     0.89474,     0.89474,     0.89474,     0.89474,     0.89474,     0.89474,     0.89474,     0.89474,     0.89474,     0.89474,\n",
       "            0.89474,     0.89474,     0.89474,     0.89474,     0.89474,     0.89474,     0.89474,     0.89474,     0.89474,     0.89474,     0.89474,     0.89474,     0.89474,     0.89474,     0.89474,     0.89474,     0.89474,     0.89474,     0.89474,     0.89474,     0.89474,     0.89474,     0.89474,\n",
       "            0.89474,     0.89474,     0.89474,     0.89474,     0.89474,     0.89474,     0.89474,     0.89474,     0.89474,     0.89474,     0.89474,     0.89474,     0.89474,     0.89474,     0.89474,     0.89474,     0.89474,     0.89474,     0.89474,     0.89474,     0.89474,     0.89474,     0.89474,\n",
       "            0.89474,     0.89474,     0.89474,     0.89474,     0.89474,     0.89474,     0.89474,     0.89474,     0.89474,     0.89474,     0.89474,     0.89474,     0.89474,     0.89474,     0.89474,     0.89474,     0.85714,     0.85714,     0.85714,     0.85714,     0.85714,     0.85714,     0.85714,\n",
       "            0.85714,     0.85714,     0.85714,     0.85714,     0.85714,     0.85714,     0.85714,     0.85714,     0.85714,     0.85714,     0.85714,     0.83333,     0.83333,     0.83333,     0.83333,     0.83333,     0.83333,     0.83333,     0.83333,     0.83333,     0.83333,     0.83333,     0.83333,\n",
       "            0.83333,     0.83333,     0.83333,     0.83333,     0.83333,     0.83333,     0.83333,     0.83333,     0.83333,     0.83333,     0.83333,     0.83333,     0.83333,     0.83333,     0.83333,     0.83333,     0.83333,     0.83333,     0.83333,     0.83333,     0.83333,     0.83333,     0.83333,\n",
       "            0.83333,     0.83333,     0.80769,     0.80769,     0.80769,     0.80769,     0.80769,     0.80769,     0.80769,     0.80769,     0.80769,     0.80769,     0.80769,     0.80769,     0.80769,     0.80769,     0.80769,     0.80769,     0.80769,     0.80769,     0.80769,      0.7931,      0.7931,\n",
       "             0.7931,      0.7931,      0.7931,      0.7931,      0.7931,      0.7931,      0.7931,      0.7931,      0.7931,      0.7931,      0.7931,      0.7931,      0.7931,      0.7931,      0.7931,      0.7931,      0.7931,      0.7931,      0.7931,      0.7931,      0.7931,      0.7931,      0.7931,\n",
       "             0.7931,      0.7931,      0.7931,      0.7931,      0.7931,      0.7931,      0.7931,      0.7931,      0.7931,      0.7931,      0.7931,      0.7931,     0.68571,     0.68571,     0.68571,     0.68571,     0.68571,     0.68571,     0.68571,     0.68571,     0.68571,     0.68571,     0.68571,\n",
       "            0.68571,     0.68571,     0.68571,     0.68571,     0.68571,     0.68571,     0.68571,     0.64103,     0.64103,     0.64103,     0.64103,     0.64103,     0.64103,     0.64103,     0.64103,     0.64103,     0.64103,     0.64103,     0.64103,     0.64103,     0.64103,     0.64103,     0.64103,\n",
       "            0.64103,     0.64103,     0.64103,     0.63415,     0.63415,     0.63415,     0.63415,     0.63415,     0.63415,     0.63415,     0.63415,     0.63415,     0.63415,     0.63415,     0.63415,     0.63415,     0.63415,     0.63415,     0.63415,     0.63415,     0.63415,     0.57447,     0.57447,\n",
       "            0.57447,     0.57447,     0.57447,     0.57447,     0.57447,     0.57447,     0.57447,     0.57447,     0.57447,     0.57447,     0.57447,     0.57447,     0.57447,     0.57447,     0.57447,     0.57447,     0.57447,      0.5283,      0.5283,      0.5283,      0.5283,      0.5283,      0.5283,\n",
       "             0.5283,      0.5283,      0.5283,      0.5283,      0.5283,      0.5283,      0.5283,      0.5283,      0.5283,      0.5283,      0.5283,      0.5283,     0.52727,     0.52727,     0.52727,     0.52727,     0.52727,     0.52727,     0.52727,     0.52727,     0.52727,     0.52727,     0.52727,\n",
       "            0.52727,     0.52727,     0.52727,     0.52727,     0.52727,     0.52727,     0.52727,     0.52727,     0.45455,     0.45455,     0.45455,     0.45455,     0.45455,     0.45455,     0.45455,     0.45455,     0.45455,     0.45455,     0.45455,     0.45455,     0.45455,     0.45455,     0.45455,\n",
       "            0.45455,     0.45455,     0.45455,     0.41026,     0.41026,     0.41026,     0.41026,     0.41026,     0.41026,     0.41026,     0.41026,     0.41026,     0.41026,     0.41026,     0.41026,     0.41026,     0.41026,     0.41026,     0.41026,     0.41026,     0.41026,     0.41026,     0.41026,\n",
       "            0.41026,     0.41026,     0.41026,     0.41026,     0.41026,     0.41026,     0.41026,     0.41026,     0.41026,     0.41026,     0.41026,     0.41026,     0.41026,     0.41026,     0.41026,     0.41026,     0.41026,     0.37931,     0.37931,     0.37931,     0.37931,     0.37931,     0.37931,\n",
       "            0.37931,     0.37931,     0.37931,     0.37931,     0.37931,     0.37931,     0.37931,     0.37931,     0.37931,     0.37931,     0.37931,     0.37931,     0.37931,     0.37363,     0.37363,     0.37363,     0.37363,     0.37363,     0.37363,     0.37363,     0.37363,     0.37363,     0.37363,\n",
       "            0.37363,     0.37363,     0.37363,     0.37363,     0.37363,     0.37363,     0.37363,     0.37363,     0.35714,     0.35714,     0.35714,     0.35714,     0.35714,     0.35714,     0.35714,     0.35714,     0.35714,     0.35714,     0.35714,     0.35714,     0.35714,     0.35714,     0.35714,\n",
       "            0.35714,     0.35714,     0.35714,     0.35714,     0.28571,     0.28571,     0.28571,     0.28571,     0.28571,     0.28571,     0.28571,     0.28571,     0.28571,     0.28571,     0.28571,     0.28571,     0.28571,     0.28571,     0.28571,     0.28571,     0.28571,     0.28571,     0.27941,\n",
       "            0.27941,     0.27941,     0.27941,     0.27941,     0.27941,     0.27941,     0.27941,     0.27941,     0.27941,     0.27941,     0.27941,     0.27941,     0.27941,     0.27941,     0.27941,     0.27941,     0.27941,     0.27941,     0.27941,     0.27941,     0.27941,     0.27941,     0.27941,\n",
       "            0.27941,     0.27941,     0.27941,     0.27941,     0.27941,     0.27941,     0.27941,     0.27941,     0.27941,     0.27941,     0.27941,     0.27941,     0.27941,     0.21466,     0.21466,     0.21466,     0.21466,     0.21466,     0.21466,     0.21466,     0.21466,     0.21466,     0.21466,\n",
       "            0.21466,     0.21466,     0.21466,     0.21466,     0.21466,     0.21466,     0.21466,     0.21466,     0.21466,     0.21466,     0.21466,     0.21466,     0.21466,     0.21466,     0.21466,     0.21466,     0.21466,     0.21466,     0.21466,     0.21466,     0.21466,     0.21466,     0.21466,\n",
       "            0.21466,     0.21466,     0.21466,     0.21466,     0.21466,     0.21466,     0.21466,     0.21466,     0.21466,     0.21466,     0.21466,     0.21466,     0.21466,     0.21466,     0.21466,     0.21466,     0.21466,     0.21466,     0.21466,     0.21466,     0.21466,     0.21466,     0.21466,\n",
       "            0.19355,     0.19355,     0.19355,     0.19355,     0.19355,     0.19355,     0.19355,     0.19355,     0.19355,     0.19355,     0.19355,     0.19355,     0.19355,     0.19355,     0.19355,     0.19355,     0.19355,     0.19355,     0.19111,     0.19111,     0.19111,     0.19111,     0.19111,\n",
       "            0.19111,     0.19111,     0.19111,     0.19111,     0.19111,     0.19111,     0.19111,     0.19111,     0.19111,     0.19111,     0.19111,     0.19111,     0.19111,     0.19111,     0.17054,     0.17054,     0.17054,     0.17054,     0.17054,     0.17054,     0.17054,     0.17054,     0.17054,\n",
       "            0.17054,     0.17054,     0.17054,     0.17054,     0.17054,     0.17054,     0.17054,     0.17054,     0.17054,        0.09,        0.09,        0.09,        0.09,        0.09,        0.09,        0.09,        0.09,        0.09,        0.09,        0.09,        0.09,        0.09,        0.09,\n",
       "               0.09,        0.09,        0.09,        0.09,        0.09,    0.077703,    0.077703,    0.077703,    0.077703,    0.077703,    0.077703,    0.077703,    0.077703,    0.077703,    0.077703,    0.077703,    0.077703,    0.077703,    0.077703,    0.077703,    0.077703,    0.077703,    0.077703,\n",
       "           0.077686,    0.077686,    0.077686,    0.077686,    0.077686,    0.077686,    0.077686,    0.077686,    0.077686,    0.077686,    0.077686,    0.077686,    0.077686,    0.077686,    0.077686,    0.077686,    0.077686,    0.077686,    0.077686,    0.051948,    0.051948,    0.051948,    0.051948,\n",
       "           0.051948,    0.051948,    0.051948,    0.051948,    0.051948,    0.051948,    0.051948,    0.051948,    0.051948,    0.051948,    0.051948,    0.051948,    0.051948,    0.051948,    0.018554,    0.018387,     0.01822,    0.018053,    0.017886,    0.017719,    0.017551,    0.017384,    0.017217,\n",
       "            0.01705,    0.016883,    0.016716,    0.016548,    0.016381,    0.016214,    0.016047,     0.01588,    0.015713,    0.015546,    0.015378,    0.015211,    0.015044,    0.014877,     0.01471,    0.014543,    0.014375,    0.014208,    0.014041,    0.013874,    0.013707,     0.01354,    0.013372,\n",
       "           0.013205,    0.013038,    0.012871,    0.012704,    0.012537,     0.01237,    0.012202,    0.012035,    0.011868,    0.011701,    0.011534,    0.011367,    0.011199,    0.011032,    0.010865,    0.010698,    0.010531,    0.010364,    0.010197,    0.010029,   0.0098622,    0.009695,   0.0095279,\n",
       "          0.0093607,   0.0091936,   0.0090264,   0.0088593,   0.0086921,    0.008525,   0.0083578,   0.0081906,   0.0080235,   0.0078563,   0.0076892,    0.007522,   0.0073549,   0.0071877,   0.0070205,   0.0068534,   0.0066862,   0.0065191,   0.0063519,   0.0061848,   0.0060176,   0.0058505,   0.0056833,\n",
       "          0.0055161,    0.005349,   0.0051818,   0.0050147,   0.0048475,   0.0046804,   0.0045132,   0.0043461,   0.0041789,   0.0040117,   0.0038446,   0.0036774,   0.0035103,   0.0033431,    0.003176,   0.0030088,   0.0028417,   0.0026745,   0.0025073,   0.0023402,    0.002173,   0.0020059,   0.0018387,\n",
       "          0.0016716,   0.0015044,   0.0013372,   0.0011701,   0.0010029,  0.00083578,  0.00066862,  0.00050147,  0.00033431,  0.00016716,           0]]), 'Recall', 'Precision'], [array([          0,    0.001001,    0.002002,    0.003003,    0.004004,    0.005005,    0.006006,    0.007007,    0.008008,    0.009009,     0.01001,    0.011011,    0.012012,    0.013013,    0.014014,    0.015015,    0.016016,    0.017017,    0.018018,    0.019019,     0.02002,    0.021021,    0.022022,    0.023023,\n",
       "          0.024024,    0.025025,    0.026026,    0.027027,    0.028028,    0.029029,     0.03003,    0.031031,    0.032032,    0.033033,    0.034034,    0.035035,    0.036036,    0.037037,    0.038038,    0.039039,     0.04004,    0.041041,    0.042042,    0.043043,    0.044044,    0.045045,    0.046046,    0.047047,\n",
       "          0.048048,    0.049049,     0.05005,    0.051051,    0.052052,    0.053053,    0.054054,    0.055055,    0.056056,    0.057057,    0.058058,    0.059059,     0.06006,    0.061061,    0.062062,    0.063063,    0.064064,    0.065065,    0.066066,    0.067067,    0.068068,    0.069069,     0.07007,    0.071071,\n",
       "          0.072072,    0.073073,    0.074074,    0.075075,    0.076076,    0.077077,    0.078078,    0.079079,     0.08008,    0.081081,    0.082082,    0.083083,    0.084084,    0.085085,    0.086086,    0.087087,    0.088088,    0.089089,     0.09009,    0.091091,    0.092092,    0.093093,    0.094094,    0.095095,\n",
       "          0.096096,    0.097097,    0.098098,    0.099099,      0.1001,      0.1011,      0.1021,      0.1031,      0.1041,     0.10511,     0.10611,     0.10711,     0.10811,     0.10911,     0.11011,     0.11111,     0.11211,     0.11311,     0.11411,     0.11512,     0.11612,     0.11712,     0.11812,     0.11912,\n",
       "           0.12012,     0.12112,     0.12212,     0.12312,     0.12412,     0.12513,     0.12613,     0.12713,     0.12813,     0.12913,     0.13013,     0.13113,     0.13213,     0.13313,     0.13413,     0.13514,     0.13614,     0.13714,     0.13814,     0.13914,     0.14014,     0.14114,     0.14214,     0.14314,\n",
       "           0.14414,     0.14515,     0.14615,     0.14715,     0.14815,     0.14915,     0.15015,     0.15115,     0.15215,     0.15315,     0.15415,     0.15516,     0.15616,     0.15716,     0.15816,     0.15916,     0.16016,     0.16116,     0.16216,     0.16316,     0.16416,     0.16517,     0.16617,     0.16717,\n",
       "           0.16817,     0.16917,     0.17017,     0.17117,     0.17217,     0.17317,     0.17417,     0.17518,     0.17618,     0.17718,     0.17818,     0.17918,     0.18018,     0.18118,     0.18218,     0.18318,     0.18418,     0.18519,     0.18619,     0.18719,     0.18819,     0.18919,     0.19019,     0.19119,\n",
       "           0.19219,     0.19319,     0.19419,      0.1952,      0.1962,      0.1972,      0.1982,      0.1992,      0.2002,      0.2012,      0.2022,      0.2032,      0.2042,     0.20521,     0.20621,     0.20721,     0.20821,     0.20921,     0.21021,     0.21121,     0.21221,     0.21321,     0.21421,     0.21522,\n",
       "           0.21622,     0.21722,     0.21822,     0.21922,     0.22022,     0.22122,     0.22222,     0.22322,     0.22422,     0.22523,     0.22623,     0.22723,     0.22823,     0.22923,     0.23023,     0.23123,     0.23223,     0.23323,     0.23423,     0.23524,     0.23624,     0.23724,     0.23824,     0.23924,\n",
       "           0.24024,     0.24124,     0.24224,     0.24324,     0.24424,     0.24525,     0.24625,     0.24725,     0.24825,     0.24925,     0.25025,     0.25125,     0.25225,     0.25325,     0.25425,     0.25526,     0.25626,     0.25726,     0.25826,     0.25926,     0.26026,     0.26126,     0.26226,     0.26326,\n",
       "           0.26426,     0.26527,     0.26627,     0.26727,     0.26827,     0.26927,     0.27027,     0.27127,     0.27227,     0.27327,     0.27427,     0.27528,     0.27628,     0.27728,     0.27828,     0.27928,     0.28028,     0.28128,     0.28228,     0.28328,     0.28428,     0.28529,     0.28629,     0.28729,\n",
       "           0.28829,     0.28929,     0.29029,     0.29129,     0.29229,     0.29329,     0.29429,      0.2953,      0.2963,      0.2973,      0.2983,      0.2993,      0.3003,      0.3013,      0.3023,      0.3033,      0.3043,     0.30531,     0.30631,     0.30731,     0.30831,     0.30931,     0.31031,     0.31131,\n",
       "           0.31231,     0.31331,     0.31431,     0.31532,     0.31632,     0.31732,     0.31832,     0.31932,     0.32032,     0.32132,     0.32232,     0.32332,     0.32432,     0.32533,     0.32633,     0.32733,     0.32833,     0.32933,     0.33033,     0.33133,     0.33233,     0.33333,     0.33433,     0.33534,\n",
       "           0.33634,     0.33734,     0.33834,     0.33934,     0.34034,     0.34134,     0.34234,     0.34334,     0.34434,     0.34535,     0.34635,     0.34735,     0.34835,     0.34935,     0.35035,     0.35135,     0.35235,     0.35335,     0.35435,     0.35536,     0.35636,     0.35736,     0.35836,     0.35936,\n",
       "           0.36036,     0.36136,     0.36236,     0.36336,     0.36436,     0.36537,     0.36637,     0.36737,     0.36837,     0.36937,     0.37037,     0.37137,     0.37237,     0.37337,     0.37437,     0.37538,     0.37638,     0.37738,     0.37838,     0.37938,     0.38038,     0.38138,     0.38238,     0.38338,\n",
       "           0.38438,     0.38539,     0.38639,     0.38739,     0.38839,     0.38939,     0.39039,     0.39139,     0.39239,     0.39339,     0.39439,      0.3954,      0.3964,      0.3974,      0.3984,      0.3994,      0.4004,      0.4014,      0.4024,      0.4034,      0.4044,     0.40541,     0.40641,     0.40741,\n",
       "           0.40841,     0.40941,     0.41041,     0.41141,     0.41241,     0.41341,     0.41441,     0.41542,     0.41642,     0.41742,     0.41842,     0.41942,     0.42042,     0.42142,     0.42242,     0.42342,     0.42442,     0.42543,     0.42643,     0.42743,     0.42843,     0.42943,     0.43043,     0.43143,\n",
       "           0.43243,     0.43343,     0.43443,     0.43544,     0.43644,     0.43744,     0.43844,     0.43944,     0.44044,     0.44144,     0.44244,     0.44344,     0.44444,     0.44545,     0.44645,     0.44745,     0.44845,     0.44945,     0.45045,     0.45145,     0.45245,     0.45345,     0.45445,     0.45546,\n",
       "           0.45646,     0.45746,     0.45846,     0.45946,     0.46046,     0.46146,     0.46246,     0.46346,     0.46446,     0.46547,     0.46647,     0.46747,     0.46847,     0.46947,     0.47047,     0.47147,     0.47247,     0.47347,     0.47447,     0.47548,     0.47648,     0.47748,     0.47848,     0.47948,\n",
       "           0.48048,     0.48148,     0.48248,     0.48348,     0.48448,     0.48549,     0.48649,     0.48749,     0.48849,     0.48949,     0.49049,     0.49149,     0.49249,     0.49349,     0.49449,      0.4955,      0.4965,      0.4975,      0.4985,      0.4995,      0.5005,      0.5015,      0.5025,      0.5035,\n",
       "            0.5045,     0.50551,     0.50651,     0.50751,     0.50851,     0.50951,     0.51051,     0.51151,     0.51251,     0.51351,     0.51451,     0.51552,     0.51652,     0.51752,     0.51852,     0.51952,     0.52052,     0.52152,     0.52252,     0.52352,     0.52452,     0.52553,     0.52653,     0.52753,\n",
       "           0.52853,     0.52953,     0.53053,     0.53153,     0.53253,     0.53353,     0.53453,     0.53554,     0.53654,     0.53754,     0.53854,     0.53954,     0.54054,     0.54154,     0.54254,     0.54354,     0.54454,     0.54555,     0.54655,     0.54755,     0.54855,     0.54955,     0.55055,     0.55155,\n",
       "           0.55255,     0.55355,     0.55455,     0.55556,     0.55656,     0.55756,     0.55856,     0.55956,     0.56056,     0.56156,     0.56256,     0.56356,     0.56456,     0.56557,     0.56657,     0.56757,     0.56857,     0.56957,     0.57057,     0.57157,     0.57257,     0.57357,     0.57457,     0.57558,\n",
       "           0.57658,     0.57758,     0.57858,     0.57958,     0.58058,     0.58158,     0.58258,     0.58358,     0.58458,     0.58559,     0.58659,     0.58759,     0.58859,     0.58959,     0.59059,     0.59159,     0.59259,     0.59359,     0.59459,      0.5956,      0.5966,      0.5976,      0.5986,      0.5996,\n",
       "            0.6006,      0.6016,      0.6026,      0.6036,      0.6046,     0.60561,     0.60661,     0.60761,     0.60861,     0.60961,     0.61061,     0.61161,     0.61261,     0.61361,     0.61461,     0.61562,     0.61662,     0.61762,     0.61862,     0.61962,     0.62062,     0.62162,     0.62262,     0.62362,\n",
       "           0.62462,     0.62563,     0.62663,     0.62763,     0.62863,     0.62963,     0.63063,     0.63163,     0.63263,     0.63363,     0.63463,     0.63564,     0.63664,     0.63764,     0.63864,     0.63964,     0.64064,     0.64164,     0.64264,     0.64364,     0.64464,     0.64565,     0.64665,     0.64765,\n",
       "           0.64865,     0.64965,     0.65065,     0.65165,     0.65265,     0.65365,     0.65465,     0.65566,     0.65666,     0.65766,     0.65866,     0.65966,     0.66066,     0.66166,     0.66266,     0.66366,     0.66466,     0.66567,     0.66667,     0.66767,     0.66867,     0.66967,     0.67067,     0.67167,\n",
       "           0.67267,     0.67367,     0.67467,     0.67568,     0.67668,     0.67768,     0.67868,     0.67968,     0.68068,     0.68168,     0.68268,     0.68368,     0.68468,     0.68569,     0.68669,     0.68769,     0.68869,     0.68969,     0.69069,     0.69169,     0.69269,     0.69369,     0.69469,      0.6957,\n",
       "            0.6967,      0.6977,      0.6987,      0.6997,      0.7007,      0.7017,      0.7027,      0.7037,      0.7047,     0.70571,     0.70671,     0.70771,     0.70871,     0.70971,     0.71071,     0.71171,     0.71271,     0.71371,     0.71471,     0.71572,     0.71672,     0.71772,     0.71872,     0.71972,\n",
       "           0.72072,     0.72172,     0.72272,     0.72372,     0.72472,     0.72573,     0.72673,     0.72773,     0.72873,     0.72973,     0.73073,     0.73173,     0.73273,     0.73373,     0.73473,     0.73574,     0.73674,     0.73774,     0.73874,     0.73974,     0.74074,     0.74174,     0.74274,     0.74374,\n",
       "           0.74474,     0.74575,     0.74675,     0.74775,     0.74875,     0.74975,     0.75075,     0.75175,     0.75275,     0.75375,     0.75475,     0.75576,     0.75676,     0.75776,     0.75876,     0.75976,     0.76076,     0.76176,     0.76276,     0.76376,     0.76476,     0.76577,     0.76677,     0.76777,\n",
       "           0.76877,     0.76977,     0.77077,     0.77177,     0.77277,     0.77377,     0.77477,     0.77578,     0.77678,     0.77778,     0.77878,     0.77978,     0.78078,     0.78178,     0.78278,     0.78378,     0.78478,     0.78579,     0.78679,     0.78779,     0.78879,     0.78979,     0.79079,     0.79179,\n",
       "           0.79279,     0.79379,     0.79479,      0.7958,      0.7968,      0.7978,      0.7988,      0.7998,      0.8008,      0.8018,      0.8028,      0.8038,      0.8048,     0.80581,     0.80681,     0.80781,     0.80881,     0.80981,     0.81081,     0.81181,     0.81281,     0.81381,     0.81481,     0.81582,\n",
       "           0.81682,     0.81782,     0.81882,     0.81982,     0.82082,     0.82182,     0.82282,     0.82382,     0.82482,     0.82583,     0.82683,     0.82783,     0.82883,     0.82983,     0.83083,     0.83183,     0.83283,     0.83383,     0.83483,     0.83584,     0.83684,     0.83784,     0.83884,     0.83984,\n",
       "           0.84084,     0.84184,     0.84284,     0.84384,     0.84484,     0.84585,     0.84685,     0.84785,     0.84885,     0.84985,     0.85085,     0.85185,     0.85285,     0.85385,     0.85485,     0.85586,     0.85686,     0.85786,     0.85886,     0.85986,     0.86086,     0.86186,     0.86286,     0.86386,\n",
       "           0.86486,     0.86587,     0.86687,     0.86787,     0.86887,     0.86987,     0.87087,     0.87187,     0.87287,     0.87387,     0.87487,     0.87588,     0.87688,     0.87788,     0.87888,     0.87988,     0.88088,     0.88188,     0.88288,     0.88388,     0.88488,     0.88589,     0.88689,     0.88789,\n",
       "           0.88889,     0.88989,     0.89089,     0.89189,     0.89289,     0.89389,     0.89489,      0.8959,      0.8969,      0.8979,      0.8989,      0.8999,      0.9009,      0.9019,      0.9029,      0.9039,      0.9049,     0.90591,     0.90691,     0.90791,     0.90891,     0.90991,     0.91091,     0.91191,\n",
       "           0.91291,     0.91391,     0.91491,     0.91592,     0.91692,     0.91792,     0.91892,     0.91992,     0.92092,     0.92192,     0.92292,     0.92392,     0.92492,     0.92593,     0.92693,     0.92793,     0.92893,     0.92993,     0.93093,     0.93193,     0.93293,     0.93393,     0.93493,     0.93594,\n",
       "           0.93694,     0.93794,     0.93894,     0.93994,     0.94094,     0.94194,     0.94294,     0.94394,     0.94494,     0.94595,     0.94695,     0.94795,     0.94895,     0.94995,     0.95095,     0.95195,     0.95295,     0.95395,     0.95495,     0.95596,     0.95696,     0.95796,     0.95896,     0.95996,\n",
       "           0.96096,     0.96196,     0.96296,     0.96396,     0.96496,     0.96597,     0.96697,     0.96797,     0.96897,     0.96997,     0.97097,     0.97197,     0.97297,     0.97397,     0.97497,     0.97598,     0.97698,     0.97798,     0.97898,     0.97998,     0.98098,     0.98198,     0.98298,     0.98398,\n",
       "           0.98498,     0.98599,     0.98699,     0.98799,     0.98899,     0.98999,     0.99099,     0.99199,     0.99299,     0.99399,     0.99499,       0.996,       0.997,       0.998,       0.999,           1]), array([[    0.03635,     0.03635,    0.036391,      0.0449,    0.061221,     0.07737,    0.091174,     0.10316,      0.1165,     0.13014,     0.14111,     0.15039,     0.16343,     0.17703,     0.18849,     0.19798,     0.20851,      0.2177,     0.22932,     0.23851,     0.24582,     0.25275,     0.26156,\n",
       "            0.26645,      0.2723,     0.27953,      0.2854,     0.28758,     0.29557,     0.30406,     0.30611,     0.30988,     0.30537,     0.31132,     0.31976,     0.32456,     0.32992,     0.32952,     0.33174,     0.32169,     0.32579,      0.3301,     0.33991,     0.34189,      0.3488,     0.34932,\n",
       "            0.34983,     0.35096,      0.3564,     0.36125,      0.3646,      0.3658,     0.36706,     0.36828,     0.37129,     0.37339,     0.37819,     0.38093,     0.38637,     0.38791,     0.38887,        0.39,     0.39301,      0.3999,     0.39296,     0.39442,     0.39544,     0.38913,     0.39357,\n",
       "            0.39134,     0.39305,     0.39961,     0.40453,     0.40782,     0.40932,     0.41282,     0.41534,     0.41673,     0.41726,     0.41779,     0.41832,     0.41885,     0.41958,     0.42059,      0.4216,     0.42361,     0.42507,     0.42624,      0.4276,     0.42913,     0.43506,     0.43655,\n",
       "            0.43911,      0.4496,     0.45338,     0.45839,     0.45984,      0.4581,     0.45636,     0.45462,     0.45288,     0.45113,     0.45181,     0.45964,     0.46209,     0.46792,     0.45916,     0.46075,     0.46528,     0.46683,     0.46439,      0.4574,     0.45781,     0.45822,     0.45862,\n",
       "            0.45903,     0.45943,     0.45984,     0.46024,     0.47067,     0.47148,     0.47228,     0.47309,     0.47389,     0.47512,     0.47647,     0.47771,     0.47835,     0.47899,     0.47963,     0.48027,     0.48091,     0.48184,     0.47626,     0.47368,     0.47454,     0.47539,     0.47624,\n",
       "             0.4767,     0.47559,     0.47448,     0.47337,     0.47226,     0.47114,     0.47003,     0.46892,      0.4678,     0.46669,     0.46557,     0.46562,     0.46647,     0.46733,     0.46817,     0.46973,     0.47263,     0.47444,     0.47623,     0.47748,     0.47873,     0.47997,      0.4824,\n",
       "              0.484,     0.48431,     0.48462,     0.48494,     0.48525,     0.48557,     0.48588,     0.48619,     0.48651,     0.48682,     0.48713,     0.48744,     0.48775,     0.48933,     0.49115,     0.49293,     0.49468,     0.49991,     0.49875,     0.49759,     0.49643,     0.49527,     0.49411,\n",
       "            0.49295,     0.49179,     0.49062,     0.48946,      0.4883,     0.48771,     0.48913,     0.49054,       0.496,     0.49693,     0.49785,     0.49877,     0.49969,     0.50132,      0.5033,      0.5046,     0.50515,     0.50569,     0.50623,     0.50678,     0.50732,     0.50786,     0.50839,\n",
       "            0.50902,     0.50984,     0.51067,     0.51149,      0.5123,     0.51312,     0.51362,     0.51404,     0.51445,     0.51487,     0.51529,     0.51571,     0.51613,     0.51654,     0.51696,     0.51737,     0.51779,     0.52291,     0.52337,     0.52383,     0.52429,     0.52475,     0.52521,\n",
       "            0.52566,     0.52612,     0.52658,     0.52703,     0.52763,      0.5284,     0.52917,     0.52993,     0.53069,     0.53145,     0.53196,     0.53079,     0.52962,     0.52845,     0.52728,     0.52611,     0.52493,     0.52376,     0.52258,     0.52141,     0.52023,     0.51906,     0.52212,\n",
       "            0.51213,     0.51476,     0.51612,     0.51747,     0.51881,     0.52043,     0.52215,     0.52387,     0.52501,     0.52597,     0.52693,     0.52789,     0.52884,     0.52966,     0.53028,      0.5309,     0.53151,     0.53213,     0.53274,     0.53335,     0.53396,     0.53457,     0.53194,\n",
       "            0.52879,     0.52562,     0.52245,     0.52026,      0.5214,     0.52254,     0.52367,      0.5248,     0.52565,     0.52632,     0.52699,     0.52766,     0.52833,     0.52899,     0.52965,     0.53031,     0.53469,     0.53876,     0.54642,     0.53739,     0.53348,     0.53738,     0.53539,\n",
       "            0.53298,     0.53057,     0.52816,     0.52574,     0.52332,     0.52223,     0.52362,     0.52501,     0.52638,     0.52771,     0.52887,     0.53002,     0.53116,      0.5323,     0.53337,     0.53385,     0.53433,     0.53481,     0.53528,     0.53576,     0.53623,      0.5367,     0.53717,\n",
       "            0.53764,     0.53811,     0.53858,     0.53905,     0.52301,     0.52373,     0.52444,     0.52515,     0.52585,     0.52655,     0.52725,     0.52795,     0.52864,     0.52917,     0.52967,     0.53017,     0.53067,     0.53117,     0.53166,     0.53216,     0.53265,     0.53314,     0.53363,\n",
       "            0.53412,      0.5346,     0.53647,     0.54015,     0.54192,     0.54295,     0.54397,     0.54498,     0.54599,       0.547,     0.54909,     0.55295,     0.55388,     0.55337,     0.55287,     0.55236,     0.55186,     0.55135,     0.55085,     0.55034,     0.54983,     0.54933,     0.54882,\n",
       "            0.54831,      0.5478,      0.5473,     0.54679,     0.54628,     0.54577,     0.54526,     0.54475,     0.54424,     0.54373,     0.54322,     0.54271,      0.5422,     0.54169,     0.54118,     0.54067,     0.54016,     0.53964,     0.53913,     0.53862,     0.53811,     0.53759,     0.53708,\n",
       "            0.53654,     0.53518,     0.53382,     0.53245,     0.53108,     0.52972,     0.52835,     0.52698,      0.5256,     0.52423,     0.52285,     0.52147,     0.52009,     0.51871,     0.51975,     0.52116,     0.52256,     0.52394,     0.52064,     0.50653,     0.50731,     0.50808,     0.50885,\n",
       "            0.50961,     0.51037,     0.51112,     0.51187,     0.51261,     0.51253,     0.51214,     0.51174,     0.51134,     0.51094,     0.51054,     0.51014,     0.50974,     0.50934,     0.50895,     0.50855,     0.50815,     0.50775,     0.50735,     0.50695,     0.50654,     0.50614,     0.50574,\n",
       "            0.50534,     0.50494,     0.50454,     0.50414,     0.50374,     0.50333,     0.50293,     0.50253,     0.50213,     0.50173,     0.50132,     0.50092,     0.50052,     0.50011,     0.49971,     0.49931,      0.4989,      0.4985,      0.4981,     0.49769,     0.49729,     0.49688,     0.49648,\n",
       "            0.49607,     0.49567,     0.49526,     0.49486,     0.49445,     0.49405,     0.49364,     0.48675,     0.47657,     0.47416,     0.47483,     0.47549,     0.47614,     0.47679,     0.47744,     0.47808,     0.47872,     0.47935,     0.47998,     0.45973,     0.45987,     0.46029,      0.4607,\n",
       "            0.46111,     0.46152,     0.46193,     0.46234,     0.46274,     0.46314,     0.46354,     0.46394,     0.46433,     0.46473,     0.46512,     0.46551,     0.46371,     0.45829,     0.45283,     0.44734,     0.44374,     0.44226,     0.44077,     0.43929,      0.4378,     0.43631,     0.43481,\n",
       "            0.43332,     0.43182,     0.43032,     0.42881,     0.42731,      0.4258,     0.42429,     0.42277,     0.41868,     0.41409,     0.40947,     0.40483,     0.40017,     0.38862,     0.37666,     0.36449,      0.3529,     0.35219,     0.35147,     0.35076,     0.35005,     0.34933,     0.34862,\n",
       "            0.34791,     0.34719,     0.34648,     0.34576,     0.34504,     0.34433,     0.34361,     0.34289,     0.34217,     0.34145,     0.34073,     0.34001,     0.33929,     0.33857,     0.33785,     0.33713,      0.3364,     0.33568,     0.33496,     0.33423,     0.33351,     0.33278,     0.33206,\n",
       "            0.33133,      0.3306,     0.32988,     0.32915,     0.32842,     0.32408,     0.31938,     0.31467,     0.30993,     0.30518,     0.30232,     0.30103,     0.29974,     0.29844,     0.29715,     0.29585,     0.29455,     0.29325,     0.29195,     0.29064,     0.28934,     0.28803,     0.28672,\n",
       "            0.28541,      0.2841,     0.28279,     0.28147,     0.28015,     0.27884,     0.27752,     0.27719,     0.27766,     0.27812,     0.27858,     0.27903,     0.27947,      0.2799,     0.28033,     0.28075,     0.28117,     0.28131,     0.28138,     0.28145,     0.28153,      0.2816,     0.28167,\n",
       "            0.28175,     0.28182,     0.28189,     0.28196,     0.28203,      0.2821,     0.28218,     0.28225,     0.28232,     0.28239,     0.28246,     0.28253,      0.2826,     0.28267,     0.28274,     0.28281,     0.28288,     0.28294,     0.28301,     0.28308,     0.28315,     0.28322,     0.28329,\n",
       "            0.28335,     0.28342,     0.28349,     0.28356,     0.28362,     0.28369,     0.28376,     0.28382,     0.28389,     0.28396,     0.28402,     0.28409,     0.28415,     0.28422,     0.28429,     0.28435,     0.28442,     0.28448,     0.28455,     0.28461,     0.28467,     0.28474,      0.2848,\n",
       "            0.28487,     0.28493,     0.28499,     0.28506,     0.28512,     0.28518,     0.28525,     0.28531,     0.28537,     0.28543,      0.2855,     0.28556,     0.28562,     0.28568,     0.28537,     0.28462,     0.28386,     0.28311,     0.28235,     0.28159,     0.28083,     0.28008,     0.27932,\n",
       "            0.27856,      0.2778,     0.27704,     0.27627,     0.27551,     0.27475,     0.27398,     0.27322,     0.27245,     0.27169,     0.27092,     0.27015,     0.26939,     0.26862,     0.26785,     0.26708,     0.26631,     0.26554,     0.26476,     0.26399,     0.26322,     0.26244,     0.26167,\n",
       "            0.26089,     0.26012,     0.25934,     0.25856,     0.25724,     0.25493,     0.25261,     0.25029,     0.24796,     0.24563,     0.24329,     0.24094,     0.23859,     0.23623,     0.23387,      0.2315,     0.22938,     0.22862,     0.22786,     0.22709,     0.22633,     0.22556,     0.22479,\n",
       "            0.22403,     0.22326,     0.22249,     0.22172,     0.22095,     0.22018,     0.21941,     0.21864,     0.21786,     0.21709,     0.21632,     0.21554,     0.21477,     0.21399,     0.21322,     0.21244,     0.21166,     0.21088,      0.2101,     0.20932,     0.20854,     0.20776,     0.20698,\n",
       "             0.2062,     0.20541,     0.20463,     0.20384,     0.20306,     0.20227,     0.20148,      0.2007,     0.19977,     0.19778,     0.19579,      0.1938,      0.1918,     0.18979,     0.18778,     0.18577,     0.18375,     0.18173,      0.1797,     0.17767,     0.17564,      0.1736,     0.17155,\n",
       "             0.1695,     0.16864,     0.16778,     0.16691,     0.16605,     0.16519,     0.16432,     0.16346,     0.16259,     0.16173,     0.16086,     0.15999,     0.15912,     0.15825,     0.15738,     0.15651,     0.15564,     0.15477,     0.15389,     0.15302,     0.15214,     0.15127,     0.15039,\n",
       "            0.14951,     0.14863,     0.14775,     0.14687,     0.14599,     0.14511,     0.14423,     0.14334,     0.14246,     0.14157,     0.14069,      0.1398,     0.13891,     0.13802,     0.13736,     0.13673,      0.1361,     0.13546,     0.13483,     0.13419,     0.13356,     0.13292,     0.13228,\n",
       "            0.13165,     0.13101,     0.13037,     0.12973,     0.12909,     0.12846,     0.12782,     0.12718,     0.12654,     0.12589,     0.12525,     0.12461,     0.12397,     0.12333,     0.12268,     0.12204,      0.1214,     0.12075,     0.12011,     0.11946,     0.11882,     0.11817,     0.11752,\n",
       "            0.11688,     0.11623,     0.11558,     0.11493,     0.11428,     0.11363,     0.11299,     0.11233,     0.11168,     0.11103,     0.11038,     0.10973,     0.10908,     0.10842,     0.10777,     0.10712,     0.10646,     0.10581,     0.10445,    0.099566,    0.094656,    0.089721,    0.084761,\n",
       "           0.079774,    0.074762,    0.069439,    0.063525,    0.057575,    0.051588,    0.045565,    0.039504,           0,           0,           0,           0,           0,           0,           0,           0,           0,           0,           0,           0,           0,           0,           0,\n",
       "                  0,           0,           0,           0,           0,           0,           0,           0,           0,           0,           0,           0,           0,           0,           0,           0,           0,           0,           0,           0,           0,           0,           0,\n",
       "                  0,           0,           0,           0,           0,           0,           0,           0,           0,           0,           0,           0,           0,           0,           0,           0,           0,           0,           0,           0,           0,           0,           0,\n",
       "                  0,           0,           0,           0,           0,           0,           0,           0,           0,           0,           0,           0,           0,           0,           0,           0,           0,           0,           0,           0,           0,           0,           0,\n",
       "                  0,           0,           0,           0,           0,           0,           0,           0,           0,           0,           0,           0,           0,           0,           0,           0,           0,           0,           0,           0,           0,           0,           0,\n",
       "                  0,           0,           0,           0,           0,           0,           0,           0,           0,           0,           0,           0,           0,           0,           0,           0,           0,           0,           0,           0,           0,           0,           0,\n",
       "                  0,           0,           0,           0,           0,           0,           0,           0,           0,           0,           0]]), 'Confidence', 'F1'], [array([          0,    0.001001,    0.002002,    0.003003,    0.004004,    0.005005,    0.006006,    0.007007,    0.008008,    0.009009,     0.01001,    0.011011,    0.012012,    0.013013,    0.014014,    0.015015,    0.016016,    0.017017,    0.018018,    0.019019,     0.02002,    0.021021,    0.022022,    0.023023,\n",
       "          0.024024,    0.025025,    0.026026,    0.027027,    0.028028,    0.029029,     0.03003,    0.031031,    0.032032,    0.033033,    0.034034,    0.035035,    0.036036,    0.037037,    0.038038,    0.039039,     0.04004,    0.041041,    0.042042,    0.043043,    0.044044,    0.045045,    0.046046,    0.047047,\n",
       "          0.048048,    0.049049,     0.05005,    0.051051,    0.052052,    0.053053,    0.054054,    0.055055,    0.056056,    0.057057,    0.058058,    0.059059,     0.06006,    0.061061,    0.062062,    0.063063,    0.064064,    0.065065,    0.066066,    0.067067,    0.068068,    0.069069,     0.07007,    0.071071,\n",
       "          0.072072,    0.073073,    0.074074,    0.075075,    0.076076,    0.077077,    0.078078,    0.079079,     0.08008,    0.081081,    0.082082,    0.083083,    0.084084,    0.085085,    0.086086,    0.087087,    0.088088,    0.089089,     0.09009,    0.091091,    0.092092,    0.093093,    0.094094,    0.095095,\n",
       "          0.096096,    0.097097,    0.098098,    0.099099,      0.1001,      0.1011,      0.1021,      0.1031,      0.1041,     0.10511,     0.10611,     0.10711,     0.10811,     0.10911,     0.11011,     0.11111,     0.11211,     0.11311,     0.11411,     0.11512,     0.11612,     0.11712,     0.11812,     0.11912,\n",
       "           0.12012,     0.12112,     0.12212,     0.12312,     0.12412,     0.12513,     0.12613,     0.12713,     0.12813,     0.12913,     0.13013,     0.13113,     0.13213,     0.13313,     0.13413,     0.13514,     0.13614,     0.13714,     0.13814,     0.13914,     0.14014,     0.14114,     0.14214,     0.14314,\n",
       "           0.14414,     0.14515,     0.14615,     0.14715,     0.14815,     0.14915,     0.15015,     0.15115,     0.15215,     0.15315,     0.15415,     0.15516,     0.15616,     0.15716,     0.15816,     0.15916,     0.16016,     0.16116,     0.16216,     0.16316,     0.16416,     0.16517,     0.16617,     0.16717,\n",
       "           0.16817,     0.16917,     0.17017,     0.17117,     0.17217,     0.17317,     0.17417,     0.17518,     0.17618,     0.17718,     0.17818,     0.17918,     0.18018,     0.18118,     0.18218,     0.18318,     0.18418,     0.18519,     0.18619,     0.18719,     0.18819,     0.18919,     0.19019,     0.19119,\n",
       "           0.19219,     0.19319,     0.19419,      0.1952,      0.1962,      0.1972,      0.1982,      0.1992,      0.2002,      0.2012,      0.2022,      0.2032,      0.2042,     0.20521,     0.20621,     0.20721,     0.20821,     0.20921,     0.21021,     0.21121,     0.21221,     0.21321,     0.21421,     0.21522,\n",
       "           0.21622,     0.21722,     0.21822,     0.21922,     0.22022,     0.22122,     0.22222,     0.22322,     0.22422,     0.22523,     0.22623,     0.22723,     0.22823,     0.22923,     0.23023,     0.23123,     0.23223,     0.23323,     0.23423,     0.23524,     0.23624,     0.23724,     0.23824,     0.23924,\n",
       "           0.24024,     0.24124,     0.24224,     0.24324,     0.24424,     0.24525,     0.24625,     0.24725,     0.24825,     0.24925,     0.25025,     0.25125,     0.25225,     0.25325,     0.25425,     0.25526,     0.25626,     0.25726,     0.25826,     0.25926,     0.26026,     0.26126,     0.26226,     0.26326,\n",
       "           0.26426,     0.26527,     0.26627,     0.26727,     0.26827,     0.26927,     0.27027,     0.27127,     0.27227,     0.27327,     0.27427,     0.27528,     0.27628,     0.27728,     0.27828,     0.27928,     0.28028,     0.28128,     0.28228,     0.28328,     0.28428,     0.28529,     0.28629,     0.28729,\n",
       "           0.28829,     0.28929,     0.29029,     0.29129,     0.29229,     0.29329,     0.29429,      0.2953,      0.2963,      0.2973,      0.2983,      0.2993,      0.3003,      0.3013,      0.3023,      0.3033,      0.3043,     0.30531,     0.30631,     0.30731,     0.30831,     0.30931,     0.31031,     0.31131,\n",
       "           0.31231,     0.31331,     0.31431,     0.31532,     0.31632,     0.31732,     0.31832,     0.31932,     0.32032,     0.32132,     0.32232,     0.32332,     0.32432,     0.32533,     0.32633,     0.32733,     0.32833,     0.32933,     0.33033,     0.33133,     0.33233,     0.33333,     0.33433,     0.33534,\n",
       "           0.33634,     0.33734,     0.33834,     0.33934,     0.34034,     0.34134,     0.34234,     0.34334,     0.34434,     0.34535,     0.34635,     0.34735,     0.34835,     0.34935,     0.35035,     0.35135,     0.35235,     0.35335,     0.35435,     0.35536,     0.35636,     0.35736,     0.35836,     0.35936,\n",
       "           0.36036,     0.36136,     0.36236,     0.36336,     0.36436,     0.36537,     0.36637,     0.36737,     0.36837,     0.36937,     0.37037,     0.37137,     0.37237,     0.37337,     0.37437,     0.37538,     0.37638,     0.37738,     0.37838,     0.37938,     0.38038,     0.38138,     0.38238,     0.38338,\n",
       "           0.38438,     0.38539,     0.38639,     0.38739,     0.38839,     0.38939,     0.39039,     0.39139,     0.39239,     0.39339,     0.39439,      0.3954,      0.3964,      0.3974,      0.3984,      0.3994,      0.4004,      0.4014,      0.4024,      0.4034,      0.4044,     0.40541,     0.40641,     0.40741,\n",
       "           0.40841,     0.40941,     0.41041,     0.41141,     0.41241,     0.41341,     0.41441,     0.41542,     0.41642,     0.41742,     0.41842,     0.41942,     0.42042,     0.42142,     0.42242,     0.42342,     0.42442,     0.42543,     0.42643,     0.42743,     0.42843,     0.42943,     0.43043,     0.43143,\n",
       "           0.43243,     0.43343,     0.43443,     0.43544,     0.43644,     0.43744,     0.43844,     0.43944,     0.44044,     0.44144,     0.44244,     0.44344,     0.44444,     0.44545,     0.44645,     0.44745,     0.44845,     0.44945,     0.45045,     0.45145,     0.45245,     0.45345,     0.45445,     0.45546,\n",
       "           0.45646,     0.45746,     0.45846,     0.45946,     0.46046,     0.46146,     0.46246,     0.46346,     0.46446,     0.46547,     0.46647,     0.46747,     0.46847,     0.46947,     0.47047,     0.47147,     0.47247,     0.47347,     0.47447,     0.47548,     0.47648,     0.47748,     0.47848,     0.47948,\n",
       "           0.48048,     0.48148,     0.48248,     0.48348,     0.48448,     0.48549,     0.48649,     0.48749,     0.48849,     0.48949,     0.49049,     0.49149,     0.49249,     0.49349,     0.49449,      0.4955,      0.4965,      0.4975,      0.4985,      0.4995,      0.5005,      0.5015,      0.5025,      0.5035,\n",
       "            0.5045,     0.50551,     0.50651,     0.50751,     0.50851,     0.50951,     0.51051,     0.51151,     0.51251,     0.51351,     0.51451,     0.51552,     0.51652,     0.51752,     0.51852,     0.51952,     0.52052,     0.52152,     0.52252,     0.52352,     0.52452,     0.52553,     0.52653,     0.52753,\n",
       "           0.52853,     0.52953,     0.53053,     0.53153,     0.53253,     0.53353,     0.53453,     0.53554,     0.53654,     0.53754,     0.53854,     0.53954,     0.54054,     0.54154,     0.54254,     0.54354,     0.54454,     0.54555,     0.54655,     0.54755,     0.54855,     0.54955,     0.55055,     0.55155,\n",
       "           0.55255,     0.55355,     0.55455,     0.55556,     0.55656,     0.55756,     0.55856,     0.55956,     0.56056,     0.56156,     0.56256,     0.56356,     0.56456,     0.56557,     0.56657,     0.56757,     0.56857,     0.56957,     0.57057,     0.57157,     0.57257,     0.57357,     0.57457,     0.57558,\n",
       "           0.57658,     0.57758,     0.57858,     0.57958,     0.58058,     0.58158,     0.58258,     0.58358,     0.58458,     0.58559,     0.58659,     0.58759,     0.58859,     0.58959,     0.59059,     0.59159,     0.59259,     0.59359,     0.59459,      0.5956,      0.5966,      0.5976,      0.5986,      0.5996,\n",
       "            0.6006,      0.6016,      0.6026,      0.6036,      0.6046,     0.60561,     0.60661,     0.60761,     0.60861,     0.60961,     0.61061,     0.61161,     0.61261,     0.61361,     0.61461,     0.61562,     0.61662,     0.61762,     0.61862,     0.61962,     0.62062,     0.62162,     0.62262,     0.62362,\n",
       "           0.62462,     0.62563,     0.62663,     0.62763,     0.62863,     0.62963,     0.63063,     0.63163,     0.63263,     0.63363,     0.63463,     0.63564,     0.63664,     0.63764,     0.63864,     0.63964,     0.64064,     0.64164,     0.64264,     0.64364,     0.64464,     0.64565,     0.64665,     0.64765,\n",
       "           0.64865,     0.64965,     0.65065,     0.65165,     0.65265,     0.65365,     0.65465,     0.65566,     0.65666,     0.65766,     0.65866,     0.65966,     0.66066,     0.66166,     0.66266,     0.66366,     0.66466,     0.66567,     0.66667,     0.66767,     0.66867,     0.66967,     0.67067,     0.67167,\n",
       "           0.67267,     0.67367,     0.67467,     0.67568,     0.67668,     0.67768,     0.67868,     0.67968,     0.68068,     0.68168,     0.68268,     0.68368,     0.68468,     0.68569,     0.68669,     0.68769,     0.68869,     0.68969,     0.69069,     0.69169,     0.69269,     0.69369,     0.69469,      0.6957,\n",
       "            0.6967,      0.6977,      0.6987,      0.6997,      0.7007,      0.7017,      0.7027,      0.7037,      0.7047,     0.70571,     0.70671,     0.70771,     0.70871,     0.70971,     0.71071,     0.71171,     0.71271,     0.71371,     0.71471,     0.71572,     0.71672,     0.71772,     0.71872,     0.71972,\n",
       "           0.72072,     0.72172,     0.72272,     0.72372,     0.72472,     0.72573,     0.72673,     0.72773,     0.72873,     0.72973,     0.73073,     0.73173,     0.73273,     0.73373,     0.73473,     0.73574,     0.73674,     0.73774,     0.73874,     0.73974,     0.74074,     0.74174,     0.74274,     0.74374,\n",
       "           0.74474,     0.74575,     0.74675,     0.74775,     0.74875,     0.74975,     0.75075,     0.75175,     0.75275,     0.75375,     0.75475,     0.75576,     0.75676,     0.75776,     0.75876,     0.75976,     0.76076,     0.76176,     0.76276,     0.76376,     0.76476,     0.76577,     0.76677,     0.76777,\n",
       "           0.76877,     0.76977,     0.77077,     0.77177,     0.77277,     0.77377,     0.77477,     0.77578,     0.77678,     0.77778,     0.77878,     0.77978,     0.78078,     0.78178,     0.78278,     0.78378,     0.78478,     0.78579,     0.78679,     0.78779,     0.78879,     0.78979,     0.79079,     0.79179,\n",
       "           0.79279,     0.79379,     0.79479,      0.7958,      0.7968,      0.7978,      0.7988,      0.7998,      0.8008,      0.8018,      0.8028,      0.8038,      0.8048,     0.80581,     0.80681,     0.80781,     0.80881,     0.80981,     0.81081,     0.81181,     0.81281,     0.81381,     0.81481,     0.81582,\n",
       "           0.81682,     0.81782,     0.81882,     0.81982,     0.82082,     0.82182,     0.82282,     0.82382,     0.82482,     0.82583,     0.82683,     0.82783,     0.82883,     0.82983,     0.83083,     0.83183,     0.83283,     0.83383,     0.83483,     0.83584,     0.83684,     0.83784,     0.83884,     0.83984,\n",
       "           0.84084,     0.84184,     0.84284,     0.84384,     0.84484,     0.84585,     0.84685,     0.84785,     0.84885,     0.84985,     0.85085,     0.85185,     0.85285,     0.85385,     0.85485,     0.85586,     0.85686,     0.85786,     0.85886,     0.85986,     0.86086,     0.86186,     0.86286,     0.86386,\n",
       "           0.86486,     0.86587,     0.86687,     0.86787,     0.86887,     0.86987,     0.87087,     0.87187,     0.87287,     0.87387,     0.87487,     0.87588,     0.87688,     0.87788,     0.87888,     0.87988,     0.88088,     0.88188,     0.88288,     0.88388,     0.88488,     0.88589,     0.88689,     0.88789,\n",
       "           0.88889,     0.88989,     0.89089,     0.89189,     0.89289,     0.89389,     0.89489,      0.8959,      0.8969,      0.8979,      0.8989,      0.8999,      0.9009,      0.9019,      0.9029,      0.9039,      0.9049,     0.90591,     0.90691,     0.90791,     0.90891,     0.90991,     0.91091,     0.91191,\n",
       "           0.91291,     0.91391,     0.91491,     0.91592,     0.91692,     0.91792,     0.91892,     0.91992,     0.92092,     0.92192,     0.92292,     0.92392,     0.92492,     0.92593,     0.92693,     0.92793,     0.92893,     0.92993,     0.93093,     0.93193,     0.93293,     0.93393,     0.93493,     0.93594,\n",
       "           0.93694,     0.93794,     0.93894,     0.93994,     0.94094,     0.94194,     0.94294,     0.94394,     0.94494,     0.94595,     0.94695,     0.94795,     0.94895,     0.94995,     0.95095,     0.95195,     0.95295,     0.95395,     0.95495,     0.95596,     0.95696,     0.95796,     0.95896,     0.95996,\n",
       "           0.96096,     0.96196,     0.96296,     0.96396,     0.96496,     0.96597,     0.96697,     0.96797,     0.96897,     0.96997,     0.97097,     0.97197,     0.97297,     0.97397,     0.97497,     0.97598,     0.97698,     0.97798,     0.97898,     0.97998,     0.98098,     0.98198,     0.98298,     0.98398,\n",
       "           0.98498,     0.98599,     0.98699,     0.98799,     0.98899,     0.98999,     0.99099,     0.99199,     0.99299,     0.99399,     0.99499,       0.996,       0.997,       0.998,       0.999,           1]), array([[   0.018554,    0.018554,    0.018576,    0.023032,    0.031702,    0.040445,    0.048052,    0.054832,     0.06243,    0.070328,    0.076924,    0.082651,    0.090822,    0.099299,     0.10657,     0.11268,     0.11955,     0.12563,     0.13344,      0.1397,     0.14474,     0.14957,     0.15578,\n",
       "            0.15927,     0.16346,     0.16952,     0.17385,     0.17547,     0.18147,      0.1879,     0.19055,      0.1935,     0.19112,      0.1958,     0.20253,     0.20639,     0.21075,     0.21189,     0.21377,      0.2085,     0.21196,     0.21562,     0.22408,      0.2258,     0.23186,     0.23232,\n",
       "            0.23278,     0.23378,     0.23863,     0.24299,     0.24604,     0.24713,     0.24828,      0.2494,     0.25217,     0.25411,     0.25858,     0.26115,     0.26628,     0.26775,     0.26867,     0.26975,     0.27264,     0.27935,     0.27497,     0.27691,     0.27792,     0.27475,     0.27919,\n",
       "            0.28028,     0.28205,     0.28885,     0.29401,     0.29751,     0.29911,     0.30286,     0.30558,     0.30708,     0.30766,     0.30824,     0.30882,      0.3094,      0.3102,      0.3113,     0.31241,     0.31462,     0.31623,     0.31753,     0.31904,     0.32075,     0.32742,      0.3291,\n",
       "            0.33202,     0.34417,     0.34863,     0.35458,      0.3567,     0.35557,     0.35443,      0.3533,     0.35217,     0.35104,     0.35231,     0.36193,     0.36497,      0.3723,     0.36772,     0.36977,     0.37565,     0.37767,     0.37687,     0.37244,     0.37298,     0.37352,     0.37406,\n",
       "             0.3746,     0.37514,     0.37568,     0.37622,     0.39036,     0.39147,     0.39258,     0.39369,     0.39481,     0.39651,      0.3984,     0.40013,     0.40104,     0.40194,     0.40284,     0.40375,     0.40465,     0.40826,     0.40457,     0.40318,     0.40442,     0.40566,      0.4069,\n",
       "            0.40775,       0.407,     0.40626,     0.40551,     0.40477,     0.40403,     0.40328,     0.40254,     0.40179,     0.40105,     0.40031,     0.40075,     0.40201,     0.40328,     0.40455,     0.40687,     0.41124,     0.41399,     0.41672,     0.41865,     0.42057,      0.4225,     0.42626,\n",
       "            0.42877,     0.42926,     0.42976,     0.43025,     0.43074,     0.43124,     0.43173,     0.43223,     0.43272,     0.43322,     0.43371,     0.43421,      0.4347,     0.43721,     0.44012,     0.44299,     0.44583,     0.45449,     0.45371,     0.45294,     0.45217,     0.45139,     0.45062,\n",
       "            0.44985,     0.44907,      0.4483,     0.44753,     0.44675,     0.44669,     0.44907,     0.45145,     0.46079,      0.4624,       0.464,      0.4656,      0.4672,     0.47006,     0.47355,     0.47586,     0.47683,      0.4778,     0.47877,     0.47974,     0.48071,     0.48168,     0.48265,\n",
       "            0.48378,     0.48527,     0.48676,     0.48826,     0.48975,     0.49124,     0.49215,     0.49292,      0.4937,     0.49447,     0.49524,     0.49601,     0.49678,     0.49756,     0.49833,      0.4991,     0.49987,      0.5095,     0.51038,     0.51126,     0.51213,     0.51301,     0.51389,\n",
       "            0.51476,     0.51564,     0.51652,     0.51739,     0.51855,     0.52004,     0.52152,     0.52301,     0.52449,     0.52598,     0.52718,     0.52642,     0.52566,     0.52491,     0.52415,      0.5234,     0.52264,     0.52189,     0.52113,     0.52038,     0.51962,     0.51886,     0.52578,\n",
       "            0.52487,     0.53042,     0.53331,     0.53621,      0.5391,      0.5426,     0.54636,     0.55013,     0.55265,     0.55479,     0.55693,     0.55907,     0.56121,     0.56306,     0.56446,     0.56586,     0.56726,     0.56866,     0.57007,     0.57147,     0.57287,     0.57427,     0.57275,\n",
       "            0.57075,     0.56876,     0.56676,     0.56583,     0.56854,     0.57125,     0.57396,     0.57667,     0.57874,     0.58038,     0.58201,     0.58364,     0.58527,      0.5869,     0.58853,     0.59016,     0.60112,      0.6115,     0.63359,     0.62823,     0.62935,      0.6403,     0.63969,\n",
       "            0.63825,     0.63682,     0.63538,     0.63395,     0.63251,     0.63302,     0.63713,     0.64125,     0.64537,     0.64936,     0.65288,      0.6564,     0.65992,     0.66343,     0.66679,     0.66829,     0.66979,     0.67129,      0.6728,      0.6743,      0.6758,      0.6773,      0.6788,\n",
       "             0.6803,     0.68181,     0.68331,     0.68481,     0.67743,     0.67983,     0.68223,     0.68463,     0.68703,     0.68943,     0.69184,     0.69424,     0.69664,     0.69848,     0.70023,     0.70198,     0.70373,     0.70548,     0.70723,     0.70898,     0.71074,     0.71249,     0.71424,\n",
       "            0.71599,     0.71774,      0.7245,     0.73808,     0.74473,     0.74863,     0.75253,     0.75643,     0.76033,     0.76423,     0.77247,     0.78795,     0.79296,     0.79275,     0.79253,     0.79232,     0.79211,     0.79189,     0.79168,     0.79147,     0.79125,     0.79104,     0.79083,\n",
       "            0.79061,      0.7904,     0.79019,     0.78997,     0.78976,     0.78955,     0.78933,     0.78912,     0.78891,     0.78869,     0.78848,     0.78827,     0.78805,     0.78784,     0.78763,     0.78741,      0.7872,     0.78699,     0.78677,     0.78656,     0.78635,     0.78613,     0.78592,\n",
       "            0.78569,     0.78509,     0.78449,     0.78389,     0.78328,     0.78268,     0.78208,     0.78148,     0.78087,     0.78027,     0.77967,     0.77907,     0.77846,     0.77786,     0.78335,     0.78981,     0.79626,     0.80272,     0.80588,     0.80099,      0.8049,      0.8088,     0.81271,\n",
       "            0.81661,     0.82052,     0.82442,     0.82833,     0.83223,     0.83323,     0.83307,     0.83292,     0.83277,     0.83262,     0.83247,     0.83232,     0.83217,     0.83202,     0.83187,     0.83172,     0.83157,     0.83142,     0.83126,     0.83111,     0.83096,     0.83081,     0.83066,\n",
       "            0.83051,     0.83036,     0.83021,     0.83006,     0.82991,     0.82976,     0.82961,     0.82945,      0.8293,     0.82915,       0.829,     0.82885,      0.8287,     0.82855,      0.8284,     0.82825,      0.8281,     0.82795,      0.8278,     0.82764,     0.82749,     0.82734,     0.82719,\n",
       "            0.82704,     0.82689,     0.82674,     0.82659,     0.82644,     0.82629,     0.82614,     0.82337,     0.81932,     0.82105,     0.82505,     0.82904,     0.83303,     0.83703,     0.84102,     0.84501,     0.84901,       0.853,     0.85699,     0.85009,     0.85283,      0.8557,     0.85856,\n",
       "            0.86143,     0.86429,     0.86716,     0.87003,     0.87289,     0.87576,     0.87862,     0.88149,     0.88436,     0.88722,     0.89009,     0.89295,     0.89417,     0.89267,     0.89117,     0.88967,     0.88868,     0.88823,     0.88778,     0.88734,     0.88689,     0.88644,       0.886,\n",
       "            0.88555,      0.8851,     0.88466,     0.88421,     0.88376,     0.88332,     0.88287,     0.88242,     0.88108,     0.87958,     0.87807,     0.87656,     0.87505,     0.87088,      0.8666,     0.86172,     0.85712,      0.8568,     0.85648,     0.85616,     0.85584,     0.85551,     0.85519,\n",
       "            0.85487,     0.85455,     0.85423,      0.8539,     0.85358,     0.85326,     0.85294,     0.85262,      0.8523,     0.85197,     0.85165,     0.85133,     0.85101,     0.85069,     0.85036,     0.85004,     0.84972,      0.8494,     0.84908,     0.84876,     0.84843,     0.84811,     0.84779,\n",
       "            0.84747,     0.84715,     0.84682,      0.8465,     0.84618,     0.84397,     0.84158,     0.83919,      0.8368,     0.83441,     0.83292,     0.83216,      0.8314,     0.83064,     0.82989,     0.82913,     0.82837,     0.82761,     0.82686,      0.8261,     0.82534,     0.82458,     0.82383,\n",
       "            0.82307,     0.82231,     0.82155,     0.82079,     0.82004,     0.81928,     0.81852,      0.8228,     0.83119,     0.83957,     0.84796,     0.85635,     0.86473,     0.87312,     0.88151,     0.88989,     0.89828,      0.9012,     0.90271,     0.90421,     0.90572,     0.90723,     0.90874,\n",
       "            0.91024,     0.91175,     0.91326,     0.91476,     0.91627,     0.91778,     0.91929,     0.92079,      0.9223,     0.92381,     0.92532,     0.92682,     0.92833,     0.92984,     0.93135,     0.93285,     0.93436,     0.93587,     0.93738,     0.93888,     0.94039,      0.9419,     0.94341,\n",
       "            0.94491,     0.94642,     0.94793,     0.94943,     0.95094,     0.95245,     0.95396,     0.95546,     0.95697,     0.95848,     0.95999,     0.96149,       0.963,     0.96451,     0.96602,     0.96752,     0.96903,     0.97054,     0.97205,     0.97355,     0.97506,     0.97657,     0.97808,\n",
       "            0.97958,     0.98109,      0.9826,      0.9841,     0.98561,     0.98712,     0.98863,     0.99013,     0.99164,     0.99315,     0.99466,     0.99616,     0.99767,     0.99918,           1,           1,           1,           1,           1,           1,           1,           1,           1,\n",
       "                  1,           1,           1,           1,           1,           1,           1,           1,           1,           1,           1,           1,           1,           1,           1,           1,           1,           1,           1,           1,           1,           1,           1,\n",
       "                  1,           1,           1,           1,           1,           1,           1,           1,           1,           1,           1,           1,           1,           1,           1,           1,           1,           1,           1,           1,           1,           1,           1,\n",
       "                  1,           1,           1,           1,           1,           1,           1,           1,           1,           1,           1,           1,           1,           1,           1,           1,           1,           1,           1,           1,           1,           1,           1,\n",
       "                  1,           1,           1,           1,           1,           1,           1,           1,           1,           1,           1,           1,           1,           1,           1,           1,           1,           1,           1,           1,           1,           1,           1,\n",
       "                  1,           1,           1,           1,           1,           1,           1,           1,           1,           1,           1,           1,           1,           1,           1,           1,           1,           1,           1,           1,           1,           1,           1,\n",
       "                  1,           1,           1,           1,           1,           1,           1,           1,           1,           1,           1,           1,           1,           1,           1,           1,           1,           1,           1,           1,           1,           1,           1,\n",
       "                  1,           1,           1,           1,           1,           1,           1,           1,           1,           1,           1,           1,           1,           1,           1,           1,           1,           1,           1,           1,           1,           1,           1,\n",
       "                  1,           1,           1,           1,           1,           1,           1,           1,           1,           1,           1,           1,           1,           1,           1,           1,           1,           1,           1,           1,           1,           1,           1,\n",
       "                  1,           1,           1,           1,           1,           1,           1,           1,           1,           1,           1,           1,           1,           1,           1,           1,           1,           1,           1,           1,           1,           1,           1,\n",
       "                  1,           1,           1,           1,           1,           1,           1,           1,           1,           1,           1,           1,           1,           1,           1,           1,           1,           1,           1,           1,           1,           1,           1,\n",
       "                  1,           1,           1,           1,           1,           1,           1,           1,           1,           1,           1,           1,           1,           1,           1,           1,           1,           1,           1,           1,           1,           1,           1,\n",
       "                  1,           1,           1,           1,           1,           1,           1,           1,           1,           1,           1,           1,           1,           1,           1,           1,           1,           1,           1,           1,           1,           1,           1,\n",
       "                  1,           1,           1,           1,           1,           1,           1,           1,           1,           1,           1,           1,           1,           1,           1,           1,           1,           1,           1,           1,           1,           1,           1,\n",
       "                  1,           1,           1,           1,           1,           1,           1,           1,           1,           1,           1,           1,           1,           1,           1,           1,           1,           1,           1,           1,           1,           1,           1,\n",
       "                  1,           1,           1,           1,           1,           1,           1,           1,           1,           1,           1]]), 'Confidence', 'Precision'], [array([          0,    0.001001,    0.002002,    0.003003,    0.004004,    0.005005,    0.006006,    0.007007,    0.008008,    0.009009,     0.01001,    0.011011,    0.012012,    0.013013,    0.014014,    0.015015,    0.016016,    0.017017,    0.018018,    0.019019,     0.02002,    0.021021,    0.022022,    0.023023,\n",
       "          0.024024,    0.025025,    0.026026,    0.027027,    0.028028,    0.029029,     0.03003,    0.031031,    0.032032,    0.033033,    0.034034,    0.035035,    0.036036,    0.037037,    0.038038,    0.039039,     0.04004,    0.041041,    0.042042,    0.043043,    0.044044,    0.045045,    0.046046,    0.047047,\n",
       "          0.048048,    0.049049,     0.05005,    0.051051,    0.052052,    0.053053,    0.054054,    0.055055,    0.056056,    0.057057,    0.058058,    0.059059,     0.06006,    0.061061,    0.062062,    0.063063,    0.064064,    0.065065,    0.066066,    0.067067,    0.068068,    0.069069,     0.07007,    0.071071,\n",
       "          0.072072,    0.073073,    0.074074,    0.075075,    0.076076,    0.077077,    0.078078,    0.079079,     0.08008,    0.081081,    0.082082,    0.083083,    0.084084,    0.085085,    0.086086,    0.087087,    0.088088,    0.089089,     0.09009,    0.091091,    0.092092,    0.093093,    0.094094,    0.095095,\n",
       "          0.096096,    0.097097,    0.098098,    0.099099,      0.1001,      0.1011,      0.1021,      0.1031,      0.1041,     0.10511,     0.10611,     0.10711,     0.10811,     0.10911,     0.11011,     0.11111,     0.11211,     0.11311,     0.11411,     0.11512,     0.11612,     0.11712,     0.11812,     0.11912,\n",
       "           0.12012,     0.12112,     0.12212,     0.12312,     0.12412,     0.12513,     0.12613,     0.12713,     0.12813,     0.12913,     0.13013,     0.13113,     0.13213,     0.13313,     0.13413,     0.13514,     0.13614,     0.13714,     0.13814,     0.13914,     0.14014,     0.14114,     0.14214,     0.14314,\n",
       "           0.14414,     0.14515,     0.14615,     0.14715,     0.14815,     0.14915,     0.15015,     0.15115,     0.15215,     0.15315,     0.15415,     0.15516,     0.15616,     0.15716,     0.15816,     0.15916,     0.16016,     0.16116,     0.16216,     0.16316,     0.16416,     0.16517,     0.16617,     0.16717,\n",
       "           0.16817,     0.16917,     0.17017,     0.17117,     0.17217,     0.17317,     0.17417,     0.17518,     0.17618,     0.17718,     0.17818,     0.17918,     0.18018,     0.18118,     0.18218,     0.18318,     0.18418,     0.18519,     0.18619,     0.18719,     0.18819,     0.18919,     0.19019,     0.19119,\n",
       "           0.19219,     0.19319,     0.19419,      0.1952,      0.1962,      0.1972,      0.1982,      0.1992,      0.2002,      0.2012,      0.2022,      0.2032,      0.2042,     0.20521,     0.20621,     0.20721,     0.20821,     0.20921,     0.21021,     0.21121,     0.21221,     0.21321,     0.21421,     0.21522,\n",
       "           0.21622,     0.21722,     0.21822,     0.21922,     0.22022,     0.22122,     0.22222,     0.22322,     0.22422,     0.22523,     0.22623,     0.22723,     0.22823,     0.22923,     0.23023,     0.23123,     0.23223,     0.23323,     0.23423,     0.23524,     0.23624,     0.23724,     0.23824,     0.23924,\n",
       "           0.24024,     0.24124,     0.24224,     0.24324,     0.24424,     0.24525,     0.24625,     0.24725,     0.24825,     0.24925,     0.25025,     0.25125,     0.25225,     0.25325,     0.25425,     0.25526,     0.25626,     0.25726,     0.25826,     0.25926,     0.26026,     0.26126,     0.26226,     0.26326,\n",
       "           0.26426,     0.26527,     0.26627,     0.26727,     0.26827,     0.26927,     0.27027,     0.27127,     0.27227,     0.27327,     0.27427,     0.27528,     0.27628,     0.27728,     0.27828,     0.27928,     0.28028,     0.28128,     0.28228,     0.28328,     0.28428,     0.28529,     0.28629,     0.28729,\n",
       "           0.28829,     0.28929,     0.29029,     0.29129,     0.29229,     0.29329,     0.29429,      0.2953,      0.2963,      0.2973,      0.2983,      0.2993,      0.3003,      0.3013,      0.3023,      0.3033,      0.3043,     0.30531,     0.30631,     0.30731,     0.30831,     0.30931,     0.31031,     0.31131,\n",
       "           0.31231,     0.31331,     0.31431,     0.31532,     0.31632,     0.31732,     0.31832,     0.31932,     0.32032,     0.32132,     0.32232,     0.32332,     0.32432,     0.32533,     0.32633,     0.32733,     0.32833,     0.32933,     0.33033,     0.33133,     0.33233,     0.33333,     0.33433,     0.33534,\n",
       "           0.33634,     0.33734,     0.33834,     0.33934,     0.34034,     0.34134,     0.34234,     0.34334,     0.34434,     0.34535,     0.34635,     0.34735,     0.34835,     0.34935,     0.35035,     0.35135,     0.35235,     0.35335,     0.35435,     0.35536,     0.35636,     0.35736,     0.35836,     0.35936,\n",
       "           0.36036,     0.36136,     0.36236,     0.36336,     0.36436,     0.36537,     0.36637,     0.36737,     0.36837,     0.36937,     0.37037,     0.37137,     0.37237,     0.37337,     0.37437,     0.37538,     0.37638,     0.37738,     0.37838,     0.37938,     0.38038,     0.38138,     0.38238,     0.38338,\n",
       "           0.38438,     0.38539,     0.38639,     0.38739,     0.38839,     0.38939,     0.39039,     0.39139,     0.39239,     0.39339,     0.39439,      0.3954,      0.3964,      0.3974,      0.3984,      0.3994,      0.4004,      0.4014,      0.4024,      0.4034,      0.4044,     0.40541,     0.40641,     0.40741,\n",
       "           0.40841,     0.40941,     0.41041,     0.41141,     0.41241,     0.41341,     0.41441,     0.41542,     0.41642,     0.41742,     0.41842,     0.41942,     0.42042,     0.42142,     0.42242,     0.42342,     0.42442,     0.42543,     0.42643,     0.42743,     0.42843,     0.42943,     0.43043,     0.43143,\n",
       "           0.43243,     0.43343,     0.43443,     0.43544,     0.43644,     0.43744,     0.43844,     0.43944,     0.44044,     0.44144,     0.44244,     0.44344,     0.44444,     0.44545,     0.44645,     0.44745,     0.44845,     0.44945,     0.45045,     0.45145,     0.45245,     0.45345,     0.45445,     0.45546,\n",
       "           0.45646,     0.45746,     0.45846,     0.45946,     0.46046,     0.46146,     0.46246,     0.46346,     0.46446,     0.46547,     0.46647,     0.46747,     0.46847,     0.46947,     0.47047,     0.47147,     0.47247,     0.47347,     0.47447,     0.47548,     0.47648,     0.47748,     0.47848,     0.47948,\n",
       "           0.48048,     0.48148,     0.48248,     0.48348,     0.48448,     0.48549,     0.48649,     0.48749,     0.48849,     0.48949,     0.49049,     0.49149,     0.49249,     0.49349,     0.49449,      0.4955,      0.4965,      0.4975,      0.4985,      0.4995,      0.5005,      0.5015,      0.5025,      0.5035,\n",
       "            0.5045,     0.50551,     0.50651,     0.50751,     0.50851,     0.50951,     0.51051,     0.51151,     0.51251,     0.51351,     0.51451,     0.51552,     0.51652,     0.51752,     0.51852,     0.51952,     0.52052,     0.52152,     0.52252,     0.52352,     0.52452,     0.52553,     0.52653,     0.52753,\n",
       "           0.52853,     0.52953,     0.53053,     0.53153,     0.53253,     0.53353,     0.53453,     0.53554,     0.53654,     0.53754,     0.53854,     0.53954,     0.54054,     0.54154,     0.54254,     0.54354,     0.54454,     0.54555,     0.54655,     0.54755,     0.54855,     0.54955,     0.55055,     0.55155,\n",
       "           0.55255,     0.55355,     0.55455,     0.55556,     0.55656,     0.55756,     0.55856,     0.55956,     0.56056,     0.56156,     0.56256,     0.56356,     0.56456,     0.56557,     0.56657,     0.56757,     0.56857,     0.56957,     0.57057,     0.57157,     0.57257,     0.57357,     0.57457,     0.57558,\n",
       "           0.57658,     0.57758,     0.57858,     0.57958,     0.58058,     0.58158,     0.58258,     0.58358,     0.58458,     0.58559,     0.58659,     0.58759,     0.58859,     0.58959,     0.59059,     0.59159,     0.59259,     0.59359,     0.59459,      0.5956,      0.5966,      0.5976,      0.5986,      0.5996,\n",
       "            0.6006,      0.6016,      0.6026,      0.6036,      0.6046,     0.60561,     0.60661,     0.60761,     0.60861,     0.60961,     0.61061,     0.61161,     0.61261,     0.61361,     0.61461,     0.61562,     0.61662,     0.61762,     0.61862,     0.61962,     0.62062,     0.62162,     0.62262,     0.62362,\n",
       "           0.62462,     0.62563,     0.62663,     0.62763,     0.62863,     0.62963,     0.63063,     0.63163,     0.63263,     0.63363,     0.63463,     0.63564,     0.63664,     0.63764,     0.63864,     0.63964,     0.64064,     0.64164,     0.64264,     0.64364,     0.64464,     0.64565,     0.64665,     0.64765,\n",
       "           0.64865,     0.64965,     0.65065,     0.65165,     0.65265,     0.65365,     0.65465,     0.65566,     0.65666,     0.65766,     0.65866,     0.65966,     0.66066,     0.66166,     0.66266,     0.66366,     0.66466,     0.66567,     0.66667,     0.66767,     0.66867,     0.66967,     0.67067,     0.67167,\n",
       "           0.67267,     0.67367,     0.67467,     0.67568,     0.67668,     0.67768,     0.67868,     0.67968,     0.68068,     0.68168,     0.68268,     0.68368,     0.68468,     0.68569,     0.68669,     0.68769,     0.68869,     0.68969,     0.69069,     0.69169,     0.69269,     0.69369,     0.69469,      0.6957,\n",
       "            0.6967,      0.6977,      0.6987,      0.6997,      0.7007,      0.7017,      0.7027,      0.7037,      0.7047,     0.70571,     0.70671,     0.70771,     0.70871,     0.70971,     0.71071,     0.71171,     0.71271,     0.71371,     0.71471,     0.71572,     0.71672,     0.71772,     0.71872,     0.71972,\n",
       "           0.72072,     0.72172,     0.72272,     0.72372,     0.72472,     0.72573,     0.72673,     0.72773,     0.72873,     0.72973,     0.73073,     0.73173,     0.73273,     0.73373,     0.73473,     0.73574,     0.73674,     0.73774,     0.73874,     0.73974,     0.74074,     0.74174,     0.74274,     0.74374,\n",
       "           0.74474,     0.74575,     0.74675,     0.74775,     0.74875,     0.74975,     0.75075,     0.75175,     0.75275,     0.75375,     0.75475,     0.75576,     0.75676,     0.75776,     0.75876,     0.75976,     0.76076,     0.76176,     0.76276,     0.76376,     0.76476,     0.76577,     0.76677,     0.76777,\n",
       "           0.76877,     0.76977,     0.77077,     0.77177,     0.77277,     0.77377,     0.77477,     0.77578,     0.77678,     0.77778,     0.77878,     0.77978,     0.78078,     0.78178,     0.78278,     0.78378,     0.78478,     0.78579,     0.78679,     0.78779,     0.78879,     0.78979,     0.79079,     0.79179,\n",
       "           0.79279,     0.79379,     0.79479,      0.7958,      0.7968,      0.7978,      0.7988,      0.7998,      0.8008,      0.8018,      0.8028,      0.8038,      0.8048,     0.80581,     0.80681,     0.80781,     0.80881,     0.80981,     0.81081,     0.81181,     0.81281,     0.81381,     0.81481,     0.81582,\n",
       "           0.81682,     0.81782,     0.81882,     0.81982,     0.82082,     0.82182,     0.82282,     0.82382,     0.82482,     0.82583,     0.82683,     0.82783,     0.82883,     0.82983,     0.83083,     0.83183,     0.83283,     0.83383,     0.83483,     0.83584,     0.83684,     0.83784,     0.83884,     0.83984,\n",
       "           0.84084,     0.84184,     0.84284,     0.84384,     0.84484,     0.84585,     0.84685,     0.84785,     0.84885,     0.84985,     0.85085,     0.85185,     0.85285,     0.85385,     0.85485,     0.85586,     0.85686,     0.85786,     0.85886,     0.85986,     0.86086,     0.86186,     0.86286,     0.86386,\n",
       "           0.86486,     0.86587,     0.86687,     0.86787,     0.86887,     0.86987,     0.87087,     0.87187,     0.87287,     0.87387,     0.87487,     0.87588,     0.87688,     0.87788,     0.87888,     0.87988,     0.88088,     0.88188,     0.88288,     0.88388,     0.88488,     0.88589,     0.88689,     0.88789,\n",
       "           0.88889,     0.88989,     0.89089,     0.89189,     0.89289,     0.89389,     0.89489,      0.8959,      0.8969,      0.8979,      0.8989,      0.8999,      0.9009,      0.9019,      0.9029,      0.9039,      0.9049,     0.90591,     0.90691,     0.90791,     0.90891,     0.90991,     0.91091,     0.91191,\n",
       "           0.91291,     0.91391,     0.91491,     0.91592,     0.91692,     0.91792,     0.91892,     0.91992,     0.92092,     0.92192,     0.92292,     0.92392,     0.92492,     0.92593,     0.92693,     0.92793,     0.92893,     0.92993,     0.93093,     0.93193,     0.93293,     0.93393,     0.93493,     0.93594,\n",
       "           0.93694,     0.93794,     0.93894,     0.93994,     0.94094,     0.94194,     0.94294,     0.94394,     0.94494,     0.94595,     0.94695,     0.94795,     0.94895,     0.94995,     0.95095,     0.95195,     0.95295,     0.95395,     0.95495,     0.95596,     0.95696,     0.95796,     0.95896,     0.95996,\n",
       "           0.96096,     0.96196,     0.96296,     0.96396,     0.96496,     0.96597,     0.96697,     0.96797,     0.96897,     0.96997,     0.97097,     0.97197,     0.97297,     0.97397,     0.97497,     0.97598,     0.97698,     0.97798,     0.97898,     0.97998,     0.98098,     0.98198,     0.98298,     0.98398,\n",
       "           0.98498,     0.98599,     0.98699,     0.98799,     0.98899,     0.98999,     0.99099,     0.99199,     0.99299,     0.99399,     0.99499,       0.996,       0.997,       0.998,       0.999,           1]), array([[    0.88889,     0.88889,     0.88889,     0.88889,     0.88889,     0.88889,     0.88889,     0.87037,     0.87037,     0.87037,     0.85185,     0.83333,     0.81481,     0.81481,     0.81481,     0.81481,     0.81481,     0.81481,     0.81481,     0.81481,     0.81481,     0.81481,     0.81481,\n",
       "            0.81481,     0.81481,      0.7963,      0.7963,      0.7963,      0.7963,      0.7963,     0.77778,     0.77752,     0.75926,     0.75926,     0.75926,     0.75926,     0.75926,     0.74074,     0.74017,      0.7037,      0.7037,      0.7037,      0.7037,      0.7037,      0.7037,      0.7037,\n",
       "             0.7037,      0.7037,      0.7037,      0.7037,      0.7037,      0.7037,      0.7037,      0.7037,      0.7037,      0.7037,      0.7037,      0.7037,      0.7037,      0.7037,      0.7037,      0.7037,      0.7037,      0.7035,     0.68831,     0.68519,     0.68519,     0.66667,     0.66667,\n",
       "            0.64815,     0.64815,     0.64815,     0.64815,     0.64815,     0.64815,     0.64815,     0.64815,     0.64815,     0.64815,     0.64815,     0.64815,     0.64815,     0.64815,     0.64815,     0.64815,     0.64815,     0.64815,     0.64815,     0.64815,     0.64815,     0.64815,     0.64815,\n",
       "            0.64815,     0.64815,     0.64815,     0.64815,     0.64691,     0.64374,     0.64058,     0.63742,     0.63425,     0.63109,     0.62963,     0.62963,     0.62963,     0.62963,     0.61111,     0.61111,     0.61111,     0.61111,     0.60485,     0.59259,     0.59259,     0.59259,     0.59259,\n",
       "            0.59259,     0.59259,     0.59259,     0.59259,     0.59259,     0.59259,     0.59259,     0.59259,     0.59259,     0.59259,     0.59259,     0.59259,     0.59259,     0.59259,     0.59259,     0.59259,     0.59259,     0.58777,     0.57884,     0.57407,     0.57407,     0.57407,     0.57407,\n",
       "            0.57373,     0.57198,     0.57024,     0.56849,     0.56675,       0.565,     0.56325,     0.56151,     0.55976,     0.55802,     0.55627,     0.55556,     0.55556,     0.55556,     0.55556,     0.55556,     0.55556,     0.55556,     0.55556,     0.55556,     0.55556,     0.55556,     0.55556,\n",
       "            0.55556,     0.55556,     0.55556,     0.55556,     0.55556,     0.55556,     0.55556,     0.55556,     0.55556,     0.55556,     0.55556,     0.55556,     0.55556,     0.55556,     0.55556,     0.55556,     0.55556,     0.55542,     0.55372,     0.55201,      0.5503,      0.5486,     0.54689,\n",
       "            0.54519,     0.54348,     0.54177,     0.54007,     0.53836,     0.53704,     0.53704,     0.53704,     0.53704,     0.53704,     0.53704,     0.53704,     0.53704,     0.53704,     0.53704,     0.53704,     0.53704,     0.53704,     0.53704,     0.53704,     0.53704,     0.53704,     0.53704,\n",
       "            0.53704,     0.53704,     0.53704,     0.53704,     0.53704,     0.53704,     0.53704,     0.53704,     0.53704,     0.53704,     0.53704,     0.53704,     0.53704,     0.53704,     0.53704,     0.53704,     0.53704,     0.53704,     0.53704,     0.53704,     0.53704,     0.53704,     0.53704,\n",
       "            0.53704,     0.53704,     0.53704,     0.53704,     0.53704,     0.53704,     0.53704,     0.53704,     0.53704,     0.53704,     0.53683,     0.53523,     0.53364,     0.53204,     0.53044,     0.52884,     0.52724,     0.52564,     0.52404,     0.52245,     0.52085,     0.51925,     0.51852,\n",
       "                0.5,         0.5,         0.5,         0.5,         0.5,         0.5,         0.5,         0.5,         0.5,         0.5,         0.5,         0.5,         0.5,         0.5,         0.5,         0.5,         0.5,         0.5,         0.5,         0.5,         0.5,         0.5,     0.49656,\n",
       "            0.49257,     0.48857,     0.48457,     0.48148,     0.48148,     0.48148,     0.48148,     0.48148,     0.48148,     0.48148,     0.48148,     0.48148,     0.48148,     0.48148,     0.48148,     0.48148,     0.48148,     0.48148,     0.48035,      0.4695,     0.46296,     0.46296,     0.46034,\n",
       "            0.45752,     0.45471,      0.4519,     0.44909,     0.44628,     0.44444,     0.44444,     0.44444,     0.44444,     0.44444,     0.44444,     0.44444,     0.44444,     0.44444,     0.44444,     0.44444,     0.44444,     0.44444,     0.44444,     0.44444,     0.44444,     0.44444,     0.44444,\n",
       "            0.44444,     0.44444,     0.44444,     0.44444,     0.42593,     0.42593,     0.42593,     0.42593,     0.42593,     0.42593,     0.42593,     0.42593,     0.42593,     0.42593,     0.42593,     0.42593,     0.42593,     0.42593,     0.42593,     0.42593,     0.42593,     0.42593,     0.42593,\n",
       "            0.42593,     0.42593,     0.42593,     0.42593,     0.42593,     0.42593,     0.42593,     0.42593,     0.42593,     0.42593,     0.42593,     0.42593,     0.42557,     0.42503,      0.4245,     0.42397,     0.42343,      0.4229,     0.42236,     0.42183,     0.42129,     0.42076,     0.42022,\n",
       "            0.41969,     0.41915,     0.41862,     0.41808,     0.41755,     0.41701,     0.41648,     0.41594,     0.41541,     0.41488,     0.41434,     0.41381,     0.41327,     0.41274,      0.4122,     0.41167,     0.41113,      0.4106,     0.41006,     0.40953,     0.40899,     0.40846,     0.40792,\n",
       "            0.40736,     0.40595,     0.40455,     0.40314,     0.40174,     0.40033,     0.39892,     0.39752,     0.39611,     0.39471,      0.3933,     0.39189,     0.39049,     0.38908,     0.38889,     0.38889,     0.38889,     0.38889,     0.38453,     0.37037,     0.37037,     0.37037,     0.37037,\n",
       "            0.37037,     0.37037,     0.37037,     0.37037,     0.37037,     0.37009,     0.36971,     0.36932,     0.36894,     0.36855,     0.36817,     0.36778,      0.3674,     0.36701,     0.36663,     0.36624,     0.36585,     0.36547,     0.36508,      0.3647,     0.36431,     0.36393,     0.36354,\n",
       "            0.36316,     0.36277,     0.36239,       0.362,     0.36161,     0.36123,     0.36084,     0.36046,     0.36007,     0.35969,      0.3593,     0.35892,     0.35853,     0.35815,     0.35776,     0.35737,     0.35699,      0.3566,     0.35622,     0.35583,     0.35545,     0.35506,     0.35468,\n",
       "            0.35429,     0.35391,     0.35352,     0.35314,     0.35275,     0.35236,     0.35198,     0.34549,       0.336,     0.33333,     0.33333,     0.33333,     0.33333,     0.33333,     0.33333,     0.33333,     0.33333,     0.33333,     0.33333,     0.31506,     0.31481,     0.31481,     0.31481,\n",
       "            0.31481,     0.31481,     0.31481,     0.31481,     0.31481,     0.31481,     0.31481,     0.31481,     0.31481,     0.31481,     0.31481,     0.31481,     0.31302,     0.30828,     0.30353,     0.29878,     0.29569,     0.29443,     0.29316,      0.2919,     0.29063,     0.28937,      0.2881,\n",
       "            0.28684,     0.28557,     0.28431,     0.28304,     0.28177,     0.28051,     0.27924,     0.27798,     0.27458,     0.27079,     0.26699,     0.26319,      0.2594,     0.25011,     0.24062,     0.23113,     0.22219,     0.22165,      0.2211,     0.22056,     0.22002,     0.21948,     0.21893,\n",
       "            0.21839,     0.21785,     0.21731,     0.21677,     0.21622,     0.21568,     0.21514,      0.2146,     0.21405,     0.21351,     0.21297,     0.21243,     0.21188,     0.21134,      0.2108,     0.21026,     0.20972,     0.20917,     0.20863,     0.20809,     0.20755,       0.207,     0.20646,\n",
       "            0.20592,     0.20538,     0.20483,     0.20429,     0.20375,     0.20054,     0.19709,     0.19364,     0.19019,     0.18674,     0.18468,     0.18375,     0.18282,      0.1819,     0.18097,     0.18005,     0.17912,     0.17819,     0.17727,     0.17634,     0.17542,     0.17449,     0.17356,\n",
       "            0.17264,     0.17171,     0.17079,     0.16986,     0.16893,     0.16801,     0.16708,     0.16667,     0.16667,     0.16667,     0.16667,     0.16667,     0.16667,     0.16667,     0.16667,     0.16667,     0.16667,     0.16667,     0.16667,     0.16667,     0.16667,     0.16667,     0.16667,\n",
       "            0.16667,     0.16667,     0.16667,     0.16667,     0.16667,     0.16667,     0.16667,     0.16667,     0.16667,     0.16667,     0.16667,     0.16667,     0.16667,     0.16667,     0.16667,     0.16667,     0.16667,     0.16667,     0.16667,     0.16667,     0.16667,     0.16667,     0.16667,\n",
       "            0.16667,     0.16667,     0.16667,     0.16667,     0.16667,     0.16667,     0.16667,     0.16667,     0.16667,     0.16667,     0.16667,     0.16667,     0.16667,     0.16667,     0.16667,     0.16667,     0.16667,     0.16667,     0.16667,     0.16667,     0.16667,     0.16667,     0.16667,\n",
       "            0.16667,     0.16667,     0.16667,     0.16667,     0.16667,     0.16667,     0.16667,     0.16667,     0.16667,     0.16667,     0.16667,     0.16667,     0.16667,     0.16667,     0.16643,     0.16592,     0.16541,     0.16489,     0.16438,     0.16387,     0.16336,     0.16284,     0.16233,\n",
       "            0.16182,      0.1613,     0.16079,     0.16028,     0.15976,     0.15925,     0.15874,     0.15822,     0.15771,      0.1572,     0.15669,     0.15617,     0.15566,     0.15515,     0.15463,     0.15412,     0.15361,     0.15309,     0.15258,     0.15207,     0.15156,     0.15104,     0.15053,\n",
       "            0.15002,      0.1495,     0.14899,     0.14848,      0.1476,     0.14609,     0.14457,     0.14305,     0.14153,     0.14001,     0.13849,     0.13697,     0.13546,     0.13394,     0.13242,      0.1309,     0.12955,     0.12906,     0.12858,     0.12809,      0.1276,     0.12712,     0.12663,\n",
       "            0.12614,     0.12566,     0.12517,     0.12468,      0.1242,     0.12371,     0.12322,     0.12274,     0.12225,     0.12176,     0.12128,     0.12079,      0.1203,     0.11982,     0.11933,     0.11884,     0.11836,     0.11787,     0.11738,      0.1169,     0.11641,     0.11592,     0.11544,\n",
       "            0.11495,     0.11446,     0.11398,     0.11349,       0.113,     0.11251,     0.11203,     0.11154,     0.11097,     0.10974,     0.10852,      0.1073,     0.10607,     0.10485,     0.10362,      0.1024,     0.10117,    0.099948,    0.098723,    0.097498,    0.096274,    0.095049,    0.093824,\n",
       "             0.0926,    0.092083,     0.09157,    0.091057,    0.090543,     0.09003,    0.089517,    0.089004,    0.088491,    0.087978,    0.087465,    0.086952,    0.086439,    0.085926,    0.085413,      0.0849,    0.084387,    0.083874,    0.083361,    0.082848,    0.082335,    0.081822,    0.081309,\n",
       "           0.080796,    0.080283,     0.07977,    0.079257,    0.078744,    0.078231,    0.077718,    0.077205,    0.076692,    0.076179,    0.075666,    0.075153,     0.07464,    0.074127,    0.073746,    0.073381,    0.073016,    0.072651,    0.072286,    0.071921,    0.071556,    0.071191,    0.070826,\n",
       "           0.070461,    0.070096,    0.069731,    0.069366,    0.069001,    0.068636,    0.068271,    0.067906,    0.067541,    0.067176,    0.066811,    0.066446,    0.066081,    0.065716,    0.065351,    0.064986,    0.064621,    0.064255,     0.06389,    0.063525,     0.06316,    0.062795,     0.06243,\n",
       "           0.062065,      0.0617,    0.061335,     0.06097,    0.060605,     0.06024,    0.059875,     0.05951,    0.059145,     0.05878,    0.058415,     0.05805,    0.057685,     0.05732,    0.056955,     0.05659,    0.056225,     0.05586,    0.055103,    0.052391,    0.049679,    0.046968,    0.044256,\n",
       "           0.041544,    0.038832,    0.035968,    0.032804,    0.029641,    0.026477,    0.023313,     0.02015,           0,           0,           0,           0,           0,           0,           0,           0,           0,           0,           0,           0,           0,           0,           0,\n",
       "                  0,           0,           0,           0,           0,           0,           0,           0,           0,           0,           0,           0,           0,           0,           0,           0,           0,           0,           0,           0,           0,           0,           0,\n",
       "                  0,           0,           0,           0,           0,           0,           0,           0,           0,           0,           0,           0,           0,           0,           0,           0,           0,           0,           0,           0,           0,           0,           0,\n",
       "                  0,           0,           0,           0,           0,           0,           0,           0,           0,           0,           0,           0,           0,           0,           0,           0,           0,           0,           0,           0,           0,           0,           0,\n",
       "                  0,           0,           0,           0,           0,           0,           0,           0,           0,           0,           0,           0,           0,           0,           0,           0,           0,           0,           0,           0,           0,           0,           0,\n",
       "                  0,           0,           0,           0,           0,           0,           0,           0,           0,           0,           0,           0,           0,           0,           0,           0,           0,           0,           0,           0,           0,           0,           0,\n",
       "                  0,           0,           0,           0,           0,           0,           0,           0,           0,           0,           0]]), 'Confidence', 'Recall']]\n",
       "fitness: np.float64(0.6723843758752851)\n",
       "keys: ['metrics/precision(B)', 'metrics/recall(B)', 'metrics/mAP50(B)', 'metrics/mAP50-95(B)', 'metrics/precision(M)', 'metrics/recall(M)', 'metrics/mAP50(M)', 'metrics/mAP50-95(M)']\n",
       "maps: array([    0.62308,     0.62308])\n",
       "names: {0: 'road', 1: 'background'}\n",
       "plot: True\n",
       "results_dict: {'metrics/precision(B)': np.float64(0.6636793265527263), 'metrics/recall(B)': np.float64(0.46296296296296297), 'metrics/mAP50(B)': np.float64(0.5713282909099074), 'metrics/mAP50-95(B)': np.float64(0.3433588016357342), 'metrics/precision(M)': np.float64(0.7107358026475674), 'metrics/recall(M)': np.float64(0.42592592592592593), 'metrics/mAP50(M)': np.float64(0.5447853324427485), 'metrics/mAP50-95(M)': np.float64(0.27972232451984297), 'fitness': np.float64(0.6723843758752851)}\n",
       "save_dir: PosixPath('/home/user/Documents/RSI/runs/segment/train2')\n",
       "seg: ultralytics.utils.metrics.Metric object\n",
       "speed: {'preprocess': 0.20428137345747516, 'inference': 1.7540888352827593, 'loss': 0.0004334883256392045, 'postprocess': 0.5378072912042791}\n",
       "task: 'segment'"
      ]
     },
     "execution_count": 8,
     "metadata": {},
     "output_type": "execute_result"
    }
   ],
   "source": [
    "from ultralytics import YOLO\n",
    "\n",
    "model = YOLO('yolov8n-seg.pt')  # Segmentation model\n",
    "model.train(data='/home/user/Documents/LRS/data.yaml', epochs=50, imgsz=640, batch=16)"
   ]
  },
  {
   "cell_type": "code",
   "execution_count": null,
   "metadata": {},
   "outputs": [
    {
     "name": "stdout",
     "output_type": "stream",
     "text": [
      "\n",
      "image 1/1 /home/user/Documents/LRS/mask/test/images/tile_12_jpg.rf.b0d051c082e97538bdd45a416fa6d93b.jpg: 640x640 6 roads, 3.6ms\n",
      "Speed: 1.2ms preprocess, 3.6ms inference, 268.1ms postprocess per image at shape (1, 3, 640, 640)\n"
     ]
    },
    {
     "name": "stderr",
     "output_type": "stream",
     "text": [
      "qt.qpa.plugin: Could not find the Qt platform plugin \"wayland\" in \"/home/user/Documents/LRS/.venv/lib/python3.12/site-packages/cv2/qt/plugins\"\n"
     ]
    }
   ],
   "source": [
    "from ultralytics import YOLO\n",
    "import cv2\n",
    "\n",
    "# Load the trained model\n",
    "model = YOLO('/home/user/Documents/RSI/runs/segment/train2/weights/best.pt')\n",
    "\n",
    "# Predict on a single image\n",
    "image_path = \"/home/user/Documents/LRS/mask/test/images/tile_12_jpg.rf.b0d051c082e97538bdd45a416fa6d93b.jpg\"\n",
    "results = model.predict(image_path, imgsz=640, conf=0.5)\n",
    "\n",
    "# Visualize results\n",
    "for result in results:\n",
    "    plotted = result.plot()  # Draw masks/boxes on the image\n",
    "    cv2.imshow(\"Prediction\", plotted)\n",
    "    cv2.waitKey(0)\n",
    "    cv2.destroyAllWindows()"
   ]
  },
  {
   "cell_type": "code",
   "execution_count": null,
   "metadata": {},
   "outputs": [],
   "source": []
  }
 ],
 "metadata": {
  "kernelspec": {
   "display_name": ".venv",
   "language": "python",
   "name": "python3"
  },
  "language_info": {
   "codemirror_mode": {
    "name": "ipython",
    "version": 3
   },
   "file_extension": ".py",
   "mimetype": "text/x-python",
   "name": "python",
   "nbconvert_exporter": "python",
   "pygments_lexer": "ipython3",
   "version": "3.10.12"
  }
 },
 "nbformat": 4,
 "nbformat_minor": 2
}
