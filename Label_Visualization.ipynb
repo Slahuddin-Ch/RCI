{
 "cells": [
  {
   "cell_type": "markdown",
   "metadata": {},
   "source": [
    "## Labeling \n",
    "#### `Description:`\n",
    "A $mask$ $image$ is a grayscale or binary image used to selectively hide or show parts of another image. Black pixels (value 0) typically indicate hidden/masked areas, while white pixels (value 1) show visible areas. Masks are commonly used in image processing for:\n",
    "\n",
    "- Segmentation\n",
    "- Background removal\n",
    "- Blending multiple images\n",
    "- Applying effects to specific regions\n",
    "\n",
    "The example shown is a binary mask with all black pixels, indicating complete masking of the underlying content.  \n",
    "This code processes and visualizes semantic segmentation masks:\n",
    "\n",
    "1. Loads RGB image and mask image\n",
    "2. Normalizes mask values to 0-1 range\n",
    "3. Creates colored mask overlay (red channel)\n",
    "4. Blends original and mask images with weights 0.7 and 0.3\n",
    "5. Displays three images side by side:\n",
    "   - Original RGB\n",
    "   - Grayscale mask\n",
    "   - Overlay (RGB + mask)\n",
    "\n",
    "Key operations:\n",
    "```python\n",
    "# Normalize mask\n",
    "mask_image = mask_image / mask_image.max()\n",
    "\n",
    "# Create colored overlay\n",
    "color_mask = np.zeros_like(rgb_image)\n",
    "color_mask[..., 0] = mask_image * 255\n",
    "\n",
    "# Blend images\n",
    "overlay_image = cv2.addWeighted(rgb_image, 0.7, color_mask, 0.3, 0)\n",
    "```\n",
    "\n",
    "This visualization helps validate semantic segmentation results by showing labeled regions overlaid on the original image."
   ]
  },
  {
   "cell_type": "code",
   "execution_count": 2,
   "metadata": {},
   "outputs": [],
   "source": [
    "import cv2\n",
    "import matplotlib.pyplot as plt\n",
    "import numpy as np"
   ]
  },
  {
   "cell_type": "code",
   "execution_count": 10,
   "metadata": {},
   "outputs": [],
   "source": [
    "RGB_IMG_PATH = \"../Road_mask/train/tile_2_jpg.rf.4f0f010491d49db5aeba9a48a52a364a.jpg\"\n",
    "MASK_PATH =   \"../Road_mask/train/tile_2_jpg.rf.4f0f010491d49db5aeba9a48a52a364a_mask.png\""
   ]
  },
  {
   "cell_type": "code",
   "execution_count": null,
   "metadata": {},
   "outputs": [],
   "source": [
    "\n",
    "rgb_image = cv2.imread(RGB_IMG_PATH)\n",
    "rgb_image = cv2.cvtColor(rgb_image, cv2.COLOR_BGR2RGB) \n",
    "\n",
    "mask_image = cv2.imread(MASK_PATH, cv2.IMREAD_GRAYSCALE)\n",
    "mask_image = mask_image / mask_image.max() \n",
    "color_mask = np.zeros_like(rgb_image)\n",
    "color_mask[..., 0] = mask_image * 255 \n",
    "\n",
    "overlay_image = cv2.addWeighted(rgb_image, 0.7, color_mask, 0.3, 0)\n",
    "\n",
    "\n",
    "# Draw a frame around each image\n",
    "frame_thickness = 2  # Thickness of the frame\n",
    "green_color = (0, 0, 0)  \n",
    "\n",
    "# Define a function to add a frame\n",
    "def add_frame(image):\n",
    "    height, width = image.shape[:2]\n",
    "    # Draw rectangle around the image\n",
    "    cv2.rectangle(image, (0, 0), (width-1, height-1), green_color, frame_thickness)\n",
    "    return image\n",
    "\n",
    "# Add frames to the images\n",
    "rgb_image_with_frame = add_frame(rgb_image.copy())\n",
    "mask_image_with_frame = add_frame(mask_image.copy())\n",
    "overlay_image_with_frame = add_frame(overlay_image.copy())\n",
    "\n",
    "\n",
    "# Plot images with frames\n",
    "plt.figure(figsize=(15, 10))\n",
    "\n",
    "plt.subplot(1, 3, 1)\n",
    "plt.title('RGB Image')\n",
    "plt.imshow(rgb_image_with_frame)\n",
    "plt.axis('off')\n",
    "\n",
    "plt.subplot(1, 3, 2)\n",
    "plt.title('Overlay Image')\n",
    "plt.imshow(overlay_image_with_frame)\n",
    "plt.axis('off')\n",
    "\n",
    "plt.subplot(1, 3, 3)\n",
    "plt.title('Mask Image')\n",
    "plt.imshow(mask_image_with_frame, cmap='gray')\n",
    "plt.axis('off')\n",
    "\n",
    "\n",
    "plt.tight_layout()\n",
    "plt.show()\n"
   ]
  },
  {
   "cell_type": "code",
   "execution_count": null,
   "metadata": {},
   "outputs": [],
   "source": []
  }
 ],
 "metadata": {
  "kernelspec": {
   "display_name": ".venv",
   "language": "python",
   "name": "python3"
  },
  "language_info": {
   "codemirror_mode": {
    "name": "ipython",
    "version": 3
   },
   "file_extension": ".py",
   "mimetype": "text/x-python",
   "name": "python",
   "nbconvert_exporter": "python",
   "pygments_lexer": "ipython3",
   "version": "3.10.12"
  }
 },
 "nbformat": 4,
 "nbformat_minor": 2
}
