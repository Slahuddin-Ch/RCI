{
 "cells": [
  {
   "cell_type": "markdown",
   "metadata": {},
   "source": [
    "---\n",
    "#   **LRS**\n",
    "---"
   ]
  },
  {
   "cell_type": "markdown",
   "metadata": {},
   "source": [
    "## **Import Libraries**"
   ]
  },
  {
   "cell_type": "code",
   "execution_count": 3,
   "metadata": {},
   "outputs": [],
   "source": [
    "import os\n",
    "import cv2\n",
    "import json\n",
    "import math\n",
    "import numpy as np\n",
    "import matplotlib.pyplot as plt\n",
    "from PIL import Image\n",
    "from pathlib import Path\n",
    "from PIL.TiffTags import TAGS\n",
    "import pandas as pd"
   ]
  },
  {
   "cell_type": "markdown",
   "metadata": {},
   "source": [
    "## **Define Paths**"
   ]
  },
  {
   "cell_type": "code",
   "execution_count": 4,
   "metadata": {},
   "outputs": [],
   "source": [
    "main_image_path = \"./dataset/20241014aC0822230w275445n.tif\"\n",
    "mask_path = \"./mask-semantic/train/tile_9_jpg.rf.d7787040bfb812b5c96c58b53fef6be3_mask.png\""
   ]
  },
  {
   "cell_type": "markdown",
   "metadata": {},
   "source": [
    "## **Check the MetaData of Main Image**"
   ]
  },
  {
   "cell_type": "code",
   "execution_count": 5,
   "metadata": {},
   "outputs": [
    {
     "name": "stdout",
     "output_type": "stream",
     "text": [
      "Tag 256 (ImageWidth): 4707\n",
      "Tag 257 (ImageLength): 4707\n",
      "Tag 258 (BitsPerSample): (8, 8, 8)\n",
      "Tag 259 (Compression): 7\n",
      "Tag 322 (TileWidth): 512\n",
      "Tag 323 (TileLength): 512\n",
      "Tag 262 (PhotometricInterpretation): 6\n",
      "Tag 324 (TileOffsets): (3680375, 3777342, 3874539, 3974094, 4067887, 4163194, 4260106, 4346861, 4421322, 4504248, 4543545, 4636357, 4744646, 4839237, 4937669, 5033638, 5131866, 5223846, 5323384, 5421219, 5467834, 5567045, 5666985, 5778154, 5873792, 5969234, 6070526, 6170798, 6269636, 6360653, 6412534, 6504994, 6588720, 6679546, 6774604, 6868877, 6961875, 7057827, 7149566, 7241186, 7287588, 7383497, 7479058, 7562464, 7662875, 7765199, 7865158, 7960415, 8059860, 8157478, 8204487, 8304118, 8402523, 8489859, 8592679, 8692619, 8792532, 8893842, 8980820, 9076774, 9126317, 9230001, 9336271, 9432219, 9532308, 9632017, 9733621, 9831860, 9927145, 10020012, 10071258, 10181498, 10289485, 10400410, 10506585, 10611864, 10710707, 10811044, 10911466, 11007177, 11054400, 11154126, 11258533, 11369547, 11470659, 11569495, 11666397, 11765627, 11862154, 11958029, 12008394, 12055175, 12105497, 12156111, 12205785, 12253396, 12305132, 12354232, 12403430, 12451310)\n",
      "Tag 325 (TileByteCounts): (96899, 97123, 99487, 93725, 95234, 96835, 86687, 74393, 82858, 39156, 92744, 108221, 94518, 98364, 95901, 98160, 91912, 99470, 97767, 46474, 99143, 99872, 111101, 95570, 95374, 101224, 100204, 98770, 90949, 51740, 92392, 83658, 90758, 94990, 94205, 92930, 95884, 91671, 91552, 46261, 95841, 95493, 83338, 100343, 102256, 99891, 95189, 99377, 97550, 46868, 99563, 98337, 87268, 102752, 99872, 99845, 101242, 86910, 95886, 49402, 103616, 106198, 95880, 100021, 99641, 101536, 98171, 95217, 92799, 51105, 110172, 107908, 110829, 106073, 105200, 98768, 100228, 100344, 95637, 47082, 99641, 104306, 110946, 101038, 98768, 96787, 99125, 96459, 95807, 50224, 46697, 50249, 50541, 49601, 47538, 51663, 49027, 49125, 47807, 17125)\n",
      "Tag 33922 (ModelTiepointTag): (0.0, 0.0, 0.0, -82.3750986509454, 27.9125986509454, 0.0)\n",
      "Tag 33550 (ModelPixelScaleTag): (2.6981091990672363e-06, 2.698109199065727e-06, 0.0)\n",
      "Tag 530 (YCbCrSubSampling): (2, 2)\n",
      "Tag 339 (SampleFormat): (1, 1, 1)\n",
      "Tag 532 (ReferenceBlackWhite): (0.0, 255.0, 128.0, 255.0, 128.0, 255.0)\n",
      "Tag 277 (SamplesPerPixel): 3\n",
      "Tag 280 (MinSampleValue): (1, 1, 1)\n",
      "Tag 281 (MaxSampleValue): (255, 255, 255)\n",
      "Tag 347 (JPEGTables): b'\\xff\\xd8\\xff\\xdb\\x00C\\x00\\x03\\x02\\x02\\x03\\x02\\x02\\x03\\x03\\x03\\x03\\x04\\x03\\x03\\x04\\x05\\x08\\x05\\x05\\x04\\x04\\x05\\n\\x07\\x07\\x06\\x08\\x0c\\n\\x0c\\x0c\\x0b\\n\\x0b\\x0b\\r\\x0e\\x12\\x10\\r\\x0e\\x11\\x0e\\x0b\\x0b\\x10\\x16\\x10\\x11\\x13\\x14\\x15\\x15\\x15\\x0c\\x0f\\x17\\x18\\x16\\x14\\x18\\x12\\x14\\x15\\x14\\xff\\xdb\\x00C\\x01\\x03\\x04\\x04\\x05\\x04\\x05\\t\\x05\\x05\\t\\x14\\r\\x0b\\r\\x14\\x14\\x14\\x14\\x14\\x14\\x14\\x14\\x14\\x14\\x14\\x14\\x14\\x14\\x14\\x14\\x14\\x14\\x14\\x14\\x14\\x14\\x14\\x14\\x14\\x14\\x14\\x14\\x14\\x14\\x14\\x14\\x14\\x14\\x14\\x14\\x14\\x14\\x14\\x14\\x14\\x14\\x14\\x14\\x14\\x14\\x14\\x14\\x14\\x14\\xff\\xd9'\n",
      "Tag 284 (PlanarConfiguration): 1\n",
      "Tag 34735 (GeoKeyDirectoryTag): (1, 1, 0, 7, 1024, 0, 1, 2, 1025, 0, 1, 2, 2048, 0, 1, 4326, 2049, 34737, 7, 0, 2054, 0, 1, 9102, 2057, 34736, 1, 1, 2059, 34736, 1, 0)\n",
      "Tag 34736 (GeoDoubleParamsTag): (298.257223563, 6378137.0)\n",
      "Tag 34737 (GeoAsciiParamsTag): WGS 84|\n",
      "Tag 306 (DateTime): 2024:10:14 23:59:59\n"
     ]
    }
   ],
   "source": [
    "def get_tiff_metadata(image_path):\n",
    "    image = Image.open(image_path)\n",
    "\n",
    "    metadata = {}\n",
    "    for tag, value in image.tag_v2.items():\n",
    "        tag_name = TAGS.get(tag, tag)\n",
    "        metadata[tag] = (tag_name, value)\n",
    "    return metadata\n",
    "\n",
    "image_path = main_image_path\n",
    "metadata = get_tiff_metadata(image_path)\n",
    "for tag, (tag_name, value) in metadata.items():\n",
    "    print(f\"Tag {tag} ({tag_name}): {value}\")"
   ]
  },
  {
   "cell_type": "markdown",
   "metadata": {},
   "source": [
    "## **Extract GSD from Main Image**\n",
    "\n",
    "### **Ground Sampling Distance (GSD) Calculation:**\n",
    "- Purpose: Converts pixel measurements to real-world distances\n",
    "- Formula: \n",
    "```\n",
    "meters_per_degree_lat = 111319.9  # Earth's circumference / 360°\n",
    "meters_per_degree_lon = meters_per_degree_lat * cos(latitude)\n",
    "gsd_x = pixel_scale_x * meters_per_degree_lon\n",
    "gsd_y = pixel_scale_y * meters_per_degree_lat\n",
    "```"
   ]
  },
  {
   "cell_type": "code",
   "execution_count": 6,
   "metadata": {},
   "outputs": [],
   "source": [
    "main_image_path = main_image_path\n",
    "with Image.open(main_image_path) as img:\n",
    "    metadata = img.tag_v2\n",
    "    model_pixel_scale = metadata.get(33550)\n",
    "    pixel_scale_x, pixel_scale_y = model_pixel_scale[0], model_pixel_scale[1]\n",
    "    latitude = metadata.get(33922)[4]\n",
    "    meters_per_degree_lat = 111319.9\n",
    "    meters_per_degree_lon = meters_per_degree_lat * math.cos(math.radians(latitude))\n",
    "    gsd_x = pixel_scale_x * meters_per_degree_lon\n",
    "    gsd_y = pixel_scale_y * meters_per_degree_lat"
   ]
  },
  {
   "cell_type": "markdown",
   "metadata": {},
   "source": [
    "## **Calculate the Pixel of road**\n",
    "\n",
    "### **Description of the Code**\n",
    "The code performs the following steps:\n",
    "\n",
    "1. **Load the Mask Image**: Reads the road mask image in grayscale using OpenCV (`cv2.imread`).\n",
    "2. **Convert to Binary Mask**: Converts the grayscale image into a binary mask where road pixels are assigned `1`, and non-road pixels are `0`.\n",
    "3. **Calculate Pixel Statistics**:\n",
    "   - Counts the total number of road pixels.\n",
    "   - Counts the total number of non-road pixels.\n",
    "   - Calculates the total number of pixels in the image.\n",
    "4. **Identify Connected Components**:\n",
    "   - Uses `cv2.connectedComponents()` to label each separate connected road component in the binary mask.\n",
    "5. **Create a Colored Mask for Visualization**:\n",
    "   - Initializes an empty color mask.\n",
    "   - Iterates through each connected component (excluding the background).\n",
    "   - Assigns each connected road component a unique random color.\n",
    "6. **Generate an Output Image**:\n",
    "   - Converts the colored mask into a format suitable for display (`BGR` format).\n",
    "   - Places labels on each identified road component at their centroid using `cv2.putText()`.\n",
    "\n",
    "### **Techniques Used in the Code**\n",
    "#### 1. **Image Processing with OpenCV**\n",
    "   - **Grayscale Conversion** (`cv2.IMREAD_GRAYSCALE`): Reads the image in a single channel (black & white) format.\n",
    "   - **Binary Masking**: Converts pixel values into a binary format (`1` for road, `0` for non-road).\n",
    "   - **Connected Components Analysis** (`cv2.connectedComponents`): Identifies and labels separate connected regions.\n",
    "   - **Color Masking**: Creates a 3-channel (RGB) image where each detected road component gets a random color.\n",
    "   - **Text Annotation** (`cv2.putText`): Writes text labels on detected road regions.\n",
    "\n",
    "#### 2. **Mathematical & Computer Vision Techniques**\n",
    "   - **Binary Thresholding**: Converts the grayscale image into a binary format.\n",
    "   - **Connected Component Labeling**: A fundamental technique in computer vision for segmenting distinct objects.\n",
    "   - **Statistical Analysis**: Computes the number of pixels in road and non-road areas.\n",
    "   - **Centroid Calculation**: Uses `np.argwhere().mean(axis=0)` to compute the mean position (centroid) of each road component.\n",
    "\n",
    "#### 3. **Randomized Coloring for Visualization**\n",
    "   - **`np.random.randint(100, 255)`**: Generates random colors within a bright range to distinguish road segments.\n",
    "   - Ensures that each connected road component appears uniquely colored for easy identification.\n"
   ]
  },
  {
   "cell_type": "code",
   "execution_count": 7,
   "metadata": {},
   "outputs": [],
   "source": [
    "mask_img = cv2.imread(mask_path, cv2.IMREAD_GRAYSCALE)\n",
    "\n",
    "binary_mask = (mask_img > 0).astype(np.uint8)\n",
    "\n",
    "total_road_pixels = np.sum(binary_mask == 1)\n",
    "total_non_road_pixels = np.sum(binary_mask == 0)\n",
    "total_pixels = binary_mask.size \n",
    "\n",
    "num_labels, labels = cv2.connectedComponents(binary_mask)\n",
    "\n",
    "colored_mask = np.zeros((mask_img.shape[0], mask_img.shape[1], 3), dtype=np.uint8)\n",
    "\n",
    "road_pixel_counts = {}\n",
    "for label in range(1, num_labels):  \n",
    "    road_pixels = np.sum(labels == label)\n",
    "    road_pixel_counts[label] = road_pixels\n",
    "    \n",
    "    colored_mask[labels == label] = [np.random.randint(100, 255), np.random.randint(100, 255), np.random.randint(100, 255)]\n",
    "\n",
    "output_image = cv2.cvtColor(colored_mask, cv2.COLOR_RGB2BGR)\n",
    "\n",
    "\n",
    "for label in range(1, num_labels):\n",
    "    y, x = np.argwhere(labels == label).mean(axis=0).astype(int) \n",
    "    cv2.putText(output_image, f\"Road {label}\", (x, y), cv2.FONT_HERSHEY_SIMPLEX, \n",
    "                0.6, (255, 255, 255), 2, cv2.LINE_AA)"
   ]
  },
  {
   "cell_type": "markdown",
   "metadata": {},
   "source": [
    "## **Computation of Road Dimensions from Image and Conversion to Real-World Measurements**\n",
    "### **Description of the Code**\n",
    "- This code **analyzes the size and shape of each road component** in a segmented road mask.\n",
    "- It first **computes road dimensions in pixels** and then **converts them into real-world measurements (meters)** using **Ground Sample Distance (GSD)**.\n",
    "- The output provides a dictionary containing:\n",
    "  - **Average horizontal width (pixels & meters)**\n",
    "  - **Average vertical height (pixels & meters)**\n",
    "  - **Widest section (min of horizontal & vertical distances, in pixels & meters)**\n",
    "  - *(Optional: Length measurement using `max()` is commented out but available if needed.)*\n",
    "- Converts **road dimensions from pixels to meters** using **GSD values** (`gsd_x`, `gsd_y`).\n",
    "- Outputs real-world values for **road width and height**.\n",
    "- The calculation assumes **an orthogonal view**, where `gsd_x` and `gsd_y` represent actual distances in meters.\n",
    "- The road width and (optional) length are stored in the `road_dimensions` dictionary.\n",
    "\n",
    "### **Techniques Used**\n",
    "#### 1. **Connected Component Analysis**\n",
    "   - The `labels` array obtained from `cv2.connectedComponents()` assigns a unique integer label to each connected road component.\n",
    "   - The code extracts dimensions for each labeled region.\n",
    "\n",
    "#### 2. **Pixel Distance Calculation**\n",
    "   - **Horizontal width**: Measures the difference between the leftmost and rightmost pixels in each row.\n",
    "   - **Vertical height**: Measures the difference between the topmost and bottom-most pixels in each column.\n",
    "   - Uses `np.where(labels[row] == label)[0]` to find pixel positions.\n",
    "\n",
    "#### 3. **Statistical Analysis**\n",
    "   - **Mean Calculation (`np.mean`)**:\n",
    "     - Averages horizontal and vertical distances to approximate road dimensions.\n",
    "   - **Min-Max Width & Length (`min/max`)**:\n",
    "     - Determines the smaller dimension as **\"wide\"** and the larger one as **\"length\"**.\n",
    "#### 4. **Ground Sample Distance (GSD) Conversion**\n",
    "   - **GSD** represents the **real-world size of a single pixel** in meters.\n",
    "   - `gsd_x`: Horizontal GSD (meters per pixel in x-direction).\n",
    "   - `gsd_y`: Vertical GSD (meters per pixel in y-direction).\n",
    "   - Each pixel measurement is multiplied by the respective GSD to convert pixel distances into real-world meters.\n",
    "\n",
    "#### 5. **Min-Max Dimension Selection**\n",
    "   - **Width Calculation (`min()`)**:\n",
    "     - The narrowest dimension is assigned as the **width** of the road.\n",
    "   - **Length Calculation (`max()`, commented out)**:\n",
    "     - The longest dimension would be the **length** of the road.\n"
   ]
  },
  {
   "cell_type": "code",
   "execution_count": null,
   "metadata": {},
   "outputs": [],
   "source": [
    "\n",
    "road_dimensions = {}\n",
    "for label in range(1, num_labels):  # ignoring background (label 0)\n",
    "    # Horizontal distances (row-wise)\n",
    "    horizontal_distances = []\n",
    "    for row in range(labels.shape[0]):\n",
    "        indices = np.where(labels[row] == label)[0]\n",
    "        if indices.size > 0:\n",
    "            horizontal_distances.append(indices[-1] - indices[0])\n",
    "    avg_horizontal = np.mean(horizontal_distances) if horizontal_distances else 0\n",
    "\n",
    "    # Vertical distances (column-wise)\n",
    "    vertical_distances = []\n",
    "    for col in range(labels.shape[1]):\n",
    "        indices = np.where(labels[:, col] == label)[0]\n",
    "        if indices.size > 0:\n",
    "            vertical_distances.append(indices[-1] - indices[0])\n",
    "    avg_vertical = np.mean(vertical_distances) if vertical_distances else 0\n",
    "\n",
    "    wide = min(avg_horizontal, avg_vertical)\n",
    "    length = max(avg_horizontal, avg_vertical)\n",
    "    \n",
    "    road_dimensions[label] = {\n",
    "        \"avg_horizontal_pixel\": avg_horizontal,\n",
    "        \"avg_vertical_pixel\": avg_vertical,\n",
    "        \"wide_pixel\": wide,\n",
    "        # \"length\": length\n",
    "    }\n",
    "\n",
    "for label in road_dimensions:\n",
    "    road_dimensions[label]['avg_horizontal_meter'] = road_dimensions[label]['avg_horizontal_pixel'] * gsd_x\n",
    "    road_dimensions[label]['avg_vertical_meter'] = road_dimensions[label]['avg_vertical_pixel'] * gsd_y\n",
    "    road_dimensions[label]['width in Meter'] = min(road_dimensions[label]['avg_horizontal_meter'], road_dimensions[label]['avg_vertical_meter'])\n",
    "    # road_dimensions[label]['length_m'] = max(road_dimensions[label]['avg_horizontal_m'], road_dimensions[label]['avg_vertical_m'])"
   ]
  },
  {
   "cell_type": "markdown",
   "metadata": {},
   "source": [
    "# Outcome"
   ]
  },
  {
   "cell_type": "code",
   "execution_count": 15,
   "metadata": {},
   "outputs": [
    {
     "data": {
      "image/png": "[encoded data removed]",
      "text/plain": [
       "<Figure size 1000x1000 with 1 Axes>"
      ]
     },
     "metadata": {},
     "output_type": "display_data"
    },
    {
     "name": "stdout",
     "output_type": "stream",
     "text": [
      "===============================================================================================\n",
      "=== Road Pixel Counts (Per Road) ===\n",
      " Road  Pixel Count\n",
      "    1         7277\n",
      "    2         7240\n",
      "    3         2206\n",
      "    4         4784\n",
      "    5         4876\n",
      "===============================================================================================\n",
      "\n",
      "=== Road Dimensions (Horizontal and Vertical) ===\n",
      "      avg_horizontal_pixel  avg_vertical_pixel  wide_pixel\n",
      "Road                                                      \n",
      "1                18.000000          382.000000   18.000000\n",
      "2                19.000000          361.000000   19.000000\n",
      "3                22.468085           25.261905   22.468085\n",
      "4               207.000000           22.000000   22.000000\n",
      "5               211.000000           22.000000   22.000000\n",
      "===============================================================================================\n",
      "\n",
      "=== Road Dimensions (Horizontal and Vertical) ===\n",
      "Empty DataFrame\n",
      "Columns: []\n",
      "Index: []\n",
      "===============================================================================================\n",
      "Latitude extracted for GSD calculation: 27.9125986509454\n",
      "meters_per_degree_lat: 111319.9, meters_per_degree_lon: 98369.24524576397\n",
      "Ground Sampling Distance (GSD) calculated: gsd_x = 0.2654109655028968, gsd_y = 0.3003532462290768\n"
     ]
    }
   ],
   "source": [
    "plt.figure(figsize=(10, 10))\n",
    "plt.imshow(cv2.cvtColor(output_image, cv2.COLOR_BGR2RGB))\n",
    "plt.title(\"Segmented Roads with Labels\")\n",
    "plt.axis(\"off\")\n",
    "plt.show()\n",
    "\n",
    "print(\"===============================================================================================\")\n",
    "df_pixel_counts = pd.DataFrame(list(road_pixel_counts.items()), columns=[\"Road\", \"Pixel Count\"])\n",
    "print(\"=== Road Pixel Counts (Per Road) ===\")\n",
    "print(df_pixel_counts.to_string(index=False))\n",
    "\n",
    "print(\"===============================================================================================\")\n",
    "df_road_dimensions = pd.DataFrame.from_dict(road_dimensions, orient=\"index\")\n",
    "df_road_dimensions.index.name = \"Road\"\n",
    "print(\"\\n=== Road Dimensions (Horizontal and Vertical) ===\")\n",
    "print(df_road_dimensions.to_string())\n",
    "\n",
    "print(\"===============================================================================================\")\n",
    "print(\"Latitude extracted for GSD calculation:\", latitude)\n",
    "print(f\"meters_per_degree_lat: {meters_per_degree_lat}, meters_per_degree_lon: {meters_per_degree_lon}\")\n",
    "print(f\"Ground Sampling Distance (GSD) calculated: gsd_x = {gsd_x}, gsd_y = {gsd_y}\")\n"
   ]
  },
  {
   "cell_type": "code",
   "execution_count": null,
   "metadata": {},
   "outputs": [],
   "source": []
  }
 ],
 "metadata": {
  "kernelspec": {
   "display_name": ".venv_rci",
   "language": "python",
   "name": "python3"
  },
  "language_info": {
   "codemirror_mode": {
    "name": "ipython",
    "version": 3
   },
   "file_extension": ".py",
   "mimetype": "text/x-python",
   "name": "python",
   "nbconvert_exporter": "python",
   "pygments_lexer": "ipython3",
   "version": "3.12.9"
  }
 },
 "nbformat": 4,
 "nbformat_minor": 2
}
